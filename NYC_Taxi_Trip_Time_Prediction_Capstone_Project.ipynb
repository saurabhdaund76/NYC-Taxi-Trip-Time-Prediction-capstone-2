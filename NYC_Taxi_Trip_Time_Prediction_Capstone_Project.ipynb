{
  "nbformat": 4,
  "nbformat_minor": 0,
  "metadata": {
    "colab": {
      "name": " NYC Taxi Trip Time Prediction - Capstone Project.ipynb",
      "provenance": [],
      "collapsed_sections": [],
      "include_colab_link": true
    },
    "kernelspec": {
      "display_name": "Python 3",
      "language": "python",
      "name": "python3"
    },
    "language_info": {
      "codemirror_mode": {
        "name": "ipython",
        "version": 3
      },
      "file_extension": ".py",
      "mimetype": "text/x-python",
      "name": "python",
      "nbconvert_exporter": "python",
      "pygments_lexer": "ipython3",
      "version": "3.6.6"
    }
  },
  "cells": [
    {
      "cell_type": "markdown",
      "metadata": {
        "id": "view-in-github",
        "colab_type": "text"
      },
      "source": [
        "<a href=\"https://colab.research.google.com/github/saurabhdaund76/NYC-Taxi-Trip-Time-Prediction-capstone-2/blob/main/NYC_Taxi_Trip_Time_Prediction_Capstone_Project.ipynb\" target=\"_parent\"><img src=\"https://colab.research.google.com/assets/colab-badge.svg\" alt=\"Open In Colab\"/></a>"
      ]
    },
    {
      "cell_type": "markdown",
      "metadata": {
        "id": "tOGC-qoyhJeX"
      },
      "source": [
        "# <b><u> Project Title : Taxi trip time Prediction : Predicting total ride duration of taxi trips in New York City</u></b>"
      ]
    },
    {
      "cell_type": "markdown",
      "metadata": {
        "id": "Y06xIdG26kRF"
      },
      "source": [
        "## <b> Problem Description </b>\n",
        "\n",
        "### Your task is to build a model that predicts the total ride duration of taxi trips in New York City. Your primary dataset is one released by the NYC Taxi and Limousine Commission, which includes pickup time, geo-coordinates, number of passengers, and several other variables."
      ]
    },
    {
      "cell_type": "markdown",
      "metadata": {
        "id": "WWeU1f9bwqQq"
      },
      "source": [
        "## <b> Data Description </b>\n",
        "\n",
        "### The dataset is based on the 2016 NYC Yellow Cab trip record data made available in Big Query on Google Cloud Platform. The data was originally published by the NYC Taxi and Limousine Commission (TLC). The data was sampled and cleaned for the purposes of this project. Based on individual trip attributes, you should predict the duration of each trip in the test set.\n",
        "\n",
        "### <b>NYC Taxi Data.csv</b> - the training set (contains 1458644 trip records)\n",
        "\n",
        "\n",
        "### Data fields\n",
        "* #### id - a unique identifier for each trip\n",
        "* #### vendor_id - a code indicating the provider associated with the trip record\n",
        "* #### pickup_datetime - date and time when the meter was engaged\n",
        "* #### dropoff_datetime - date and time when the meter was disengaged\n",
        "* #### passenger_count - the number of passengers in the vehicle (driver entered value)\n",
        "* #### pickup_longitude - the longitude where the meter was engaged\n",
        "* #### pickup_latitude - the latitude where the meter was engaged\n",
        "* #### dropoff_longitude - the longitude where the meter was disengaged\n",
        "* #### dropoff_latitude - the latitude where the meter was disengaged\n",
        "* #### store_and_fwd_flag - This flag indicates whether the trip record was held in vehicle memory before sending to the vendor because the vehicle did not have a connection to the server - Y=store and forward; N=not a store and forward trip\n",
        "* #### trip_duration - duration of the trip in seconds"
      ]
    },
    {
      "cell_type": "code",
      "metadata": {
        "id": "GgSKTz2p9Ozg"
      },
      "source": [
        "import pandas as pd \n",
        "import numpy as np\n",
        "import matplotlib.pyplot as plt\n",
        "import seaborn as sns\n",
        "from datetime import datetime\n"
      ],
      "execution_count": 2,
      "outputs": []
    },
    {
      "cell_type": "code",
      "metadata": {
        "colab": {
          "base_uri": "https://localhost:8080/"
        },
        "id": "dByMsuzT8Tnw",
        "outputId": "64e51ba6-5a21-4894-9f57-ca5aff1976d5"
      },
      "source": [
        "\n",
        "from google.colab import drive\n",
        "drive.mount('/content/drive')"
      ],
      "execution_count": 4,
      "outputs": [
        {
          "output_type": "stream",
          "name": "stdout",
          "text": [
            "Mounted at /content/drive\n"
          ]
        }
      ]
    },
    {
      "cell_type": "code",
      "metadata": {
        "id": "lDd7AnY09GQB"
      },
      "source": [
        "df = pd.read_csv('/content/drive/MyDrive/ML projects/NYC Taxi Data.csv')"
      ],
      "execution_count": 124,
      "outputs": []
    },
    {
      "cell_type": "code",
      "metadata": {
        "colab": {
          "base_uri": "https://localhost:8080/",
          "height": 287
        },
        "id": "IJLXTa1G9ywL",
        "outputId": "983aa650-009b-4251-ef77-b39a956e752c"
      },
      "source": [
        "# cheaking the dataset using 1st five rows \n",
        "df.head()"
      ],
      "execution_count": 125,
      "outputs": [
        {
          "output_type": "execute_result",
          "data": {
            "text/html": [
              "<div>\n",
              "<style scoped>\n",
              "    .dataframe tbody tr th:only-of-type {\n",
              "        vertical-align: middle;\n",
              "    }\n",
              "\n",
              "    .dataframe tbody tr th {\n",
              "        vertical-align: top;\n",
              "    }\n",
              "\n",
              "    .dataframe thead th {\n",
              "        text-align: right;\n",
              "    }\n",
              "</style>\n",
              "<table border=\"1\" class=\"dataframe\">\n",
              "  <thead>\n",
              "    <tr style=\"text-align: right;\">\n",
              "      <th></th>\n",
              "      <th>id</th>\n",
              "      <th>vendor_id</th>\n",
              "      <th>pickup_datetime</th>\n",
              "      <th>dropoff_datetime</th>\n",
              "      <th>passenger_count</th>\n",
              "      <th>pickup_longitude</th>\n",
              "      <th>pickup_latitude</th>\n",
              "      <th>dropoff_longitude</th>\n",
              "      <th>dropoff_latitude</th>\n",
              "      <th>store_and_fwd_flag</th>\n",
              "      <th>trip_duration</th>\n",
              "    </tr>\n",
              "  </thead>\n",
              "  <tbody>\n",
              "    <tr>\n",
              "      <th>0</th>\n",
              "      <td>id2875421</td>\n",
              "      <td>2</td>\n",
              "      <td>2016-03-14 17:24:55</td>\n",
              "      <td>2016-03-14 17:32:30</td>\n",
              "      <td>1</td>\n",
              "      <td>-73.982155</td>\n",
              "      <td>40.767937</td>\n",
              "      <td>-73.964630</td>\n",
              "      <td>40.765602</td>\n",
              "      <td>N</td>\n",
              "      <td>455</td>\n",
              "    </tr>\n",
              "    <tr>\n",
              "      <th>1</th>\n",
              "      <td>id2377394</td>\n",
              "      <td>1</td>\n",
              "      <td>2016-06-12 00:43:35</td>\n",
              "      <td>2016-06-12 00:54:38</td>\n",
              "      <td>1</td>\n",
              "      <td>-73.980415</td>\n",
              "      <td>40.738564</td>\n",
              "      <td>-73.999481</td>\n",
              "      <td>40.731152</td>\n",
              "      <td>N</td>\n",
              "      <td>663</td>\n",
              "    </tr>\n",
              "    <tr>\n",
              "      <th>2</th>\n",
              "      <td>id3858529</td>\n",
              "      <td>2</td>\n",
              "      <td>2016-01-19 11:35:24</td>\n",
              "      <td>2016-01-19 12:10:48</td>\n",
              "      <td>1</td>\n",
              "      <td>-73.979027</td>\n",
              "      <td>40.763939</td>\n",
              "      <td>-74.005333</td>\n",
              "      <td>40.710087</td>\n",
              "      <td>N</td>\n",
              "      <td>2124</td>\n",
              "    </tr>\n",
              "    <tr>\n",
              "      <th>3</th>\n",
              "      <td>id3504673</td>\n",
              "      <td>2</td>\n",
              "      <td>2016-04-06 19:32:31</td>\n",
              "      <td>2016-04-06 19:39:40</td>\n",
              "      <td>1</td>\n",
              "      <td>-74.010040</td>\n",
              "      <td>40.719971</td>\n",
              "      <td>-74.012268</td>\n",
              "      <td>40.706718</td>\n",
              "      <td>N</td>\n",
              "      <td>429</td>\n",
              "    </tr>\n",
              "    <tr>\n",
              "      <th>4</th>\n",
              "      <td>id2181028</td>\n",
              "      <td>2</td>\n",
              "      <td>2016-03-26 13:30:55</td>\n",
              "      <td>2016-03-26 13:38:10</td>\n",
              "      <td>1</td>\n",
              "      <td>-73.973053</td>\n",
              "      <td>40.793209</td>\n",
              "      <td>-73.972923</td>\n",
              "      <td>40.782520</td>\n",
              "      <td>N</td>\n",
              "      <td>435</td>\n",
              "    </tr>\n",
              "  </tbody>\n",
              "</table>\n",
              "</div>"
            ],
            "text/plain": [
              "          id  vendor_id  ... store_and_fwd_flag trip_duration\n",
              "0  id2875421          2  ...                  N           455\n",
              "1  id2377394          1  ...                  N           663\n",
              "2  id3858529          2  ...                  N          2124\n",
              "3  id3504673          2  ...                  N           429\n",
              "4  id2181028          2  ...                  N           435\n",
              "\n",
              "[5 rows x 11 columns]"
            ]
          },
          "metadata": {},
          "execution_count": 125
        }
      ]
    },
    {
      "cell_type": "code",
      "metadata": {
        "colab": {
          "base_uri": "https://localhost:8080/"
        },
        "id": "T-DHoGSe91Zb",
        "outputId": "70b4c8c2-1874-44ed-f47c-92a18c8761a0"
      },
      "source": [
        "# total ids \n",
        "len(df['id'].unique())"
      ],
      "execution_count": 126,
      "outputs": [
        {
          "output_type": "execute_result",
          "data": {
            "text/plain": [
              "1458644"
            ]
          },
          "metadata": {},
          "execution_count": 126
        }
      ]
    },
    {
      "cell_type": "code",
      "metadata": {
        "colab": {
          "base_uri": "https://localhost:8080/"
        },
        "id": "rgEkE_yN99yB",
        "outputId": "c3c5fb9f-bc31-4a83-ec59-82393f6d957a"
      },
      "source": [
        "# total of columns \n",
        "df.columns"
      ],
      "execution_count": 127,
      "outputs": [
        {
          "output_type": "execute_result",
          "data": {
            "text/plain": [
              "Index(['id', 'vendor_id', 'pickup_datetime', 'dropoff_datetime',\n",
              "       'passenger_count', 'pickup_longitude', 'pickup_latitude',\n",
              "       'dropoff_longitude', 'dropoff_latitude', 'store_and_fwd_flag',\n",
              "       'trip_duration'],\n",
              "      dtype='object')"
            ]
          },
          "metadata": {},
          "execution_count": 127
        }
      ]
    },
    {
      "cell_type": "code",
      "metadata": {
        "colab": {
          "base_uri": "https://localhost:8080/",
          "height": 295
        },
        "id": "QmLvWuI2-xLE",
        "outputId": "592c5924-874e-4ad0-b13d-0b85590f1e02"
      },
      "source": [
        "df.describe()  # overview of the dataset mean max std "
      ],
      "execution_count": 128,
      "outputs": [
        {
          "output_type": "execute_result",
          "data": {
            "text/html": [
              "<div>\n",
              "<style scoped>\n",
              "    .dataframe tbody tr th:only-of-type {\n",
              "        vertical-align: middle;\n",
              "    }\n",
              "\n",
              "    .dataframe tbody tr th {\n",
              "        vertical-align: top;\n",
              "    }\n",
              "\n",
              "    .dataframe thead th {\n",
              "        text-align: right;\n",
              "    }\n",
              "</style>\n",
              "<table border=\"1\" class=\"dataframe\">\n",
              "  <thead>\n",
              "    <tr style=\"text-align: right;\">\n",
              "      <th></th>\n",
              "      <th>vendor_id</th>\n",
              "      <th>passenger_count</th>\n",
              "      <th>pickup_longitude</th>\n",
              "      <th>pickup_latitude</th>\n",
              "      <th>dropoff_longitude</th>\n",
              "      <th>dropoff_latitude</th>\n",
              "      <th>trip_duration</th>\n",
              "    </tr>\n",
              "  </thead>\n",
              "  <tbody>\n",
              "    <tr>\n",
              "      <th>count</th>\n",
              "      <td>1.458644e+06</td>\n",
              "      <td>1.458644e+06</td>\n",
              "      <td>1.458644e+06</td>\n",
              "      <td>1.458644e+06</td>\n",
              "      <td>1.458644e+06</td>\n",
              "      <td>1.458644e+06</td>\n",
              "      <td>1.458644e+06</td>\n",
              "    </tr>\n",
              "    <tr>\n",
              "      <th>mean</th>\n",
              "      <td>1.534950e+00</td>\n",
              "      <td>1.664530e+00</td>\n",
              "      <td>-7.397349e+01</td>\n",
              "      <td>4.075092e+01</td>\n",
              "      <td>-7.397342e+01</td>\n",
              "      <td>4.075180e+01</td>\n",
              "      <td>9.594923e+02</td>\n",
              "    </tr>\n",
              "    <tr>\n",
              "      <th>std</th>\n",
              "      <td>4.987772e-01</td>\n",
              "      <td>1.314242e+00</td>\n",
              "      <td>7.090186e-02</td>\n",
              "      <td>3.288119e-02</td>\n",
              "      <td>7.064327e-02</td>\n",
              "      <td>3.589056e-02</td>\n",
              "      <td>5.237432e+03</td>\n",
              "    </tr>\n",
              "    <tr>\n",
              "      <th>min</th>\n",
              "      <td>1.000000e+00</td>\n",
              "      <td>0.000000e+00</td>\n",
              "      <td>-1.219333e+02</td>\n",
              "      <td>3.435970e+01</td>\n",
              "      <td>-1.219333e+02</td>\n",
              "      <td>3.218114e+01</td>\n",
              "      <td>1.000000e+00</td>\n",
              "    </tr>\n",
              "    <tr>\n",
              "      <th>25%</th>\n",
              "      <td>1.000000e+00</td>\n",
              "      <td>1.000000e+00</td>\n",
              "      <td>-7.399187e+01</td>\n",
              "      <td>4.073735e+01</td>\n",
              "      <td>-7.399133e+01</td>\n",
              "      <td>4.073588e+01</td>\n",
              "      <td>3.970000e+02</td>\n",
              "    </tr>\n",
              "    <tr>\n",
              "      <th>50%</th>\n",
              "      <td>2.000000e+00</td>\n",
              "      <td>1.000000e+00</td>\n",
              "      <td>-7.398174e+01</td>\n",
              "      <td>4.075410e+01</td>\n",
              "      <td>-7.397975e+01</td>\n",
              "      <td>4.075452e+01</td>\n",
              "      <td>6.620000e+02</td>\n",
              "    </tr>\n",
              "    <tr>\n",
              "      <th>75%</th>\n",
              "      <td>2.000000e+00</td>\n",
              "      <td>2.000000e+00</td>\n",
              "      <td>-7.396733e+01</td>\n",
              "      <td>4.076836e+01</td>\n",
              "      <td>-7.396301e+01</td>\n",
              "      <td>4.076981e+01</td>\n",
              "      <td>1.075000e+03</td>\n",
              "    </tr>\n",
              "    <tr>\n",
              "      <th>max</th>\n",
              "      <td>2.000000e+00</td>\n",
              "      <td>9.000000e+00</td>\n",
              "      <td>-6.133553e+01</td>\n",
              "      <td>5.188108e+01</td>\n",
              "      <td>-6.133553e+01</td>\n",
              "      <td>4.392103e+01</td>\n",
              "      <td>3.526282e+06</td>\n",
              "    </tr>\n",
              "  </tbody>\n",
              "</table>\n",
              "</div>"
            ],
            "text/plain": [
              "          vendor_id  passenger_count  ...  dropoff_latitude  trip_duration\n",
              "count  1.458644e+06     1.458644e+06  ...      1.458644e+06   1.458644e+06\n",
              "mean   1.534950e+00     1.664530e+00  ...      4.075180e+01   9.594923e+02\n",
              "std    4.987772e-01     1.314242e+00  ...      3.589056e-02   5.237432e+03\n",
              "min    1.000000e+00     0.000000e+00  ...      3.218114e+01   1.000000e+00\n",
              "25%    1.000000e+00     1.000000e+00  ...      4.073588e+01   3.970000e+02\n",
              "50%    2.000000e+00     1.000000e+00  ...      4.075452e+01   6.620000e+02\n",
              "75%    2.000000e+00     2.000000e+00  ...      4.076981e+01   1.075000e+03\n",
              "max    2.000000e+00     9.000000e+00  ...      4.392103e+01   3.526282e+06\n",
              "\n",
              "[8 rows x 7 columns]"
            ]
          },
          "metadata": {},
          "execution_count": 128
        }
      ]
    },
    {
      "cell_type": "code",
      "metadata": {
        "colab": {
          "base_uri": "https://localhost:8080/"
        },
        "id": "DmlLaIxv-8LI",
        "outputId": "00d311a0-e5fc-4115-e2a1-c1a351d918e9"
      },
      "source": [
        "df.info()"
      ],
      "execution_count": 129,
      "outputs": [
        {
          "output_type": "stream",
          "name": "stdout",
          "text": [
            "<class 'pandas.core.frame.DataFrame'>\n",
            "RangeIndex: 1458644 entries, 0 to 1458643\n",
            "Data columns (total 11 columns):\n",
            " #   Column              Non-Null Count    Dtype  \n",
            "---  ------              --------------    -----  \n",
            " 0   id                  1458644 non-null  object \n",
            " 1   vendor_id           1458644 non-null  int64  \n",
            " 2   pickup_datetime     1458644 non-null  object \n",
            " 3   dropoff_datetime    1458644 non-null  object \n",
            " 4   passenger_count     1458644 non-null  int64  \n",
            " 5   pickup_longitude    1458644 non-null  float64\n",
            " 6   pickup_latitude     1458644 non-null  float64\n",
            " 7   dropoff_longitude   1458644 non-null  float64\n",
            " 8   dropoff_latitude    1458644 non-null  float64\n",
            " 9   store_and_fwd_flag  1458644 non-null  object \n",
            " 10  trip_duration       1458644 non-null  int64  \n",
            "dtypes: float64(4), int64(3), object(4)\n",
            "memory usage: 122.4+ MB\n"
          ]
        }
      ]
    },
    {
      "cell_type": "code",
      "metadata": {
        "colab": {
          "base_uri": "https://localhost:8080/"
        },
        "id": "ig-Esbck_2cv",
        "outputId": "7876e219-34ae-4971-dabb-1187482f372e"
      },
      "source": [
        "df.shape"
      ],
      "execution_count": 130,
      "outputs": [
        {
          "output_type": "execute_result",
          "data": {
            "text/plain": [
              "(1458644, 11)"
            ]
          },
          "metadata": {},
          "execution_count": 130
        }
      ]
    },
    {
      "cell_type": "code",
      "metadata": {
        "colab": {
          "base_uri": "https://localhost:8080/"
        },
        "id": "0SH3EU-KbfRF",
        "outputId": "8b348f6b-b0fd-4c5f-c03b-799e3900d6d6"
      },
      "source": [
        "df.isnull().sum()"
      ],
      "execution_count": 131,
      "outputs": [
        {
          "output_type": "execute_result",
          "data": {
            "text/plain": [
              "id                    0\n",
              "vendor_id             0\n",
              "pickup_datetime       0\n",
              "dropoff_datetime      0\n",
              "passenger_count       0\n",
              "pickup_longitude      0\n",
              "pickup_latitude       0\n",
              "dropoff_longitude     0\n",
              "dropoff_latitude      0\n",
              "store_and_fwd_flag    0\n",
              "trip_duration         0\n",
              "dtype: int64"
            ]
          },
          "metadata": {},
          "execution_count": 131
        }
      ]
    },
    {
      "cell_type": "code",
      "metadata": {
        "id": "JPvnJSdq_5-w"
      },
      "source": [
        "df_new = df.copy()"
      ],
      "execution_count": 132,
      "outputs": []
    },
    {
      "cell_type": "code",
      "metadata": {
        "id": "sO02a7o81KNj"
      },
      "source": [
        "df.drop_duplicates(keep = False ,inplace=True)"
      ],
      "execution_count": 133,
      "outputs": []
    },
    {
      "cell_type": "code",
      "metadata": {
        "colab": {
          "base_uri": "https://localhost:8080/"
        },
        "id": "pX05yJMzAwcQ",
        "outputId": "db4ac533-d72e-463f-97aa-19f22d731132"
      },
      "source": [
        "df['pickup_datetime'].value_counts()"
      ],
      "execution_count": 134,
      "outputs": [
        {
          "output_type": "execute_result",
          "data": {
            "text/plain": [
              "2016-02-09 21:03:38    5\n",
              "2016-03-04 08:07:34    5\n",
              "2016-05-07 13:18:07    5\n",
              "2016-04-05 18:55:21    5\n",
              "2016-01-12 18:48:44    5\n",
              "                      ..\n",
              "2016-06-30 12:59:15    1\n",
              "2016-04-03 03:54:22    1\n",
              "2016-01-25 15:14:19    1\n",
              "2016-01-23 08:57:29    1\n",
              "2016-05-23 13:42:37    1\n",
              "Name: pickup_datetime, Length: 1380222, dtype: int64"
            ]
          },
          "metadata": {},
          "execution_count": 134
        }
      ]
    },
    {
      "cell_type": "code",
      "metadata": {
        "colab": {
          "base_uri": "https://localhost:8080/"
        },
        "id": "eKDRKo-PAmKj",
        "outputId": "fe11b198-edb5-4422-b94b-032f24e2a85f"
      },
      "source": [
        "list_of_numeric_columns = df.describe().columns\n",
        "list_of_numeric_columns"
      ],
      "execution_count": 135,
      "outputs": [
        {
          "output_type": "execute_result",
          "data": {
            "text/plain": [
              "Index(['vendor_id', 'passenger_count', 'pickup_longitude', 'pickup_latitude',\n",
              "       'dropoff_longitude', 'dropoff_latitude', 'trip_duration'],\n",
              "      dtype='object')"
            ]
          },
          "metadata": {},
          "execution_count": 135
        }
      ]
    },
    {
      "cell_type": "code",
      "metadata": {
        "id": "t5AjqPossSZX"
      },
      "source": [
        ""
      ],
      "execution_count": null,
      "outputs": []
    },
    {
      "cell_type": "code",
      "metadata": {
        "colab": {
          "base_uri": "https://localhost:8080/",
          "height": 1000
        },
        "id": "a-xrtmjEbpGT",
        "outputId": "cfb7045b-70f5-44ab-f952-1ccf6c59d949"
      },
      "source": [
        "\n",
        "# plot a bar plot for each numerical feature count\n",
        "for col in list_of_numeric_columns:\n",
        "    fig = plt.figure(figsize=(9, 6))\n",
        "    ax = fig.gca()\n",
        "    feature = df[col]\n",
        "    feature.hist(bins=50, ax = ax)\n",
        "    ax.axvline(feature.mean(), color='magenta', linestyle='dashed', linewidth=2)\n",
        "    ax.axvline(feature.median(), color='cyan', linestyle='dashed', linewidth=2)    \n",
        "    ax.set_title(col)\n",
        "plt.show()\n"
      ],
      "execution_count": 136,
      "outputs": [
        {
          "output_type": "display_data",
          "data": {
            "image/png": "[encoded data removed]",
            "text/plain": [
              "<Figure size 648x432 with 1 Axes>"
            ]
          },
          "metadata": {
            "needs_background": "light"
          }
        },
        {
          "output_type": "display_data",
          "data": {
            "image/png": "[encoded data removed]",
            "text/plain": [
              "<Figure size 648x432 with 1 Axes>"
            ]
          },
          "metadata": {
            "needs_background": "light"
          }
        },
        {
          "output_type": "display_data",
          "data": {
            "image/png": "[encoded data removed]",
            "text/plain": [
              "<Figure size 648x432 with 1 Axes>"
            ]
          },
          "metadata": {
            "needs_background": "light"
          }
        },
        {
          "output_type": "display_data",
          "data": {
            "image/png": "[encoded data removed]",
            "text/plain": [
              "<Figure size 648x432 with 1 Axes>"
            ]
          },
          "metadata": {
            "needs_background": "light"
          }
        },
        {
          "output_type": "display_data",
          "data": {
            "image/png": "[encoded data removed]",
            "text/plain": [
              "<Figure size 648x432 with 1 Axes>"
            ]
          },
          "metadata": {
            "needs_background": "light"
          }
        },
        {
          "output_type": "display_data",
          "data": {
            "image/png": "[encoded data removed]",
            "text/plain": [
              "<Figure size 648x432 with 1 Axes>"
            ]
          },
          "metadata": {
            "needs_background": "light"
          }
        },
        {
          "output_type": "display_data",
          "data": {
            "image/png": "[encoded data removed]",
            "text/plain": [
              "<Figure size 648x432 with 1 Axes>"
            ]
          },
          "metadata": {
            "needs_background": "light"
          }
        }
      ]
    },
    {
      "cell_type": "code",
      "metadata": {
        "colab": {
          "base_uri": "https://localhost:8080/"
        },
        "id": "4sYIgRqHhfTd",
        "outputId": "36ddd7c9-48f5-4f47-8a09-d7c57a4f9a8c"
      },
      "source": [
        "df['vendor_id'].value_counts()"
      ],
      "execution_count": 17,
      "outputs": [
        {
          "output_type": "execute_result",
          "data": {
            "text/plain": [
              "2    780302\n",
              "1    678342\n",
              "Name: vendor_id, dtype: int64"
            ]
          },
          "metadata": {},
          "execution_count": 17
        }
      ]
    },
    {
      "cell_type": "code",
      "metadata": {
        "colab": {
          "base_uri": "https://localhost:8080/",
          "height": 357
        },
        "id": "9giA1ZzmhfQk",
        "outputId": "b3bb4f63-4e8f-4008-86e1-a6110d027031"
      },
      "source": [
        "df['passenger_count'].value_counts().reset_index().rename({'index':'no_of_passengers'} , axis=1)"
      ],
      "execution_count": 18,
      "outputs": [
        {
          "output_type": "execute_result",
          "data": {
            "text/html": [
              "<div>\n",
              "<style scoped>\n",
              "    .dataframe tbody tr th:only-of-type {\n",
              "        vertical-align: middle;\n",
              "    }\n",
              "\n",
              "    .dataframe tbody tr th {\n",
              "        vertical-align: top;\n",
              "    }\n",
              "\n",
              "    .dataframe thead th {\n",
              "        text-align: right;\n",
              "    }\n",
              "</style>\n",
              "<table border=\"1\" class=\"dataframe\">\n",
              "  <thead>\n",
              "    <tr style=\"text-align: right;\">\n",
              "      <th></th>\n",
              "      <th>no_of_passengers</th>\n",
              "      <th>passenger_count</th>\n",
              "    </tr>\n",
              "  </thead>\n",
              "  <tbody>\n",
              "    <tr>\n",
              "      <th>0</th>\n",
              "      <td>1</td>\n",
              "      <td>1033540</td>\n",
              "    </tr>\n",
              "    <tr>\n",
              "      <th>1</th>\n",
              "      <td>2</td>\n",
              "      <td>210318</td>\n",
              "    </tr>\n",
              "    <tr>\n",
              "      <th>2</th>\n",
              "      <td>5</td>\n",
              "      <td>78088</td>\n",
              "    </tr>\n",
              "    <tr>\n",
              "      <th>3</th>\n",
              "      <td>3</td>\n",
              "      <td>59896</td>\n",
              "    </tr>\n",
              "    <tr>\n",
              "      <th>4</th>\n",
              "      <td>6</td>\n",
              "      <td>48333</td>\n",
              "    </tr>\n",
              "    <tr>\n",
              "      <th>5</th>\n",
              "      <td>4</td>\n",
              "      <td>28404</td>\n",
              "    </tr>\n",
              "    <tr>\n",
              "      <th>6</th>\n",
              "      <td>0</td>\n",
              "      <td>60</td>\n",
              "    </tr>\n",
              "    <tr>\n",
              "      <th>7</th>\n",
              "      <td>7</td>\n",
              "      <td>3</td>\n",
              "    </tr>\n",
              "    <tr>\n",
              "      <th>8</th>\n",
              "      <td>9</td>\n",
              "      <td>1</td>\n",
              "    </tr>\n",
              "    <tr>\n",
              "      <th>9</th>\n",
              "      <td>8</td>\n",
              "      <td>1</td>\n",
              "    </tr>\n",
              "  </tbody>\n",
              "</table>\n",
              "</div>"
            ],
            "text/plain": [
              "   no_of_passengers  passenger_count\n",
              "0                 1          1033540\n",
              "1                 2           210318\n",
              "2                 5            78088\n",
              "3                 3            59896\n",
              "4                 6            48333\n",
              "5                 4            28404\n",
              "6                 0               60\n",
              "7                 7                3\n",
              "8                 9                1\n",
              "9                 8                1"
            ]
          },
          "metadata": {},
          "execution_count": 18
        }
      ]
    },
    {
      "cell_type": "code",
      "metadata": {
        "id": "L07Bf6-_hfNx"
      },
      "source": [
        "# passengers with 0 count has no meaning so we will drop all these rows which anyhow wont affect the dataset\n",
        "df = df[df.passenger_count != 0]"
      ],
      "execution_count": 137,
      "outputs": []
    },
    {
      "cell_type": "code",
      "metadata": {
        "colab": {
          "base_uri": "https://localhost:8080/"
        },
        "id": "pLvuhi_zk6Kb",
        "outputId": "302b1187-87a4-4421-8c36-fe804d69a4d2"
      },
      "source": [
        "df.shape"
      ],
      "execution_count": 20,
      "outputs": [
        {
          "output_type": "execute_result",
          "data": {
            "text/plain": [
              "(1458584, 11)"
            ]
          },
          "metadata": {},
          "execution_count": 20
        }
      ]
    },
    {
      "cell_type": "code",
      "metadata": {
        "id": "hAJWFGnnhfMN"
      },
      "source": [
        "# converting object type date into datetime \n",
        "df['pickup_datetime'] = pd.to_datetime(df['pickup_datetime'])\n",
        "df['dropoff_datetime'] = pd.to_datetime(df['dropoff_datetime'])"
      ],
      "execution_count": 163,
      "outputs": []
    },
    {
      "cell_type": "code",
      "metadata": {
        "colab": {
          "base_uri": "https://localhost:8080/"
        },
        "id": "kzCCbzq9mGAA",
        "outputId": "16e7491f-07ff-40d3-f803-501c84793e22"
      },
      "source": [
        "df.dtypes # verify if object is converted to datetime"
      ],
      "execution_count": 164,
      "outputs": [
        {
          "output_type": "execute_result",
          "data": {
            "text/plain": [
              "id                            object\n",
              "vendor_id                      int64\n",
              "pickup_datetime       datetime64[ns]\n",
              "dropoff_datetime      datetime64[ns]\n",
              "passenger_count                int64\n",
              "pickup_longitude             float64\n",
              "pickup_latitude              float64\n",
              "dropoff_longitude            float64\n",
              "dropoff_latitude             float64\n",
              "store_and_fwd_flag            object\n",
              "trip_duration                  int64\n",
              "pickup_hour                    int64\n",
              "drop_hour                      int64\n",
              "time_zone                     object\n",
              "distance                     float64\n",
              "trip_duration_hour           float64\n",
              "dtype: object"
            ]
          },
          "metadata": {},
          "execution_count": 164
        }
      ]
    },
    {
      "cell_type": "code",
      "metadata": {
        "colab": {
          "base_uri": "https://localhost:8080/"
        },
        "id": "Hue6UR3DuBqp",
        "outputId": "ba834951-d3d6-4e81-c261-1cec4b4e407d"
      },
      "source": [
        "df['pickup_datetime'][0]"
      ],
      "execution_count": 24,
      "outputs": [
        {
          "output_type": "execute_result",
          "data": {
            "text/plain": [
              "Timestamp('2016-03-14 17:24:55')"
            ]
          },
          "metadata": {},
          "execution_count": 24
        }
      ]
    },
    {
      "cell_type": "code",
      "metadata": {
        "id": "-oNVYYQnuBn2"
      },
      "source": [
        "# for better vizualization we will convert pickup nad drop time columns to extract days of pickup and drop\n",
        "\n",
        "df['pick_day']= df['pickup_datetime'].dt.day_name()\n",
        "df['drop_day'] = df['dropoff_datetime'].dt.day_name()\n"
      ],
      "execution_count": 165,
      "outputs": []
    },
    {
      "cell_type": "code",
      "metadata": {
        "colab": {
          "base_uri": "https://localhost:8080/",
          "height": 389
        },
        "id": "l4qQ-DN_uBh2",
        "outputId": "1845b078-a2e5-428a-8351-c086a8ea5340"
      },
      "source": [
        "# we will plot countplot to see pickup days accoridng to count\n",
        "fig =plt.figure(figsize=(8,5))\n",
        "ax = fig.gca()\n",
        "sns.countplot(x='pick_day' , data=df)\n",
        "ax.set_title('pickups according to day in a week')\n",
        "plt.xticks(rotation = '45')\n",
        "plt.show()"
      ],
      "execution_count": 166,
      "outputs": [
        {
          "output_type": "display_data",
          "data": {
            "image/png": "[encoded data removed]",
            "text/plain": [
              "<Figure size 576x360 with 1 Axes>"
            ]
          },
          "metadata": {
            "needs_background": "light"
          }
        }
      ]
    },
    {
      "cell_type": "code",
      "metadata": {
        "colab": {
          "base_uri": "https://localhost:8080/",
          "height": 389
        },
        "id": "OjUXOkWfuBR0",
        "outputId": "b1486f3f-5af8-415c-f644-8aa123d7fa9d"
      },
      "source": [
        "# we will plot countplot to see pickup days accoridng to count\n",
        "fig =plt.figure(figsize=(8,5))\n",
        "ax = fig.gca()\n",
        "sns.countplot(x='drop_day' , data=df)\n",
        "ax.set_title('drop according to day in a week')\n",
        "plt.xticks(rotation='45')\n",
        "plt.show()"
      ],
      "execution_count": 167,
      "outputs": [
        {
          "output_type": "display_data",
          "data": {
            "image/png": "[encoded data removed]",
            "text/plain": [
              "<Figure size 576x360 with 1 Axes>"
            ]
          },
          "metadata": {
            "needs_background": "light"
          }
        }
      ]
    },
    {
      "cell_type": "markdown",
      "metadata": {
        "id": "NJaYbOCC8e67"
      },
      "source": [
        "* We can see that maximum pickup is in sat sun and minimum pickup is on monday\n",
        "\n",
        "\n",
        "\n",
        "\n",
        "\n",
        "\n"
      ]
    },
    {
      "cell_type": "code",
      "metadata": {
        "colab": {
          "base_uri": "https://localhost:8080/",
          "height": 307
        },
        "id": "9ZYIdGtEuBPF",
        "outputId": "0074078c-48a0-4eaf-f728-f8a3d2fdc670"
      },
      "source": [
        "df.head()"
      ],
      "execution_count": 28,
      "outputs": [
        {
          "output_type": "execute_result",
          "data": {
            "text/html": [
              "<div>\n",
              "<style scoped>\n",
              "    .dataframe tbody tr th:only-of-type {\n",
              "        vertical-align: middle;\n",
              "    }\n",
              "\n",
              "    .dataframe tbody tr th {\n",
              "        vertical-align: top;\n",
              "    }\n",
              "\n",
              "    .dataframe thead th {\n",
              "        text-align: right;\n",
              "    }\n",
              "</style>\n",
              "<table border=\"1\" class=\"dataframe\">\n",
              "  <thead>\n",
              "    <tr style=\"text-align: right;\">\n",
              "      <th></th>\n",
              "      <th>id</th>\n",
              "      <th>vendor_id</th>\n",
              "      <th>pickup_datetime</th>\n",
              "      <th>dropoff_datetime</th>\n",
              "      <th>passenger_count</th>\n",
              "      <th>pickup_longitude</th>\n",
              "      <th>pickup_latitude</th>\n",
              "      <th>dropoff_longitude</th>\n",
              "      <th>dropoff_latitude</th>\n",
              "      <th>store_and_fwd_flag</th>\n",
              "      <th>trip_duration</th>\n",
              "      <th>pick_day</th>\n",
              "      <th>drop_day</th>\n",
              "    </tr>\n",
              "  </thead>\n",
              "  <tbody>\n",
              "    <tr>\n",
              "      <th>0</th>\n",
              "      <td>id2875421</td>\n",
              "      <td>2</td>\n",
              "      <td>2016-03-14 17:24:55</td>\n",
              "      <td>2016-03-14 17:32:30</td>\n",
              "      <td>1</td>\n",
              "      <td>-73.982155</td>\n",
              "      <td>40.767937</td>\n",
              "      <td>-73.964630</td>\n",
              "      <td>40.765602</td>\n",
              "      <td>N</td>\n",
              "      <td>455</td>\n",
              "      <td>Monday</td>\n",
              "      <td>Monday</td>\n",
              "    </tr>\n",
              "    <tr>\n",
              "      <th>1</th>\n",
              "      <td>id2377394</td>\n",
              "      <td>1</td>\n",
              "      <td>2016-06-12 00:43:35</td>\n",
              "      <td>2016-06-12 00:54:38</td>\n",
              "      <td>1</td>\n",
              "      <td>-73.980415</td>\n",
              "      <td>40.738564</td>\n",
              "      <td>-73.999481</td>\n",
              "      <td>40.731152</td>\n",
              "      <td>N</td>\n",
              "      <td>663</td>\n",
              "      <td>Sunday</td>\n",
              "      <td>Sunday</td>\n",
              "    </tr>\n",
              "    <tr>\n",
              "      <th>2</th>\n",
              "      <td>id3858529</td>\n",
              "      <td>2</td>\n",
              "      <td>2016-01-19 11:35:24</td>\n",
              "      <td>2016-01-19 12:10:48</td>\n",
              "      <td>1</td>\n",
              "      <td>-73.979027</td>\n",
              "      <td>40.763939</td>\n",
              "      <td>-74.005333</td>\n",
              "      <td>40.710087</td>\n",
              "      <td>N</td>\n",
              "      <td>2124</td>\n",
              "      <td>Tuesday</td>\n",
              "      <td>Tuesday</td>\n",
              "    </tr>\n",
              "    <tr>\n",
              "      <th>3</th>\n",
              "      <td>id3504673</td>\n",
              "      <td>2</td>\n",
              "      <td>2016-04-06 19:32:31</td>\n",
              "      <td>2016-04-06 19:39:40</td>\n",
              "      <td>1</td>\n",
              "      <td>-74.010040</td>\n",
              "      <td>40.719971</td>\n",
              "      <td>-74.012268</td>\n",
              "      <td>40.706718</td>\n",
              "      <td>N</td>\n",
              "      <td>429</td>\n",
              "      <td>Wednesday</td>\n",
              "      <td>Wednesday</td>\n",
              "    </tr>\n",
              "    <tr>\n",
              "      <th>4</th>\n",
              "      <td>id2181028</td>\n",
              "      <td>2</td>\n",
              "      <td>2016-03-26 13:30:55</td>\n",
              "      <td>2016-03-26 13:38:10</td>\n",
              "      <td>1</td>\n",
              "      <td>-73.973053</td>\n",
              "      <td>40.793209</td>\n",
              "      <td>-73.972923</td>\n",
              "      <td>40.782520</td>\n",
              "      <td>N</td>\n",
              "      <td>435</td>\n",
              "      <td>Saturday</td>\n",
              "      <td>Saturday</td>\n",
              "    </tr>\n",
              "  </tbody>\n",
              "</table>\n",
              "</div>"
            ],
            "text/plain": [
              "          id  vendor_id  ...   pick_day   drop_day\n",
              "0  id2875421          2  ...     Monday     Monday\n",
              "1  id2377394          1  ...     Sunday     Sunday\n",
              "2  id3858529          2  ...    Tuesday    Tuesday\n",
              "3  id3504673          2  ...  Wednesday  Wednesday\n",
              "4  id2181028          2  ...   Saturday   Saturday\n",
              "\n",
              "[5 rows x 13 columns]"
            ]
          },
          "metadata": {},
          "execution_count": 28
        }
      ]
    },
    {
      "cell_type": "code",
      "metadata": {
        "id": "33xaZ_rAuBLs"
      },
      "source": [
        "# now to see how much was an avarage length of the duration \n",
        "df['pickup_hour'] = df['pickup_datetime'].dt.hour\n",
        "df['drop_hour'] = df['dropoff_datetime'].dt.hour"
      ],
      "execution_count": 160,
      "outputs": []
    },
    {
      "cell_type": "code",
      "metadata": {
        "id": "eyUte6-quBFC"
      },
      "source": [
        "# lets convert hours into bins of morning afternoon evening late night \n",
        "def timezone(x):\n",
        "  x = 'morning' if x in range(6,12) else 'afternoon' if x in range(12,16) else 'evening' if x in range(16,22) else 'late_night'\n",
        "  return x\n"
      ],
      "execution_count": 161,
      "outputs": []
    },
    {
      "cell_type": "code",
      "metadata": {
        "id": "7Q2D0p5-uBB1"
      },
      "source": [
        "df['time_zone'] = df['pickup_hour'].apply(timezone)"
      ],
      "execution_count": 162,
      "outputs": []
    },
    {
      "cell_type": "code",
      "metadata": {
        "colab": {
          "base_uri": "https://localhost:8080/",
          "height": 307
        },
        "id": "hTLZIh2uuBAR",
        "outputId": "c0802dff-d7a8-4a72-ceda-1eb058d02ab1"
      },
      "source": [
        "df.head()"
      ],
      "execution_count": 142,
      "outputs": [
        {
          "output_type": "execute_result",
          "data": {
            "text/html": [
              "<div>\n",
              "<style scoped>\n",
              "    .dataframe tbody tr th:only-of-type {\n",
              "        vertical-align: middle;\n",
              "    }\n",
              "\n",
              "    .dataframe tbody tr th {\n",
              "        vertical-align: top;\n",
              "    }\n",
              "\n",
              "    .dataframe thead th {\n",
              "        text-align: right;\n",
              "    }\n",
              "</style>\n",
              "<table border=\"1\" class=\"dataframe\">\n",
              "  <thead>\n",
              "    <tr style=\"text-align: right;\">\n",
              "      <th></th>\n",
              "      <th>id</th>\n",
              "      <th>vendor_id</th>\n",
              "      <th>pickup_datetime</th>\n",
              "      <th>dropoff_datetime</th>\n",
              "      <th>passenger_count</th>\n",
              "      <th>pickup_longitude</th>\n",
              "      <th>pickup_latitude</th>\n",
              "      <th>dropoff_longitude</th>\n",
              "      <th>dropoff_latitude</th>\n",
              "      <th>store_and_fwd_flag</th>\n",
              "      <th>trip_duration</th>\n",
              "      <th>pickup_hour</th>\n",
              "      <th>drop_hour</th>\n",
              "      <th>time_zone</th>\n",
              "    </tr>\n",
              "  </thead>\n",
              "  <tbody>\n",
              "    <tr>\n",
              "      <th>0</th>\n",
              "      <td>id2875421</td>\n",
              "      <td>2</td>\n",
              "      <td>2016-03-14 17:24:55</td>\n",
              "      <td>2016-03-14 17:32:30</td>\n",
              "      <td>1</td>\n",
              "      <td>-73.982155</td>\n",
              "      <td>40.767937</td>\n",
              "      <td>-73.964630</td>\n",
              "      <td>40.765602</td>\n",
              "      <td>N</td>\n",
              "      <td>455</td>\n",
              "      <td>17</td>\n",
              "      <td>17</td>\n",
              "      <td>evening</td>\n",
              "    </tr>\n",
              "    <tr>\n",
              "      <th>1</th>\n",
              "      <td>id2377394</td>\n",
              "      <td>1</td>\n",
              "      <td>2016-06-12 00:43:35</td>\n",
              "      <td>2016-06-12 00:54:38</td>\n",
              "      <td>1</td>\n",
              "      <td>-73.980415</td>\n",
              "      <td>40.738564</td>\n",
              "      <td>-73.999481</td>\n",
              "      <td>40.731152</td>\n",
              "      <td>N</td>\n",
              "      <td>663</td>\n",
              "      <td>0</td>\n",
              "      <td>0</td>\n",
              "      <td>late_night</td>\n",
              "    </tr>\n",
              "    <tr>\n",
              "      <th>2</th>\n",
              "      <td>id3858529</td>\n",
              "      <td>2</td>\n",
              "      <td>2016-01-19 11:35:24</td>\n",
              "      <td>2016-01-19 12:10:48</td>\n",
              "      <td>1</td>\n",
              "      <td>-73.979027</td>\n",
              "      <td>40.763939</td>\n",
              "      <td>-74.005333</td>\n",
              "      <td>40.710087</td>\n",
              "      <td>N</td>\n",
              "      <td>2124</td>\n",
              "      <td>11</td>\n",
              "      <td>12</td>\n",
              "      <td>morning</td>\n",
              "    </tr>\n",
              "    <tr>\n",
              "      <th>3</th>\n",
              "      <td>id3504673</td>\n",
              "      <td>2</td>\n",
              "      <td>2016-04-06 19:32:31</td>\n",
              "      <td>2016-04-06 19:39:40</td>\n",
              "      <td>1</td>\n",
              "      <td>-74.010040</td>\n",
              "      <td>40.719971</td>\n",
              "      <td>-74.012268</td>\n",
              "      <td>40.706718</td>\n",
              "      <td>N</td>\n",
              "      <td>429</td>\n",
              "      <td>19</td>\n",
              "      <td>19</td>\n",
              "      <td>evening</td>\n",
              "    </tr>\n",
              "    <tr>\n",
              "      <th>4</th>\n",
              "      <td>id2181028</td>\n",
              "      <td>2</td>\n",
              "      <td>2016-03-26 13:30:55</td>\n",
              "      <td>2016-03-26 13:38:10</td>\n",
              "      <td>1</td>\n",
              "      <td>-73.973053</td>\n",
              "      <td>40.793209</td>\n",
              "      <td>-73.972923</td>\n",
              "      <td>40.782520</td>\n",
              "      <td>N</td>\n",
              "      <td>435</td>\n",
              "      <td>13</td>\n",
              "      <td>13</td>\n",
              "      <td>afternoon</td>\n",
              "    </tr>\n",
              "  </tbody>\n",
              "</table>\n",
              "</div>"
            ],
            "text/plain": [
              "          id  vendor_id     pickup_datetime  ... pickup_hour  drop_hour   time_zone\n",
              "0  id2875421          2 2016-03-14 17:24:55  ...          17         17     evening\n",
              "1  id2377394          1 2016-06-12 00:43:35  ...           0          0  late_night\n",
              "2  id3858529          2 2016-01-19 11:35:24  ...          11         12     morning\n",
              "3  id3504673          2 2016-04-06 19:32:31  ...          19         19     evening\n",
              "4  id2181028          2 2016-03-26 13:30:55  ...          13         13   afternoon\n",
              "\n",
              "[5 rows x 14 columns]"
            ]
          },
          "metadata": {},
          "execution_count": 142
        }
      ]
    },
    {
      "cell_type": "code",
      "metadata": {
        "colab": {
          "base_uri": "https://localhost:8080/",
          "height": 384
        },
        "id": "xSxUj6_SuA8t",
        "outputId": "73915ce1-eaf4-410f-b343-1541fb731230"
      },
      "source": [
        "# countplot variation of the time zone\n",
        "fig =plt.figure(figsize=(8,5))\n",
        "ax = fig.gca()\n",
        "sns.countplot(x='time_zone' , data=df)\n",
        "ax.set_title('time zone of the pickup ')\n",
        "plt.xticks(rotation='45')\n",
        "plt.show()"
      ],
      "execution_count": 33,
      "outputs": [
        {
          "output_type": "display_data",
          "data": {
            "image/png": "[encoded data removed]",
            "text/plain": [
              "<Figure size 576x360 with 1 Axes>"
            ]
          },
          "metadata": {
            "needs_background": "light"
          }
        }
      ]
    },
    {
      "cell_type": "code",
      "metadata": {
        "colab": {
          "base_uri": "https://localhost:8080/",
          "height": 297
        },
        "id": "InIB7QWqAovw",
        "outputId": "820631b4-779e-4930-e247-03c11c505f72"
      },
      "source": [
        "# plot of pickup hour \n",
        "\n",
        "sns.countplot(x = 'pickup_hour' , data=df)"
      ],
      "execution_count": 34,
      "outputs": [
        {
          "output_type": "execute_result",
          "data": {
            "text/plain": [
              "<matplotlib.axes._subplots.AxesSubplot at 0x7f5d164158d0>"
            ]
          },
          "metadata": {},
          "execution_count": 34
        },
        {
          "output_type": "display_data",
          "data": {
            "image/png": "[encoded data removed]",
            "text/plain": [
              "<Figure size 432x288 with 1 Axes>"
            ]
          },
          "metadata": {
            "needs_background": "light"
          }
        }
      ]
    },
    {
      "cell_type": "markdown",
      "metadata": {
        "id": "HX1Ie1RSA42O"
      },
      "source": [
        "18 19 hours ie evening 6-7 has maximum pickups can be related as office leave times"
      ]
    },
    {
      "cell_type": "markdown",
      "metadata": {
        "id": "22XKsu0Mt3oJ"
      },
      "source": [
        "As longitiude and latitude are given so with the help of geopy.distance library we will get the distance "
      ]
    },
    {
      "cell_type": "code",
      "metadata": {
        "id": "cN3qHDTDtQ-V"
      },
      "source": [
        "from math import sin, cos, sqrt, atan2, radians\n",
        "\n",
        "def get_distance(lon_1, lon_2, lat_1, lat_2):\n",
        "\n",
        "    # approximate radius of earth in km\n",
        "    R = 6373.0\n",
        "\n",
        "    lat1 = radians(lat_1)\n",
        "    lon1 = radians(lon_1)\n",
        "    lat2 = radians(lat_2)\n",
        "    lon2 = radians(lon_2)\n",
        "\n",
        "    dlon = lon2 - lon1\n",
        "    dlat = lat2 - lat1\n",
        "\n",
        "    a = sin(dlat / 2)**2 + cos(lat1) * cos(lat2) * sin(dlon / 2)**2\n",
        "    c = 2 * atan2(sqrt(a), sqrt(1 - a))\n",
        "\n",
        "    distance = R * c\n",
        "\n",
        "    return distance\n",
        "\n",
        "#     # distance between lati and longi\n",
        "# import math\n",
        "\n",
        "# def total_distance(origin, destination):\n",
        "#     lat1, lon1 = origin\n",
        "#     lat2, lon2 = destination\n",
        "#     radius = 6371 # km\n",
        "\n",
        "#     dlat = math.radians(lat2-lat1)\n",
        "#     dlon = math.radians(lon2-lon1)\n",
        "#     a = math.sin(dlat/2) * math.sin(dlat/2) + math.cos(math.radians(lat1)) \\\n",
        "#         * math.cos(math.radians(lat2)) * math.sin(dlon/2) * math.sin(dlon/2)\n",
        "#     c = 2 * math.atan2(math.sqrt(a), math.sqrt(1-a))\n",
        "#     d = radius * c\n",
        "\n",
        "#     return d"
      ],
      "execution_count": 143,
      "outputs": []
    },
    {
      "cell_type": "code",
      "metadata": {
        "id": "noGMlyT1tU2p"
      },
      "source": [
        "\n",
        "df[\"distance\"] = df.apply(lambda x: get_distance(x[\"pickup_longitude\"],x[\"dropoff_longitude\"],x[\"pickup_latitude\"],x[\"dropoff_latitude\"]),axis=1)"
      ],
      "execution_count": 144,
      "outputs": []
    },
    {
      "cell_type": "code",
      "metadata": {
        "colab": {
          "base_uri": "https://localhost:8080/",
          "height": 307
        },
        "id": "IpqJ6f1qsYbJ",
        "outputId": "b4cebf7f-e8ec-4d1d-e4bf-cd7e49270938"
      },
      "source": [
        "df.head()"
      ],
      "execution_count": 37,
      "outputs": [
        {
          "output_type": "execute_result",
          "data": {
            "text/html": [
              "<div>\n",
              "<style scoped>\n",
              "    .dataframe tbody tr th:only-of-type {\n",
              "        vertical-align: middle;\n",
              "    }\n",
              "\n",
              "    .dataframe tbody tr th {\n",
              "        vertical-align: top;\n",
              "    }\n",
              "\n",
              "    .dataframe thead th {\n",
              "        text-align: right;\n",
              "    }\n",
              "</style>\n",
              "<table border=\"1\" class=\"dataframe\">\n",
              "  <thead>\n",
              "    <tr style=\"text-align: right;\">\n",
              "      <th></th>\n",
              "      <th>id</th>\n",
              "      <th>vendor_id</th>\n",
              "      <th>pickup_datetime</th>\n",
              "      <th>dropoff_datetime</th>\n",
              "      <th>passenger_count</th>\n",
              "      <th>pickup_longitude</th>\n",
              "      <th>pickup_latitude</th>\n",
              "      <th>dropoff_longitude</th>\n",
              "      <th>dropoff_latitude</th>\n",
              "      <th>store_and_fwd_flag</th>\n",
              "      <th>trip_duration</th>\n",
              "      <th>pick_day</th>\n",
              "      <th>drop_day</th>\n",
              "      <th>pickup_hour</th>\n",
              "      <th>drop_hour</th>\n",
              "      <th>time_zone</th>\n",
              "      <th>distance</th>\n",
              "    </tr>\n",
              "  </thead>\n",
              "  <tbody>\n",
              "    <tr>\n",
              "      <th>0</th>\n",
              "      <td>id2875421</td>\n",
              "      <td>2</td>\n",
              "      <td>2016-03-14 17:24:55</td>\n",
              "      <td>2016-03-14 17:32:30</td>\n",
              "      <td>1</td>\n",
              "      <td>-73.982155</td>\n",
              "      <td>40.767937</td>\n",
              "      <td>-73.964630</td>\n",
              "      <td>40.765602</td>\n",
              "      <td>N</td>\n",
              "      <td>455</td>\n",
              "      <td>Monday</td>\n",
              "      <td>Monday</td>\n",
              "      <td>17</td>\n",
              "      <td>17</td>\n",
              "      <td>evening</td>\n",
              "      <td>1.498991</td>\n",
              "    </tr>\n",
              "    <tr>\n",
              "      <th>1</th>\n",
              "      <td>id2377394</td>\n",
              "      <td>1</td>\n",
              "      <td>2016-06-12 00:43:35</td>\n",
              "      <td>2016-06-12 00:54:38</td>\n",
              "      <td>1</td>\n",
              "      <td>-73.980415</td>\n",
              "      <td>40.738564</td>\n",
              "      <td>-73.999481</td>\n",
              "      <td>40.731152</td>\n",
              "      <td>N</td>\n",
              "      <td>663</td>\n",
              "      <td>Sunday</td>\n",
              "      <td>Sunday</td>\n",
              "      <td>0</td>\n",
              "      <td>0</td>\n",
              "      <td>late_night</td>\n",
              "      <td>1.806074</td>\n",
              "    </tr>\n",
              "    <tr>\n",
              "      <th>2</th>\n",
              "      <td>id3858529</td>\n",
              "      <td>2</td>\n",
              "      <td>2016-01-19 11:35:24</td>\n",
              "      <td>2016-01-19 12:10:48</td>\n",
              "      <td>1</td>\n",
              "      <td>-73.979027</td>\n",
              "      <td>40.763939</td>\n",
              "      <td>-74.005333</td>\n",
              "      <td>40.710087</td>\n",
              "      <td>N</td>\n",
              "      <td>2124</td>\n",
              "      <td>Tuesday</td>\n",
              "      <td>Tuesday</td>\n",
              "      <td>11</td>\n",
              "      <td>12</td>\n",
              "      <td>morning</td>\n",
              "      <td>6.387103</td>\n",
              "    </tr>\n",
              "    <tr>\n",
              "      <th>3</th>\n",
              "      <td>id3504673</td>\n",
              "      <td>2</td>\n",
              "      <td>2016-04-06 19:32:31</td>\n",
              "      <td>2016-04-06 19:39:40</td>\n",
              "      <td>1</td>\n",
              "      <td>-74.010040</td>\n",
              "      <td>40.719971</td>\n",
              "      <td>-74.012268</td>\n",
              "      <td>40.706718</td>\n",
              "      <td>N</td>\n",
              "      <td>429</td>\n",
              "      <td>Wednesday</td>\n",
              "      <td>Wednesday</td>\n",
              "      <td>19</td>\n",
              "      <td>19</td>\n",
              "      <td>evening</td>\n",
              "      <td>1.485965</td>\n",
              "    </tr>\n",
              "    <tr>\n",
              "      <th>4</th>\n",
              "      <td>id2181028</td>\n",
              "      <td>2</td>\n",
              "      <td>2016-03-26 13:30:55</td>\n",
              "      <td>2016-03-26 13:38:10</td>\n",
              "      <td>1</td>\n",
              "      <td>-73.973053</td>\n",
              "      <td>40.793209</td>\n",
              "      <td>-73.972923</td>\n",
              "      <td>40.782520</td>\n",
              "      <td>N</td>\n",
              "      <td>435</td>\n",
              "      <td>Saturday</td>\n",
              "      <td>Saturday</td>\n",
              "      <td>13</td>\n",
              "      <td>13</td>\n",
              "      <td>afternoon</td>\n",
              "      <td>1.188962</td>\n",
              "    </tr>\n",
              "  </tbody>\n",
              "</table>\n",
              "</div>"
            ],
            "text/plain": [
              "          id  vendor_id     pickup_datetime  ... drop_hour   time_zone  distance\n",
              "0  id2875421          2 2016-03-14 17:24:55  ...        17     evening  1.498991\n",
              "1  id2377394          1 2016-06-12 00:43:35  ...         0  late_night  1.806074\n",
              "2  id3858529          2 2016-01-19 11:35:24  ...        12     morning  6.387103\n",
              "3  id3504673          2 2016-04-06 19:32:31  ...        19     evening  1.485965\n",
              "4  id2181028          2 2016-03-26 13:30:55  ...        13   afternoon  1.188962\n",
              "\n",
              "[5 rows x 17 columns]"
            ]
          },
          "metadata": {},
          "execution_count": 37
        }
      ]
    },
    {
      "cell_type": "code",
      "metadata": {
        "colab": {
          "base_uri": "https://localhost:8080/",
          "height": 1000
        },
        "id": "NUveRpdPAIAq",
        "outputId": "162ef5c4-9539-48c9-dae6-78aad67af488"
      },
      "source": [
        "list_of_columns = df.describe().columns\n",
        "\n",
        "plt.figure(figsize=(18,12))\n",
        "n = 1\n",
        "for column in list_of_columns:\n",
        "  plt.subplot(3,4,n)\n",
        "  n = n+1\n",
        "  sns.boxplot(df[column], color= 'Red')\n",
        "plt.show()"
      ],
      "execution_count": 145,
      "outputs": [
        {
          "output_type": "stream",
          "name": "stderr",
          "text": [
            "/usr/local/lib/python3.7/dist-packages/seaborn/_decorators.py:43: FutureWarning: Pass the following variable as a keyword arg: x. From version 0.12, the only valid positional argument will be `data`, and passing other arguments without an explicit keyword will result in an error or misinterpretation.\n",
            "  FutureWarning\n",
            "/usr/local/lib/python3.7/dist-packages/seaborn/_decorators.py:43: FutureWarning: Pass the following variable as a keyword arg: x. From version 0.12, the only valid positional argument will be `data`, and passing other arguments without an explicit keyword will result in an error or misinterpretation.\n",
            "  FutureWarning\n",
            "/usr/local/lib/python3.7/dist-packages/seaborn/_decorators.py:43: FutureWarning: Pass the following variable as a keyword arg: x. From version 0.12, the only valid positional argument will be `data`, and passing other arguments without an explicit keyword will result in an error or misinterpretation.\n",
            "  FutureWarning\n",
            "/usr/local/lib/python3.7/dist-packages/seaborn/_decorators.py:43: FutureWarning: Pass the following variable as a keyword arg: x. From version 0.12, the only valid positional argument will be `data`, and passing other arguments without an explicit keyword will result in an error or misinterpretation.\n",
            "  FutureWarning\n",
            "/usr/local/lib/python3.7/dist-packages/seaborn/_decorators.py:43: FutureWarning: Pass the following variable as a keyword arg: x. From version 0.12, the only valid positional argument will be `data`, and passing other arguments without an explicit keyword will result in an error or misinterpretation.\n",
            "  FutureWarning\n",
            "/usr/local/lib/python3.7/dist-packages/seaborn/_decorators.py:43: FutureWarning: Pass the following variable as a keyword arg: x. From version 0.12, the only valid positional argument will be `data`, and passing other arguments without an explicit keyword will result in an error or misinterpretation.\n",
            "  FutureWarning\n",
            "/usr/local/lib/python3.7/dist-packages/seaborn/_decorators.py:43: FutureWarning: Pass the following variable as a keyword arg: x. From version 0.12, the only valid positional argument will be `data`, and passing other arguments without an explicit keyword will result in an error or misinterpretation.\n",
            "  FutureWarning\n",
            "/usr/local/lib/python3.7/dist-packages/seaborn/_decorators.py:43: FutureWarning: Pass the following variable as a keyword arg: x. From version 0.12, the only valid positional argument will be `data`, and passing other arguments without an explicit keyword will result in an error or misinterpretation.\n",
            "  FutureWarning\n",
            "/usr/local/lib/python3.7/dist-packages/seaborn/_decorators.py:43: FutureWarning: Pass the following variable as a keyword arg: x. From version 0.12, the only valid positional argument will be `data`, and passing other arguments without an explicit keyword will result in an error or misinterpretation.\n",
            "  FutureWarning\n",
            "/usr/local/lib/python3.7/dist-packages/seaborn/_decorators.py:43: FutureWarning: Pass the following variable as a keyword arg: x. From version 0.12, the only valid positional argument will be `data`, and passing other arguments without an explicit keyword will result in an error or misinterpretation.\n",
            "  FutureWarning\n"
          ]
        },
        {
          "output_type": "display_data",
          "data": {
            "image/png": "[encoded data removed]",
            "text/plain": [
              "<Figure size 1296x864 with 10 Axes>"
            ]
          },
          "metadata": {
            "needs_background": "light"
          }
        }
      ]
    },
    {
      "cell_type": "code",
      "metadata": {
        "colab": {
          "base_uri": "https://localhost:8080/"
        },
        "id": "n5n_-dMgcUXb",
        "outputId": "69aa2f95-97ea-4171-b670-89cd5c2ae4b8"
      },
      "source": [
        "# lets handle these outliers \n",
        "df['passenger_count'].value_counts()"
      ],
      "execution_count": 39,
      "outputs": [
        {
          "output_type": "execute_result",
          "data": {
            "text/plain": [
              "1    1033540\n",
              "2     210318\n",
              "5      78088\n",
              "3      59896\n",
              "6      48333\n",
              "4      28404\n",
              "7          3\n",
              "9          1\n",
              "8          1\n",
              "Name: passenger_count, dtype: int64"
            ]
          },
          "metadata": {},
          "execution_count": 39
        }
      ]
    },
    {
      "cell_type": "code",
      "metadata": {
        "colab": {
          "base_uri": "https://localhost:8080/",
          "height": 308
        },
        "id": "vSOpFjW2fYLW",
        "outputId": "13924302-843f-4511-8c74-c61e07de7f22"
      },
      "source": [
        "sns.countplot(x='passenger_count' , data=df)"
      ],
      "execution_count": 40,
      "outputs": [
        {
          "output_type": "execute_result",
          "data": {
            "text/plain": [
              "<matplotlib.axes._subplots.AxesSubplot at 0x7f5d22de7310>"
            ]
          },
          "metadata": {},
          "execution_count": 40
        },
        {
          "output_type": "display_data",
          "data": {
            "image/png": "[encoded data removed]",
            "text/plain": [
              "<Figure size 432x288 with 1 Axes>"
            ]
          },
          "metadata": {
            "needs_background": "light"
          }
        }
      ]
    },
    {
      "cell_type": "markdown",
      "metadata": {
        "id": "642EhzWyTb7g"
      },
      "source": [
        "As we can see maximum passengers lie in range of 1 to 4 so rest are outliers\n",
        "\n",
        "* So we will handle the outliers using IQR \n",
        "* IQR = Q3-Q1\n",
        "* where Q3 is quartile 3 ie 75% and quartile 1 is 25% \n",
        "* Which is also called as upper limit and lower limit "
      ]
    },
    {
      "cell_type": "code",
      "metadata": {
        "colab": {
          "base_uri": "https://localhost:8080/"
        },
        "id": "JNXct2PQ9ATj",
        "outputId": "978491ba-1b08-4da4-d83a-6e4dbb4d3941"
      },
      "source": [
        "# for passengers count\n",
        "Q1_passenger = np.percentile(df['passenger_count'] , 25)\n",
        "print(Q1_passenger)\n",
        "Q2_passenger = np.percentile(df['passenger_count'],50)\n",
        "print(Q2_passenger)\n",
        "Q3_passenger = np.percentile(df['passenger_count'],80)\n",
        "print(Q3_passenger)"
      ],
      "execution_count": 249,
      "outputs": [
        {
          "output_type": "stream",
          "name": "stdout",
          "text": [
            "1.0\n",
            "1.0\n",
            "2.0\n"
          ]
        }
      ]
    },
    {
      "cell_type": "markdown",
      "metadata": {
        "id": "O4YbJpg0CrGp"
      },
      "source": [
        "* IQR is Q3-Q1 \n",
        "* Q1 = lower limit = Q1_passenger-1.5*IQR\n",
        "* Q3 = upper limit = Q3_passenger + 1.5*IQR"
      ]
    },
    {
      "cell_type": "code",
      "metadata": {
        "id": "6E9HFAHADjHi"
      },
      "source": [
        "IQR = Q3_passenger- Q1_passenger"
      ],
      "execution_count": 250,
      "outputs": []
    },
    {
      "cell_type": "code",
      "metadata": {
        "id": "_29Kczw5CmsJ"
      },
      "source": [
        "lower_limit_passenger = Q1_passenger - 1.5*IQR\n",
        "upper_limit_passenger = Q3_passenger + 1.5*IQR"
      ],
      "execution_count": 251,
      "outputs": []
    },
    {
      "cell_type": "code",
      "metadata": {
        "colab": {
          "base_uri": "https://localhost:8080/"
        },
        "id": "utb_mQVeDzaE",
        "outputId": "f4e7867b-aed6-491b-b3fe-51f94a366d72"
      },
      "source": [
        "print(\"Lower limit for passenger is :\" , lower_limit_passenger )\n",
        "print(\"upper limit for passenger is :\" , upper_limit_passenger )"
      ],
      "execution_count": 252,
      "outputs": [
        {
          "output_type": "stream",
          "name": "stdout",
          "text": [
            "Lower limit for passenger is : -0.5\n",
            "upper limit for passenger is : 3.5\n"
          ]
        }
      ]
    },
    {
      "cell_type": "code",
      "metadata": {
        "id": "UQpQYP4-ECE6"
      },
      "source": [
        "df = df[df['passenger_count']> lower_limit_passenger]\n",
        "df = df[df['passenger_count']<upper_limit_passenger]"
      ],
      "execution_count": 253,
      "outputs": []
    },
    {
      "cell_type": "code",
      "metadata": {
        "colab": {
          "base_uri": "https://localhost:8080/"
        },
        "id": "APYYF1jsEo1_",
        "outputId": "0b9497f4-7ec9-4af4-d211-999aba619e53"
      },
      "source": [
        "df.shape"
      ],
      "execution_count": 49,
      "outputs": [
        {
          "output_type": "execute_result",
          "data": {
            "text/plain": [
              "(1303754, 17)"
            ]
          },
          "metadata": {},
          "execution_count": 49
        }
      ]
    },
    {
      "cell_type": "code",
      "metadata": {
        "colab": {
          "base_uri": "https://localhost:8080/",
          "height": 307
        },
        "id": "oqAKpySoj6JP",
        "outputId": "818662b2-efd7-4733-af9a-9fe5c1cb51a5"
      },
      "source": [
        "df.head()"
      ],
      "execution_count": 50,
      "outputs": [
        {
          "output_type": "execute_result",
          "data": {
            "text/html": [
              "<div>\n",
              "<style scoped>\n",
              "    .dataframe tbody tr th:only-of-type {\n",
              "        vertical-align: middle;\n",
              "    }\n",
              "\n",
              "    .dataframe tbody tr th {\n",
              "        vertical-align: top;\n",
              "    }\n",
              "\n",
              "    .dataframe thead th {\n",
              "        text-align: right;\n",
              "    }\n",
              "</style>\n",
              "<table border=\"1\" class=\"dataframe\">\n",
              "  <thead>\n",
              "    <tr style=\"text-align: right;\">\n",
              "      <th></th>\n",
              "      <th>id</th>\n",
              "      <th>vendor_id</th>\n",
              "      <th>pickup_datetime</th>\n",
              "      <th>dropoff_datetime</th>\n",
              "      <th>passenger_count</th>\n",
              "      <th>pickup_longitude</th>\n",
              "      <th>pickup_latitude</th>\n",
              "      <th>dropoff_longitude</th>\n",
              "      <th>dropoff_latitude</th>\n",
              "      <th>store_and_fwd_flag</th>\n",
              "      <th>trip_duration</th>\n",
              "      <th>pick_day</th>\n",
              "      <th>drop_day</th>\n",
              "      <th>pickup_hour</th>\n",
              "      <th>drop_hour</th>\n",
              "      <th>time_zone</th>\n",
              "      <th>distance</th>\n",
              "    </tr>\n",
              "  </thead>\n",
              "  <tbody>\n",
              "    <tr>\n",
              "      <th>0</th>\n",
              "      <td>id2875421</td>\n",
              "      <td>2</td>\n",
              "      <td>2016-03-14 17:24:55</td>\n",
              "      <td>2016-03-14 17:32:30</td>\n",
              "      <td>1</td>\n",
              "      <td>-73.982155</td>\n",
              "      <td>40.767937</td>\n",
              "      <td>-73.964630</td>\n",
              "      <td>40.765602</td>\n",
              "      <td>N</td>\n",
              "      <td>455</td>\n",
              "      <td>Monday</td>\n",
              "      <td>Monday</td>\n",
              "      <td>17</td>\n",
              "      <td>17</td>\n",
              "      <td>evening</td>\n",
              "      <td>1.498991</td>\n",
              "    </tr>\n",
              "    <tr>\n",
              "      <th>1</th>\n",
              "      <td>id2377394</td>\n",
              "      <td>1</td>\n",
              "      <td>2016-06-12 00:43:35</td>\n",
              "      <td>2016-06-12 00:54:38</td>\n",
              "      <td>1</td>\n",
              "      <td>-73.980415</td>\n",
              "      <td>40.738564</td>\n",
              "      <td>-73.999481</td>\n",
              "      <td>40.731152</td>\n",
              "      <td>N</td>\n",
              "      <td>663</td>\n",
              "      <td>Sunday</td>\n",
              "      <td>Sunday</td>\n",
              "      <td>0</td>\n",
              "      <td>0</td>\n",
              "      <td>late_night</td>\n",
              "      <td>1.806074</td>\n",
              "    </tr>\n",
              "    <tr>\n",
              "      <th>2</th>\n",
              "      <td>id3858529</td>\n",
              "      <td>2</td>\n",
              "      <td>2016-01-19 11:35:24</td>\n",
              "      <td>2016-01-19 12:10:48</td>\n",
              "      <td>1</td>\n",
              "      <td>-73.979027</td>\n",
              "      <td>40.763939</td>\n",
              "      <td>-74.005333</td>\n",
              "      <td>40.710087</td>\n",
              "      <td>N</td>\n",
              "      <td>2124</td>\n",
              "      <td>Tuesday</td>\n",
              "      <td>Tuesday</td>\n",
              "      <td>11</td>\n",
              "      <td>12</td>\n",
              "      <td>morning</td>\n",
              "      <td>6.387103</td>\n",
              "    </tr>\n",
              "    <tr>\n",
              "      <th>3</th>\n",
              "      <td>id3504673</td>\n",
              "      <td>2</td>\n",
              "      <td>2016-04-06 19:32:31</td>\n",
              "      <td>2016-04-06 19:39:40</td>\n",
              "      <td>1</td>\n",
              "      <td>-74.010040</td>\n",
              "      <td>40.719971</td>\n",
              "      <td>-74.012268</td>\n",
              "      <td>40.706718</td>\n",
              "      <td>N</td>\n",
              "      <td>429</td>\n",
              "      <td>Wednesday</td>\n",
              "      <td>Wednesday</td>\n",
              "      <td>19</td>\n",
              "      <td>19</td>\n",
              "      <td>evening</td>\n",
              "      <td>1.485965</td>\n",
              "    </tr>\n",
              "    <tr>\n",
              "      <th>4</th>\n",
              "      <td>id2181028</td>\n",
              "      <td>2</td>\n",
              "      <td>2016-03-26 13:30:55</td>\n",
              "      <td>2016-03-26 13:38:10</td>\n",
              "      <td>1</td>\n",
              "      <td>-73.973053</td>\n",
              "      <td>40.793209</td>\n",
              "      <td>-73.972923</td>\n",
              "      <td>40.782520</td>\n",
              "      <td>N</td>\n",
              "      <td>435</td>\n",
              "      <td>Saturday</td>\n",
              "      <td>Saturday</td>\n",
              "      <td>13</td>\n",
              "      <td>13</td>\n",
              "      <td>afternoon</td>\n",
              "      <td>1.188962</td>\n",
              "    </tr>\n",
              "  </tbody>\n",
              "</table>\n",
              "</div>"
            ],
            "text/plain": [
              "          id  vendor_id     pickup_datetime  ... drop_hour   time_zone  distance\n",
              "0  id2875421          2 2016-03-14 17:24:55  ...        17     evening  1.498991\n",
              "1  id2377394          1 2016-06-12 00:43:35  ...         0  late_night  1.806074\n",
              "2  id3858529          2 2016-01-19 11:35:24  ...        12     morning  6.387103\n",
              "3  id3504673          2 2016-04-06 19:32:31  ...        19     evening  1.485965\n",
              "4  id2181028          2 2016-03-26 13:30:55  ...        13   afternoon  1.188962\n",
              "\n",
              "[5 rows x 17 columns]"
            ]
          },
          "metadata": {},
          "execution_count": 50
        }
      ]
    },
    {
      "cell_type": "code",
      "metadata": {
        "colab": {
          "base_uri": "https://localhost:8080/",
          "height": 388
        },
        "id": "qBMjjPYCisJm",
        "outputId": "1b96507c-8f0e-4d14-ea44-29b4e924c47c"
      },
      "source": [
        "plt.figure(figsize = (10,5))\n",
        "df.trip_duration.groupby(pd.cut(df.trip_duration, np.arange(1,7200,600))).count().plot(kind='bar')\n",
        "plt.xlabel('Trip Duration (seconds)')\n",
        "plt.ylabel('Trip count')\n",
        "plt.show()"
      ],
      "execution_count": 51,
      "outputs": [
        {
          "output_type": "display_data",
          "data": {
            "image/png": "[encoded data removed]",
            "text/plain": [
              "<Figure size 720x360 with 1 Axes>"
            ]
          },
          "metadata": {
            "needs_background": "light"
          }
        }
      ]
    },
    {
      "cell_type": "markdown",
      "metadata": {
        "id": "tvRTlsV6ky2S"
      },
      "source": [
        "As we can see from this graph maximum trips are completed in 3000 secs"
      ]
    },
    {
      "cell_type": "code",
      "metadata": {
        "colab": {
          "base_uri": "https://localhost:8080/"
        },
        "id": "b25s9fs1GoCj",
        "outputId": "eb41a635-a2e5-49cc-e34c-6bbbb0c230e3"
      },
      "source": [
        "# outliers of trip duration\n",
        "Q1_trip_duration = np.percentile(df['trip_duration'],25)\n",
        "print(Q1_trip_duration)\n",
        "Q2_trip_duration = np.percentile(df['trip_duration'],50)\n",
        "print(Q2_trip_duration)\n",
        "Q3_trip_duration = np.percentile(df['trip_duration'],99)\n",
        "print(Q3_trip_duration)"
      ],
      "execution_count": 254,
      "outputs": [
        {
          "output_type": "stream",
          "name": "stdout",
          "text": [
            "396.0\n",
            "661.0\n",
            "3420.0\n"
          ]
        }
      ]
    },
    {
      "cell_type": "code",
      "metadata": {
        "id": "te4PC7nNIGF7"
      },
      "source": [
        "IQR = Q3_trip_duration- Q1_trip_duration\n",
        "lower_limit_trip_duration = Q1_trip_duration - 1.5*IQR\n",
        "upper_limit_trip_duration = Q3_trip_duration + 1.5*IQR"
      ],
      "execution_count": 255,
      "outputs": []
    },
    {
      "cell_type": "code",
      "metadata": {
        "colab": {
          "base_uri": "https://localhost:8080/"
        },
        "id": "I-L33At3IGDK",
        "outputId": "2522e904-cdc1-41dd-dc28-d2b21b3e4336"
      },
      "source": [
        "print(\"lower limit for trip_duration  :\",lower_limit_trip_duration)\n",
        "print(\"Upper limit for trip_duration  :\",upper_limit_trip_duration)"
      ],
      "execution_count": 256,
      "outputs": [
        {
          "output_type": "stream",
          "name": "stdout",
          "text": [
            "lower limit for trip_duration  : -4140.0\n",
            "Upper limit for trip_duration  : 7956.0\n"
          ]
        }
      ]
    },
    {
      "cell_type": "markdown",
      "metadata": {
        "id": "h-vpwGX5BmeC"
      },
      "source": [
        "* Here we can see that 99% of the values lie around 8000 secs and when we take 100% value it is in lakhs which is clearly an outlier so we will take a range of 99%"
      ]
    },
    {
      "cell_type": "code",
      "metadata": {
        "colab": {
          "base_uri": "https://localhost:8080/"
        },
        "id": "NbNSvdGvYTmt",
        "outputId": "7a3082e0-8f83-4a5c-e184-6981767b9c9e"
      },
      "source": [
        "# outliers of distance \n",
        "\n",
        "Q1_distance = np.percentile(df['distance'],25)\n",
        "print(Q1_distance)\n",
        "Q2_distance = np.percentile(df['distance'],50)\n",
        "print(Q2_distance)\n",
        "Q3_distance = np.percentile(df['distance'],90)\n",
        "print(Q2_distance)"
      ],
      "execution_count": 261,
      "outputs": [
        {
          "output_type": "stream",
          "name": "stdout",
          "text": [
            "1.231188917095678\n",
            "2.0930315975572884\n",
            "2.0930315975572884\n"
          ]
        }
      ]
    },
    {
      "cell_type": "code",
      "metadata": {
        "id": "WkOgoQsiDs1n"
      },
      "source": [
        "IQR = Q3_distance - Q1_distance\n",
        "lower_limit_distance = Q1_distance - 1.5*IQR\n",
        "upper_limit_distance = Q3_distance + 1.5*IQR"
      ],
      "execution_count": 262,
      "outputs": []
    },
    {
      "cell_type": "code",
      "metadata": {
        "colab": {
          "base_uri": "https://localhost:8080/"
        },
        "id": "nEDVCspKFigW",
        "outputId": "c2284458-620d-463d-ef54-32f0cb15f52f"
      },
      "source": [
        "\n",
        "print(\"lower limit for outlier  :\",lower_limit_distance)\n",
        "print(\"Upper limit for outlier  :\",upper_limit_distance)"
      ],
      "execution_count": 263,
      "outputs": [
        {
          "output_type": "stream",
          "name": "stdout",
          "text": [
            "lower limit for outlier  : -8.332330725542164\n",
            "Upper limit for outlier  : 17.17038832149208\n"
          ]
        }
      ]
    },
    {
      "cell_type": "markdown",
      "metadata": {
        "id": "zKbOjCACFw46"
      },
      "source": [
        "*** Here we handeled the necessary outliers"
      ]
    },
    {
      "cell_type": "code",
      "metadata": {
        "colab": {
          "base_uri": "https://localhost:8080/",
          "height": 307
        },
        "id": "j0ZBY7BHFqkN",
        "outputId": "8eddcab3-d738-46ae-ea42-0b0209f066ff"
      },
      "source": [
        "df.head()"
      ],
      "execution_count": 67,
      "outputs": [
        {
          "output_type": "execute_result",
          "data": {
            "text/html": [
              "<div>\n",
              "<style scoped>\n",
              "    .dataframe tbody tr th:only-of-type {\n",
              "        vertical-align: middle;\n",
              "    }\n",
              "\n",
              "    .dataframe tbody tr th {\n",
              "        vertical-align: top;\n",
              "    }\n",
              "\n",
              "    .dataframe thead th {\n",
              "        text-align: right;\n",
              "    }\n",
              "</style>\n",
              "<table border=\"1\" class=\"dataframe\">\n",
              "  <thead>\n",
              "    <tr style=\"text-align: right;\">\n",
              "      <th></th>\n",
              "      <th>id</th>\n",
              "      <th>vendor_id</th>\n",
              "      <th>pickup_datetime</th>\n",
              "      <th>dropoff_datetime</th>\n",
              "      <th>passenger_count</th>\n",
              "      <th>pickup_longitude</th>\n",
              "      <th>pickup_latitude</th>\n",
              "      <th>dropoff_longitude</th>\n",
              "      <th>dropoff_latitude</th>\n",
              "      <th>store_and_fwd_flag</th>\n",
              "      <th>trip_duration</th>\n",
              "      <th>pick_day</th>\n",
              "      <th>drop_day</th>\n",
              "      <th>pickup_hour</th>\n",
              "      <th>drop_hour</th>\n",
              "      <th>time_zone</th>\n",
              "      <th>distance</th>\n",
              "    </tr>\n",
              "  </thead>\n",
              "  <tbody>\n",
              "    <tr>\n",
              "      <th>0</th>\n",
              "      <td>id2875421</td>\n",
              "      <td>2</td>\n",
              "      <td>2016-03-14 17:24:55</td>\n",
              "      <td>2016-03-14 17:32:30</td>\n",
              "      <td>1</td>\n",
              "      <td>-73.982155</td>\n",
              "      <td>40.767937</td>\n",
              "      <td>-73.964630</td>\n",
              "      <td>40.765602</td>\n",
              "      <td>N</td>\n",
              "      <td>455</td>\n",
              "      <td>Monday</td>\n",
              "      <td>Monday</td>\n",
              "      <td>17</td>\n",
              "      <td>17</td>\n",
              "      <td>evening</td>\n",
              "      <td>1.498991</td>\n",
              "    </tr>\n",
              "    <tr>\n",
              "      <th>1</th>\n",
              "      <td>id2377394</td>\n",
              "      <td>1</td>\n",
              "      <td>2016-06-12 00:43:35</td>\n",
              "      <td>2016-06-12 00:54:38</td>\n",
              "      <td>1</td>\n",
              "      <td>-73.980415</td>\n",
              "      <td>40.738564</td>\n",
              "      <td>-73.999481</td>\n",
              "      <td>40.731152</td>\n",
              "      <td>N</td>\n",
              "      <td>663</td>\n",
              "      <td>Sunday</td>\n",
              "      <td>Sunday</td>\n",
              "      <td>0</td>\n",
              "      <td>0</td>\n",
              "      <td>late_night</td>\n",
              "      <td>1.806074</td>\n",
              "    </tr>\n",
              "    <tr>\n",
              "      <th>2</th>\n",
              "      <td>id3858529</td>\n",
              "      <td>2</td>\n",
              "      <td>2016-01-19 11:35:24</td>\n",
              "      <td>2016-01-19 12:10:48</td>\n",
              "      <td>1</td>\n",
              "      <td>-73.979027</td>\n",
              "      <td>40.763939</td>\n",
              "      <td>-74.005333</td>\n",
              "      <td>40.710087</td>\n",
              "      <td>N</td>\n",
              "      <td>2124</td>\n",
              "      <td>Tuesday</td>\n",
              "      <td>Tuesday</td>\n",
              "      <td>11</td>\n",
              "      <td>12</td>\n",
              "      <td>morning</td>\n",
              "      <td>6.387103</td>\n",
              "    </tr>\n",
              "    <tr>\n",
              "      <th>3</th>\n",
              "      <td>id3504673</td>\n",
              "      <td>2</td>\n",
              "      <td>2016-04-06 19:32:31</td>\n",
              "      <td>2016-04-06 19:39:40</td>\n",
              "      <td>1</td>\n",
              "      <td>-74.010040</td>\n",
              "      <td>40.719971</td>\n",
              "      <td>-74.012268</td>\n",
              "      <td>40.706718</td>\n",
              "      <td>N</td>\n",
              "      <td>429</td>\n",
              "      <td>Wednesday</td>\n",
              "      <td>Wednesday</td>\n",
              "      <td>19</td>\n",
              "      <td>19</td>\n",
              "      <td>evening</td>\n",
              "      <td>1.485965</td>\n",
              "    </tr>\n",
              "    <tr>\n",
              "      <th>4</th>\n",
              "      <td>id2181028</td>\n",
              "      <td>2</td>\n",
              "      <td>2016-03-26 13:30:55</td>\n",
              "      <td>2016-03-26 13:38:10</td>\n",
              "      <td>1</td>\n",
              "      <td>-73.973053</td>\n",
              "      <td>40.793209</td>\n",
              "      <td>-73.972923</td>\n",
              "      <td>40.782520</td>\n",
              "      <td>N</td>\n",
              "      <td>435</td>\n",
              "      <td>Saturday</td>\n",
              "      <td>Saturday</td>\n",
              "      <td>13</td>\n",
              "      <td>13</td>\n",
              "      <td>afternoon</td>\n",
              "      <td>1.188962</td>\n",
              "    </tr>\n",
              "  </tbody>\n",
              "</table>\n",
              "</div>"
            ],
            "text/plain": [
              "          id  vendor_id     pickup_datetime  ... drop_hour   time_zone  distance\n",
              "0  id2875421          2 2016-03-14 17:24:55  ...        17     evening  1.498991\n",
              "1  id2377394          1 2016-06-12 00:43:35  ...         0  late_night  1.806074\n",
              "2  id3858529          2 2016-01-19 11:35:24  ...        12     morning  6.387103\n",
              "3  id3504673          2 2016-04-06 19:32:31  ...        19     evening  1.485965\n",
              "4  id2181028          2 2016-03-26 13:30:55  ...        13   afternoon  1.188962\n",
              "\n",
              "[5 rows x 17 columns]"
            ]
          },
          "metadata": {},
          "execution_count": 67
        }
      ]
    },
    {
      "cell_type": "code",
      "metadata": {
        "id": "ght6tc1BGmyA"
      },
      "source": [
        "# we will convert trip duration from secs to hours \n",
        "df['trip_duration_hour'] = df['trip_duration']/3600"
      ],
      "execution_count": 154,
      "outputs": []
    },
    {
      "cell_type": "code",
      "metadata": {
        "colab": {
          "base_uri": "https://localhost:8080/",
          "height": 307
        },
        "id": "Cv_QA23lIGpJ",
        "outputId": "b93d2940-76c9-4bf9-c673-34049869bb27"
      },
      "source": [
        "df.head()"
      ],
      "execution_count": 155,
      "outputs": [
        {
          "output_type": "execute_result",
          "data": {
            "text/html": [
              "<div>\n",
              "<style scoped>\n",
              "    .dataframe tbody tr th:only-of-type {\n",
              "        vertical-align: middle;\n",
              "    }\n",
              "\n",
              "    .dataframe tbody tr th {\n",
              "        vertical-align: top;\n",
              "    }\n",
              "\n",
              "    .dataframe thead th {\n",
              "        text-align: right;\n",
              "    }\n",
              "</style>\n",
              "<table border=\"1\" class=\"dataframe\">\n",
              "  <thead>\n",
              "    <tr style=\"text-align: right;\">\n",
              "      <th></th>\n",
              "      <th>id</th>\n",
              "      <th>vendor_id</th>\n",
              "      <th>pickup_datetime</th>\n",
              "      <th>dropoff_datetime</th>\n",
              "      <th>passenger_count</th>\n",
              "      <th>pickup_longitude</th>\n",
              "      <th>pickup_latitude</th>\n",
              "      <th>dropoff_longitude</th>\n",
              "      <th>dropoff_latitude</th>\n",
              "      <th>store_and_fwd_flag</th>\n",
              "      <th>trip_duration</th>\n",
              "      <th>pickup_hour</th>\n",
              "      <th>drop_hour</th>\n",
              "      <th>time_zone</th>\n",
              "      <th>distance</th>\n",
              "      <th>trip_duration_hour</th>\n",
              "    </tr>\n",
              "  </thead>\n",
              "  <tbody>\n",
              "    <tr>\n",
              "      <th>0</th>\n",
              "      <td>id2875421</td>\n",
              "      <td>2</td>\n",
              "      <td>2016-03-14 17:24:55</td>\n",
              "      <td>2016-03-14 17:32:30</td>\n",
              "      <td>1</td>\n",
              "      <td>-73.982155</td>\n",
              "      <td>40.767937</td>\n",
              "      <td>-73.964630</td>\n",
              "      <td>40.765602</td>\n",
              "      <td>N</td>\n",
              "      <td>455</td>\n",
              "      <td>17</td>\n",
              "      <td>17</td>\n",
              "      <td>evening</td>\n",
              "      <td>1.498991</td>\n",
              "      <td>0.126389</td>\n",
              "    </tr>\n",
              "    <tr>\n",
              "      <th>1</th>\n",
              "      <td>id2377394</td>\n",
              "      <td>1</td>\n",
              "      <td>2016-06-12 00:43:35</td>\n",
              "      <td>2016-06-12 00:54:38</td>\n",
              "      <td>1</td>\n",
              "      <td>-73.980415</td>\n",
              "      <td>40.738564</td>\n",
              "      <td>-73.999481</td>\n",
              "      <td>40.731152</td>\n",
              "      <td>N</td>\n",
              "      <td>663</td>\n",
              "      <td>0</td>\n",
              "      <td>0</td>\n",
              "      <td>late_night</td>\n",
              "      <td>1.806074</td>\n",
              "      <td>0.184167</td>\n",
              "    </tr>\n",
              "    <tr>\n",
              "      <th>2</th>\n",
              "      <td>id3858529</td>\n",
              "      <td>2</td>\n",
              "      <td>2016-01-19 11:35:24</td>\n",
              "      <td>2016-01-19 12:10:48</td>\n",
              "      <td>1</td>\n",
              "      <td>-73.979027</td>\n",
              "      <td>40.763939</td>\n",
              "      <td>-74.005333</td>\n",
              "      <td>40.710087</td>\n",
              "      <td>N</td>\n",
              "      <td>2124</td>\n",
              "      <td>11</td>\n",
              "      <td>12</td>\n",
              "      <td>morning</td>\n",
              "      <td>6.387103</td>\n",
              "      <td>0.590000</td>\n",
              "    </tr>\n",
              "    <tr>\n",
              "      <th>3</th>\n",
              "      <td>id3504673</td>\n",
              "      <td>2</td>\n",
              "      <td>2016-04-06 19:32:31</td>\n",
              "      <td>2016-04-06 19:39:40</td>\n",
              "      <td>1</td>\n",
              "      <td>-74.010040</td>\n",
              "      <td>40.719971</td>\n",
              "      <td>-74.012268</td>\n",
              "      <td>40.706718</td>\n",
              "      <td>N</td>\n",
              "      <td>429</td>\n",
              "      <td>19</td>\n",
              "      <td>19</td>\n",
              "      <td>evening</td>\n",
              "      <td>1.485965</td>\n",
              "      <td>0.119167</td>\n",
              "    </tr>\n",
              "    <tr>\n",
              "      <th>4</th>\n",
              "      <td>id2181028</td>\n",
              "      <td>2</td>\n",
              "      <td>2016-03-26 13:30:55</td>\n",
              "      <td>2016-03-26 13:38:10</td>\n",
              "      <td>1</td>\n",
              "      <td>-73.973053</td>\n",
              "      <td>40.793209</td>\n",
              "      <td>-73.972923</td>\n",
              "      <td>40.782520</td>\n",
              "      <td>N</td>\n",
              "      <td>435</td>\n",
              "      <td>13</td>\n",
              "      <td>13</td>\n",
              "      <td>afternoon</td>\n",
              "      <td>1.188962</td>\n",
              "      <td>0.120833</td>\n",
              "    </tr>\n",
              "  </tbody>\n",
              "</table>\n",
              "</div>"
            ],
            "text/plain": [
              "          id  vendor_id  ...  distance trip_duration_hour\n",
              "0  id2875421          2  ...  1.498991           0.126389\n",
              "1  id2377394          1  ...  1.806074           0.184167\n",
              "2  id3858529          2  ...  6.387103           0.590000\n",
              "3  id3504673          2  ...  1.485965           0.119167\n",
              "4  id2181028          2  ...  1.188962           0.120833\n",
              "\n",
              "[5 rows x 16 columns]"
            ]
          },
          "metadata": {},
          "execution_count": 155
        }
      ]
    },
    {
      "cell_type": "code",
      "metadata": {
        "colab": {
          "base_uri": "https://localhost:8080/",
          "height": 398
        },
        "id": "u2o4OsiJHvCg",
        "outputId": "9158e26b-94b5-47cf-f450-c451960fe66e"
      },
      "source": [
        "# 1st we will look at dependent variable \n",
        "\n",
        "plt.figure(figsize = (10,5))\n",
        "sns.distplot(df['trip_duration'])\n",
        "plt.xlabel('Trip Duration')\n",
        "\n",
        "plt.show()"
      ],
      "execution_count": 156,
      "outputs": [
        {
          "output_type": "stream",
          "name": "stderr",
          "text": [
            "/usr/local/lib/python3.7/dist-packages/seaborn/distributions.py:2557: FutureWarning: `distplot` is a deprecated function and will be removed in a future version. Please adapt your code to use either `displot` (a figure-level function with similar flexibility) or `histplot` (an axes-level function for histograms).\n",
            "  warnings.warn(msg, FutureWarning)\n"
          ]
        },
        {
          "output_type": "display_data",
          "data": {
            "image/png": "[encoded data removed]",
            "text/plain": [
              "<Figure size 720x360 with 1 Axes>"
            ]
          },
          "metadata": {
            "needs_background": "light"
          }
        }
      ]
    },
    {
      "cell_type": "markdown",
      "metadata": {
        "id": "Is7O5HhPuHdw"
      },
      "source": [
        "As we can see it id highly right skewed by applying logrethmic transformation it will be normalised"
      ]
    },
    {
      "cell_type": "code",
      "metadata": {
        "colab": {
          "base_uri": "https://localhost:8080/",
          "height": 389
        },
        "id": "m6OBZl3YHvAw",
        "outputId": "322996f1-b159-4044-bb05-335b99e9e5fe"
      },
      "source": [
        "plt.figure(figsize=(10,5))\n",
        "sns.distplot(np.log10(df['trip_duration']))\n",
        "plt.xlabel('Trip_Duration')\n",
        "plt.show()"
      ],
      "execution_count": 157,
      "outputs": [
        {
          "output_type": "stream",
          "name": "stderr",
          "text": [
            "/usr/local/lib/python3.7/dist-packages/seaborn/distributions.py:2557: FutureWarning: `distplot` is a deprecated function and will be removed in a future version. Please adapt your code to use either `displot` (a figure-level function with similar flexibility) or `histplot` (an axes-level function for histograms).\n",
            "  warnings.warn(msg, FutureWarning)\n"
          ]
        },
        {
          "output_type": "display_data",
          "data": {
            "image/png": "[encoded data removed]",
            "text/plain": [
              "<Figure size 720x360 with 1 Axes>"
            ]
          },
          "metadata": {
            "needs_background": "light"
          }
        }
      ]
    },
    {
      "cell_type": "code",
      "metadata": {
        "colab": {
          "base_uri": "https://localhost:8080/"
        },
        "id": "HfWAImCdHu9j",
        "outputId": "295ccedb-f76f-4626-e7dd-db629b11d20f"
      },
      "source": [
        "# now we will look into some bivariate analysis taking trip duration into consideration \n",
        "df.columns"
      ],
      "execution_count": 158,
      "outputs": [
        {
          "output_type": "execute_result",
          "data": {
            "text/plain": [
              "Index(['id', 'vendor_id', 'pickup_datetime', 'dropoff_datetime',\n",
              "       'passenger_count', 'pickup_longitude', 'pickup_latitude',\n",
              "       'dropoff_longitude', 'dropoff_latitude', 'store_and_fwd_flag',\n",
              "       'trip_duration', 'pickup_hour', 'drop_hour', 'time_zone', 'distance',\n",
              "       'trip_duration_hour'],\n",
              "      dtype='object')"
            ]
          },
          "metadata": {},
          "execution_count": 158
        }
      ]
    },
    {
      "cell_type": "code",
      "metadata": {
        "id": "nvnZqApMHu7_",
        "colab": {
          "base_uri": "https://localhost:8080/",
          "height": 352
        },
        "outputId": "dee49d37-d18c-4643-9ba7-ee364be07556"
      },
      "source": [
        "# 1. how trip duration varied according to vendor id\n",
        "\n",
        "plt.figure(figsize=(10,5))\n",
        "sns.barplot(x ='vendor_id' , y='trip_duration',data=df)"
      ],
      "execution_count": 73,
      "outputs": [
        {
          "output_type": "execute_result",
          "data": {
            "text/plain": [
              "<matplotlib.axes._subplots.AxesSubplot at 0x7f5d2341f390>"
            ]
          },
          "metadata": {},
          "execution_count": 73
        },
        {
          "output_type": "display_data",
          "data": {
            "image/png": "[encoded data removed]",
            "text/plain": [
              "<Figure size 720x360 with 1 Axes>"
            ]
          },
          "metadata": {
            "needs_background": "light"
          }
        }
      ]
    },
    {
      "cell_type": "markdown",
      "metadata": {
        "id": "pjIF5QbxyOIn"
      },
      "source": [
        "Id 2 has longer trip duration"
      ]
    },
    {
      "cell_type": "code",
      "metadata": {
        "colab": {
          "base_uri": "https://localhost:8080/",
          "height": 334
        },
        "id": "eEVvJrzjyTFa",
        "outputId": "32da903c-1c12-4585-ee04-27cebcaef9ad"
      },
      "source": [
        "plt.figure(figsize = (10,5))\n",
        "sns.lineplot(x='pickup_hour',y='trip_duration',data=df)\n",
        "plt.xlabel('Time of Pickup (24hr format)')\n",
        "plt.ylabel('Duration (seconds)')\n",
        "plt.show()\n"
      ],
      "execution_count": 74,
      "outputs": [
        {
          "output_type": "display_data",
          "data": {
            "image/png": "[encoded data removed]",
            "text/plain": [
              "<Figure size 720x360 with 1 Axes>"
            ]
          },
          "metadata": {
            "needs_background": "light"
          }
        }
      ]
    },
    {
      "cell_type": "markdown",
      "metadata": {
        "id": "c9WWcbiv8qh5"
      },
      "source": [
        "We can see maximum duration of trips is around 3pm and lowest around morning times\n"
      ]
    },
    {
      "cell_type": "code",
      "metadata": {
        "colab": {
          "base_uri": "https://localhost:8080/",
          "height": 334
        },
        "id": "JiIYbTYH0l-r",
        "outputId": "9d57a5e6-735e-4091-c823-aa10a2315099"
      },
      "source": [
        "plt.figure(figsize = (10,5))\n",
        "sns.barplot(x='drop_hour',y='trip_duration',data=df)\n",
        "plt.xlabel('Time of Pickup (24hr format)')\n",
        "plt.ylabel('Duration (seconds)')\n",
        "plt.show()"
      ],
      "execution_count": 75,
      "outputs": [
        {
          "output_type": "display_data",
          "data": {
            "image/png": "[encoded data removed]",
            "text/plain": [
              "<Figure size 720x360 with 1 Axes>"
            ]
          },
          "metadata": {
            "needs_background": "light"
          }
        }
      ]
    },
    {
      "cell_type": "code",
      "metadata": {
        "colab": {
          "base_uri": "https://localhost:8080/",
          "height": 335
        },
        "id": "YVFgcO8Y8Stt",
        "outputId": "5c4b676e-cbb4-4a08-a7e4-7d0adf30154e"
      },
      "source": [
        "# time according to distance\n",
        "plt.figure(figsize = (10,5))\n",
        "sns.lineplot(y='distance',x='pickup_hour',data=df)\n",
        "plt.show()"
      ],
      "execution_count": 76,
      "outputs": [
        {
          "output_type": "display_data",
          "data": {
            "image/png": "[encoded data removed]",
            "text/plain": [
              "<Figure size 720x360 with 1 Axes>"
            ]
          },
          "metadata": {
            "needs_background": "light"
          }
        }
      ]
    },
    {
      "cell_type": "markdown",
      "metadata": {
        "id": "bj9xIUw1A8Xf"
      },
      "source": [
        "Max pickup is in morning hours, and drastically drops in the afternoon time, and gradually increses towards late night"
      ]
    },
    {
      "cell_type": "code",
      "metadata": {
        "colab": {
          "base_uri": "https://localhost:8080/"
        },
        "id": "KAFGm8rNSpPB",
        "outputId": "63980201-1fd5-45ec-e32a-34702f9f5c04"
      },
      "source": [
        "df.columns"
      ],
      "execution_count": 77,
      "outputs": [
        {
          "output_type": "execute_result",
          "data": {
            "text/plain": [
              "Index(['id', 'vendor_id', 'pickup_datetime', 'dropoff_datetime',\n",
              "       'passenger_count', 'pickup_longitude', 'pickup_latitude',\n",
              "       'dropoff_longitude', 'dropoff_latitude', 'store_and_fwd_flag',\n",
              "       'trip_duration', 'pick_day', 'drop_day', 'pickup_hour', 'drop_hour',\n",
              "       'time_zone', 'distance', 'trip_duration_hour'],\n",
              "      dtype='object')"
            ]
          },
          "metadata": {},
          "execution_count": 77
        }
      ]
    },
    {
      "cell_type": "code",
      "metadata": {
        "id": "59IbDNw9BXLK"
      },
      "source": [
        "# Feature engineering \n",
        "\n",
        "df = pd.get_dummies(df,columns=['pick_day'],  drop_first=True)"
      ],
      "execution_count": 168,
      "outputs": []
    },
    {
      "cell_type": "code",
      "metadata": {
        "colab": {
          "base_uri": "https://localhost:8080/",
          "height": 307
        },
        "id": "zJvQiajbS86e",
        "outputId": "fc816c9e-a016-49b0-fe1a-6e4b3f371c77"
      },
      "source": [
        "df.head()"
      ],
      "execution_count": 79,
      "outputs": [
        {
          "output_type": "execute_result",
          "data": {
            "text/html": [
              "<div>\n",
              "<style scoped>\n",
              "    .dataframe tbody tr th:only-of-type {\n",
              "        vertical-align: middle;\n",
              "    }\n",
              "\n",
              "    .dataframe tbody tr th {\n",
              "        vertical-align: top;\n",
              "    }\n",
              "\n",
              "    .dataframe thead th {\n",
              "        text-align: right;\n",
              "    }\n",
              "</style>\n",
              "<table border=\"1\" class=\"dataframe\">\n",
              "  <thead>\n",
              "    <tr style=\"text-align: right;\">\n",
              "      <th></th>\n",
              "      <th>id</th>\n",
              "      <th>vendor_id</th>\n",
              "      <th>pickup_datetime</th>\n",
              "      <th>dropoff_datetime</th>\n",
              "      <th>passenger_count</th>\n",
              "      <th>pickup_longitude</th>\n",
              "      <th>pickup_latitude</th>\n",
              "      <th>dropoff_longitude</th>\n",
              "      <th>dropoff_latitude</th>\n",
              "      <th>store_and_fwd_flag</th>\n",
              "      <th>trip_duration</th>\n",
              "      <th>drop_day</th>\n",
              "      <th>pickup_hour</th>\n",
              "      <th>drop_hour</th>\n",
              "      <th>time_zone</th>\n",
              "      <th>distance</th>\n",
              "      <th>trip_duration_hour</th>\n",
              "      <th>pick_day_Monday</th>\n",
              "      <th>pick_day_Saturday</th>\n",
              "      <th>pick_day_Sunday</th>\n",
              "      <th>pick_day_Thursday</th>\n",
              "      <th>pick_day_Tuesday</th>\n",
              "      <th>pick_day_Wednesday</th>\n",
              "    </tr>\n",
              "  </thead>\n",
              "  <tbody>\n",
              "    <tr>\n",
              "      <th>0</th>\n",
              "      <td>id2875421</td>\n",
              "      <td>2</td>\n",
              "      <td>2016-03-14 17:24:55</td>\n",
              "      <td>2016-03-14 17:32:30</td>\n",
              "      <td>1</td>\n",
              "      <td>-73.982155</td>\n",
              "      <td>40.767937</td>\n",
              "      <td>-73.964630</td>\n",
              "      <td>40.765602</td>\n",
              "      <td>N</td>\n",
              "      <td>455</td>\n",
              "      <td>Monday</td>\n",
              "      <td>17</td>\n",
              "      <td>17</td>\n",
              "      <td>evening</td>\n",
              "      <td>1.498991</td>\n",
              "      <td>0.126389</td>\n",
              "      <td>1</td>\n",
              "      <td>0</td>\n",
              "      <td>0</td>\n",
              "      <td>0</td>\n",
              "      <td>0</td>\n",
              "      <td>0</td>\n",
              "    </tr>\n",
              "    <tr>\n",
              "      <th>1</th>\n",
              "      <td>id2377394</td>\n",
              "      <td>1</td>\n",
              "      <td>2016-06-12 00:43:35</td>\n",
              "      <td>2016-06-12 00:54:38</td>\n",
              "      <td>1</td>\n",
              "      <td>-73.980415</td>\n",
              "      <td>40.738564</td>\n",
              "      <td>-73.999481</td>\n",
              "      <td>40.731152</td>\n",
              "      <td>N</td>\n",
              "      <td>663</td>\n",
              "      <td>Sunday</td>\n",
              "      <td>0</td>\n",
              "      <td>0</td>\n",
              "      <td>late_night</td>\n",
              "      <td>1.806074</td>\n",
              "      <td>0.184167</td>\n",
              "      <td>0</td>\n",
              "      <td>0</td>\n",
              "      <td>1</td>\n",
              "      <td>0</td>\n",
              "      <td>0</td>\n",
              "      <td>0</td>\n",
              "    </tr>\n",
              "    <tr>\n",
              "      <th>2</th>\n",
              "      <td>id3858529</td>\n",
              "      <td>2</td>\n",
              "      <td>2016-01-19 11:35:24</td>\n",
              "      <td>2016-01-19 12:10:48</td>\n",
              "      <td>1</td>\n",
              "      <td>-73.979027</td>\n",
              "      <td>40.763939</td>\n",
              "      <td>-74.005333</td>\n",
              "      <td>40.710087</td>\n",
              "      <td>N</td>\n",
              "      <td>2124</td>\n",
              "      <td>Tuesday</td>\n",
              "      <td>11</td>\n",
              "      <td>12</td>\n",
              "      <td>morning</td>\n",
              "      <td>6.387103</td>\n",
              "      <td>0.590000</td>\n",
              "      <td>0</td>\n",
              "      <td>0</td>\n",
              "      <td>0</td>\n",
              "      <td>0</td>\n",
              "      <td>1</td>\n",
              "      <td>0</td>\n",
              "    </tr>\n",
              "    <tr>\n",
              "      <th>3</th>\n",
              "      <td>id3504673</td>\n",
              "      <td>2</td>\n",
              "      <td>2016-04-06 19:32:31</td>\n",
              "      <td>2016-04-06 19:39:40</td>\n",
              "      <td>1</td>\n",
              "      <td>-74.010040</td>\n",
              "      <td>40.719971</td>\n",
              "      <td>-74.012268</td>\n",
              "      <td>40.706718</td>\n",
              "      <td>N</td>\n",
              "      <td>429</td>\n",
              "      <td>Wednesday</td>\n",
              "      <td>19</td>\n",
              "      <td>19</td>\n",
              "      <td>evening</td>\n",
              "      <td>1.485965</td>\n",
              "      <td>0.119167</td>\n",
              "      <td>0</td>\n",
              "      <td>0</td>\n",
              "      <td>0</td>\n",
              "      <td>0</td>\n",
              "      <td>0</td>\n",
              "      <td>1</td>\n",
              "    </tr>\n",
              "    <tr>\n",
              "      <th>4</th>\n",
              "      <td>id2181028</td>\n",
              "      <td>2</td>\n",
              "      <td>2016-03-26 13:30:55</td>\n",
              "      <td>2016-03-26 13:38:10</td>\n",
              "      <td>1</td>\n",
              "      <td>-73.973053</td>\n",
              "      <td>40.793209</td>\n",
              "      <td>-73.972923</td>\n",
              "      <td>40.782520</td>\n",
              "      <td>N</td>\n",
              "      <td>435</td>\n",
              "      <td>Saturday</td>\n",
              "      <td>13</td>\n",
              "      <td>13</td>\n",
              "      <td>afternoon</td>\n",
              "      <td>1.188962</td>\n",
              "      <td>0.120833</td>\n",
              "      <td>0</td>\n",
              "      <td>1</td>\n",
              "      <td>0</td>\n",
              "      <td>0</td>\n",
              "      <td>0</td>\n",
              "      <td>0</td>\n",
              "    </tr>\n",
              "  </tbody>\n",
              "</table>\n",
              "</div>"
            ],
            "text/plain": [
              "          id  vendor_id  ... pick_day_Tuesday pick_day_Wednesday\n",
              "0  id2875421          2  ...                0                  0\n",
              "1  id2377394          1  ...                0                  0\n",
              "2  id3858529          2  ...                1                  0\n",
              "3  id3504673          2  ...                0                  1\n",
              "4  id2181028          2  ...                0                  0\n",
              "\n",
              "[5 rows x 23 columns]"
            ]
          },
          "metadata": {},
          "execution_count": 79
        }
      ]
    },
    {
      "cell_type": "code",
      "metadata": {
        "id": "g_A_MKQKTCfS"
      },
      "source": [
        "df= df.drop(['id','store_and_fwd_flag','drop_day','time_zone',\n",
        "             'drop_hour','pickup_datetime','dropoff_datetime','trip_duration_hour'] , axis=1)"
      ],
      "execution_count": 169,
      "outputs": []
    },
    {
      "cell_type": "code",
      "metadata": {
        "colab": {
          "base_uri": "https://localhost:8080/",
          "height": 223
        },
        "id": "5ZNNnO-lZoBS",
        "outputId": "cb499179-8991-48f1-93d6-9886f2590889"
      },
      "source": [
        "df.head()"
      ],
      "execution_count": 264,
      "outputs": [
        {
          "output_type": "execute_result",
          "data": {
            "text/html": [
              "<div>\n",
              "<style scoped>\n",
              "    .dataframe tbody tr th:only-of-type {\n",
              "        vertical-align: middle;\n",
              "    }\n",
              "\n",
              "    .dataframe tbody tr th {\n",
              "        vertical-align: top;\n",
              "    }\n",
              "\n",
              "    .dataframe thead th {\n",
              "        text-align: right;\n",
              "    }\n",
              "</style>\n",
              "<table border=\"1\" class=\"dataframe\">\n",
              "  <thead>\n",
              "    <tr style=\"text-align: right;\">\n",
              "      <th></th>\n",
              "      <th>vendor_id</th>\n",
              "      <th>passenger_count</th>\n",
              "      <th>pickup_longitude</th>\n",
              "      <th>pickup_latitude</th>\n",
              "      <th>dropoff_longitude</th>\n",
              "      <th>dropoff_latitude</th>\n",
              "      <th>trip_duration</th>\n",
              "      <th>pickup_hour</th>\n",
              "      <th>distance</th>\n",
              "      <th>pick_day_Monday</th>\n",
              "      <th>pick_day_Saturday</th>\n",
              "      <th>pick_day_Sunday</th>\n",
              "      <th>pick_day_Thursday</th>\n",
              "      <th>pick_day_Tuesday</th>\n",
              "      <th>pick_day_Wednesday</th>\n",
              "    </tr>\n",
              "  </thead>\n",
              "  <tbody>\n",
              "    <tr>\n",
              "      <th>0</th>\n",
              "      <td>2</td>\n",
              "      <td>1</td>\n",
              "      <td>-73.982155</td>\n",
              "      <td>40.767937</td>\n",
              "      <td>-73.964630</td>\n",
              "      <td>40.765602</td>\n",
              "      <td>455</td>\n",
              "      <td>17</td>\n",
              "      <td>1.498991</td>\n",
              "      <td>1</td>\n",
              "      <td>0</td>\n",
              "      <td>0</td>\n",
              "      <td>0</td>\n",
              "      <td>0</td>\n",
              "      <td>0</td>\n",
              "    </tr>\n",
              "    <tr>\n",
              "      <th>1</th>\n",
              "      <td>1</td>\n",
              "      <td>1</td>\n",
              "      <td>-73.980415</td>\n",
              "      <td>40.738564</td>\n",
              "      <td>-73.999481</td>\n",
              "      <td>40.731152</td>\n",
              "      <td>663</td>\n",
              "      <td>0</td>\n",
              "      <td>1.806074</td>\n",
              "      <td>0</td>\n",
              "      <td>0</td>\n",
              "      <td>1</td>\n",
              "      <td>0</td>\n",
              "      <td>0</td>\n",
              "      <td>0</td>\n",
              "    </tr>\n",
              "    <tr>\n",
              "      <th>2</th>\n",
              "      <td>2</td>\n",
              "      <td>1</td>\n",
              "      <td>-73.979027</td>\n",
              "      <td>40.763939</td>\n",
              "      <td>-74.005333</td>\n",
              "      <td>40.710087</td>\n",
              "      <td>2124</td>\n",
              "      <td>11</td>\n",
              "      <td>6.387103</td>\n",
              "      <td>0</td>\n",
              "      <td>0</td>\n",
              "      <td>0</td>\n",
              "      <td>0</td>\n",
              "      <td>1</td>\n",
              "      <td>0</td>\n",
              "    </tr>\n",
              "    <tr>\n",
              "      <th>3</th>\n",
              "      <td>2</td>\n",
              "      <td>1</td>\n",
              "      <td>-74.010040</td>\n",
              "      <td>40.719971</td>\n",
              "      <td>-74.012268</td>\n",
              "      <td>40.706718</td>\n",
              "      <td>429</td>\n",
              "      <td>19</td>\n",
              "      <td>1.485965</td>\n",
              "      <td>0</td>\n",
              "      <td>0</td>\n",
              "      <td>0</td>\n",
              "      <td>0</td>\n",
              "      <td>0</td>\n",
              "      <td>1</td>\n",
              "    </tr>\n",
              "    <tr>\n",
              "      <th>4</th>\n",
              "      <td>2</td>\n",
              "      <td>1</td>\n",
              "      <td>-73.973053</td>\n",
              "      <td>40.793209</td>\n",
              "      <td>-73.972923</td>\n",
              "      <td>40.782520</td>\n",
              "      <td>435</td>\n",
              "      <td>13</td>\n",
              "      <td>1.188962</td>\n",
              "      <td>0</td>\n",
              "      <td>1</td>\n",
              "      <td>0</td>\n",
              "      <td>0</td>\n",
              "      <td>0</td>\n",
              "      <td>0</td>\n",
              "    </tr>\n",
              "  </tbody>\n",
              "</table>\n",
              "</div>"
            ],
            "text/plain": [
              "   vendor_id  passenger_count  ...  pick_day_Tuesday  pick_day_Wednesday\n",
              "0          2                1  ...                 0                   0\n",
              "1          1                1  ...                 0                   0\n",
              "2          2                1  ...                 1                   0\n",
              "3          2                1  ...                 0                   1\n",
              "4          2                1  ...                 0                   0\n",
              "\n",
              "[5 rows x 15 columns]"
            ]
          },
          "metadata": {},
          "execution_count": 264
        }
      ]
    },
    {
      "cell_type": "code",
      "metadata": {
        "id": "6CcNA6EYZn1q",
        "colab": {
          "base_uri": "https://localhost:8080/",
          "height": 709
        },
        "outputId": "d7867284-4a5f-4568-a44e-b0dce23f5992"
      },
      "source": [
        "# correlation map\n",
        "plt.figure (figsize= (20,10))\n",
        "corelation= df.corr()\n",
        "sns.heatmap(abs(corelation), annot = True, vmin=-1, vmax=1, center= 0)\n"
      ],
      "execution_count": 265,
      "outputs": [
        {
          "output_type": "execute_result",
          "data": {
            "text/plain": [
              "<matplotlib.axes._subplots.AxesSubplot at 0x7f5cf7395550>"
            ]
          },
          "metadata": {},
          "execution_count": 265
        },
        {
          "output_type": "display_data",
          "data": {
            "image/png": "[encoded data removed]",
            "text/plain": [
              "<Figure size 1440x720 with 2 Axes>"
            ]
          },
          "metadata": {
            "needs_background": "light"
          }
        }
      ]
    },
    {
      "cell_type": "code",
      "metadata": {
        "colab": {
          "base_uri": "https://localhost:8080/",
          "height": 531
        },
        "id": "eZx__f8ZcYLv",
        "outputId": "36477b9c-6644-410a-93f6-ea6bcfae53d6"
      },
      "source": [
        "df.corr()"
      ],
      "execution_count": 266,
      "outputs": [
        {
          "output_type": "execute_result",
          "data": {
            "text/html": [
              "<div>\n",
              "<style scoped>\n",
              "    .dataframe tbody tr th:only-of-type {\n",
              "        vertical-align: middle;\n",
              "    }\n",
              "\n",
              "    .dataframe tbody tr th {\n",
              "        vertical-align: top;\n",
              "    }\n",
              "\n",
              "    .dataframe thead th {\n",
              "        text-align: right;\n",
              "    }\n",
              "</style>\n",
              "<table border=\"1\" class=\"dataframe\">\n",
              "  <thead>\n",
              "    <tr style=\"text-align: right;\">\n",
              "      <th></th>\n",
              "      <th>vendor_id</th>\n",
              "      <th>passenger_count</th>\n",
              "      <th>pickup_longitude</th>\n",
              "      <th>pickup_latitude</th>\n",
              "      <th>dropoff_longitude</th>\n",
              "      <th>dropoff_latitude</th>\n",
              "      <th>trip_duration</th>\n",
              "      <th>pickup_hour</th>\n",
              "      <th>distance</th>\n",
              "      <th>pick_day_Monday</th>\n",
              "      <th>pick_day_Saturday</th>\n",
              "      <th>pick_day_Sunday</th>\n",
              "      <th>pick_day_Thursday</th>\n",
              "      <th>pick_day_Tuesday</th>\n",
              "      <th>pick_day_Wednesday</th>\n",
              "    </tr>\n",
              "  </thead>\n",
              "  <tbody>\n",
              "    <tr>\n",
              "      <th>vendor_id</th>\n",
              "      <td>1.000000</td>\n",
              "      <td>0.088497</td>\n",
              "      <td>0.007346</td>\n",
              "      <td>-0.000189</td>\n",
              "      <td>0.001105</td>\n",
              "      <td>0.003607</td>\n",
              "      <td>0.019916</td>\n",
              "      <td>0.011931</td>\n",
              "      <td>0.010037</td>\n",
              "      <td>0.000313</td>\n",
              "      <td>0.002086</td>\n",
              "      <td>0.004235</td>\n",
              "      <td>-0.002857</td>\n",
              "      <td>0.000402</td>\n",
              "      <td>-0.002619</td>\n",
              "    </tr>\n",
              "    <tr>\n",
              "      <th>passenger_count</th>\n",
              "      <td>0.088497</td>\n",
              "      <td>1.000000</td>\n",
              "      <td>-0.000922</td>\n",
              "      <td>-0.014319</td>\n",
              "      <td>-0.001615</td>\n",
              "      <td>-0.007408</td>\n",
              "      <td>0.005969</td>\n",
              "      <td>0.027180</td>\n",
              "      <td>0.019517</td>\n",
              "      <td>-0.009687</td>\n",
              "      <td>0.036795</td>\n",
              "      <td>0.028938</td>\n",
              "      <td>-0.016686</td>\n",
              "      <td>-0.019034</td>\n",
              "      <td>-0.018377</td>\n",
              "    </tr>\n",
              "    <tr>\n",
              "      <th>pickup_longitude</th>\n",
              "      <td>0.007346</td>\n",
              "      <td>-0.000922</td>\n",
              "      <td>1.000000</td>\n",
              "      <td>0.034400</td>\n",
              "      <td>0.803608</td>\n",
              "      <td>0.103282</td>\n",
              "      <td>0.025006</td>\n",
              "      <td>0.009244</td>\n",
              "      <td>0.247324</td>\n",
              "      <td>0.016495</td>\n",
              "      <td>-0.016564</td>\n",
              "      <td>0.001818</td>\n",
              "      <td>-0.000951</td>\n",
              "      <td>0.004598</td>\n",
              "      <td>-0.001422</td>\n",
              "    </tr>\n",
              "    <tr>\n",
              "      <th>pickup_latitude</th>\n",
              "      <td>-0.000189</td>\n",
              "      <td>-0.014319</td>\n",
              "      <td>0.034400</td>\n",
              "      <td>1.000000</td>\n",
              "      <td>0.112246</td>\n",
              "      <td>0.489352</td>\n",
              "      <td>-0.029340</td>\n",
              "      <td>0.010767</td>\n",
              "      <td>-0.170130</td>\n",
              "      <td>0.004662</td>\n",
              "      <td>-0.021347</td>\n",
              "      <td>-0.023123</td>\n",
              "      <td>0.008527</td>\n",
              "      <td>0.013984</td>\n",
              "      <td>0.013674</td>\n",
              "    </tr>\n",
              "    <tr>\n",
              "      <th>dropoff_longitude</th>\n",
              "      <td>0.001105</td>\n",
              "      <td>-0.001615</td>\n",
              "      <td>0.803608</td>\n",
              "      <td>0.112246</td>\n",
              "      <td>1.000000</td>\n",
              "      <td>0.129268</td>\n",
              "      <td>0.013724</td>\n",
              "      <td>-0.021710</td>\n",
              "      <td>0.137400</td>\n",
              "      <td>0.004975</td>\n",
              "      <td>-0.008288</td>\n",
              "      <td>0.006209</td>\n",
              "      <td>0.000642</td>\n",
              "      <td>-0.001490</td>\n",
              "      <td>-0.002634</td>\n",
              "    </tr>\n",
              "    <tr>\n",
              "      <th>dropoff_latitude</th>\n",
              "      <td>0.003607</td>\n",
              "      <td>-0.007408</td>\n",
              "      <td>0.103282</td>\n",
              "      <td>0.489352</td>\n",
              "      <td>0.129268</td>\n",
              "      <td>1.000000</td>\n",
              "      <td>-0.020553</td>\n",
              "      <td>0.013367</td>\n",
              "      <td>-0.130387</td>\n",
              "      <td>0.006627</td>\n",
              "      <td>-0.017941</td>\n",
              "      <td>-0.012381</td>\n",
              "      <td>0.003064</td>\n",
              "      <td>0.011407</td>\n",
              "      <td>0.009510</td>\n",
              "    </tr>\n",
              "    <tr>\n",
              "      <th>trip_duration</th>\n",
              "      <td>0.019916</td>\n",
              "      <td>0.005969</td>\n",
              "      <td>0.025006</td>\n",
              "      <td>-0.029340</td>\n",
              "      <td>0.013724</td>\n",
              "      <td>-0.020553</td>\n",
              "      <td>1.000000</td>\n",
              "      <td>0.003717</td>\n",
              "      <td>0.093654</td>\n",
              "      <td>-0.004674</td>\n",
              "      <td>-0.000892</td>\n",
              "      <td>-0.004198</td>\n",
              "      <td>0.003771</td>\n",
              "      <td>0.002169</td>\n",
              "      <td>0.001453</td>\n",
              "    </tr>\n",
              "    <tr>\n",
              "      <th>pickup_hour</th>\n",
              "      <td>0.011931</td>\n",
              "      <td>0.027180</td>\n",
              "      <td>0.009244</td>\n",
              "      <td>0.010767</td>\n",
              "      <td>-0.021710</td>\n",
              "      <td>0.013367</td>\n",
              "      <td>0.003717</td>\n",
              "      <td>1.000000</td>\n",
              "      <td>-0.016029</td>\n",
              "      <td>0.021383</td>\n",
              "      <td>-0.031195</td>\n",
              "      <td>-0.086309</td>\n",
              "      <td>0.030631</td>\n",
              "      <td>0.031800</td>\n",
              "      <td>0.029587</td>\n",
              "    </tr>\n",
              "    <tr>\n",
              "      <th>distance</th>\n",
              "      <td>0.010037</td>\n",
              "      <td>0.019517</td>\n",
              "      <td>0.247324</td>\n",
              "      <td>-0.170130</td>\n",
              "      <td>0.137400</td>\n",
              "      <td>-0.130387</td>\n",
              "      <td>0.093654</td>\n",
              "      <td>-0.016029</td>\n",
              "      <td>1.000000</td>\n",
              "      <td>0.011328</td>\n",
              "      <td>-0.010367</td>\n",
              "      <td>0.025931</td>\n",
              "      <td>-0.001847</td>\n",
              "      <td>-0.009387</td>\n",
              "      <td>-0.009832</td>\n",
              "    </tr>\n",
              "    <tr>\n",
              "      <th>pick_day_Monday</th>\n",
              "      <td>0.000313</td>\n",
              "      <td>-0.009687</td>\n",
              "      <td>0.016495</td>\n",
              "      <td>0.004662</td>\n",
              "      <td>0.004975</td>\n",
              "      <td>0.006627</td>\n",
              "      <td>-0.004674</td>\n",
              "      <td>0.021383</td>\n",
              "      <td>0.011328</td>\n",
              "      <td>1.000000</td>\n",
              "      <td>-0.161928</td>\n",
              "      <td>-0.150922</td>\n",
              "      <td>-0.162036</td>\n",
              "      <td>-0.155040</td>\n",
              "      <td>-0.158393</td>\n",
              "    </tr>\n",
              "    <tr>\n",
              "      <th>pick_day_Saturday</th>\n",
              "      <td>0.002086</td>\n",
              "      <td>0.036795</td>\n",
              "      <td>-0.016564</td>\n",
              "      <td>-0.021347</td>\n",
              "      <td>-0.008288</td>\n",
              "      <td>-0.017941</td>\n",
              "      <td>-0.000892</td>\n",
              "      <td>-0.031195</td>\n",
              "      <td>-0.010367</td>\n",
              "      <td>-0.161928</td>\n",
              "      <td>1.000000</td>\n",
              "      <td>-0.164672</td>\n",
              "      <td>-0.176799</td>\n",
              "      <td>-0.169166</td>\n",
              "      <td>-0.172824</td>\n",
              "    </tr>\n",
              "    <tr>\n",
              "      <th>pick_day_Sunday</th>\n",
              "      <td>0.004235</td>\n",
              "      <td>0.028938</td>\n",
              "      <td>0.001818</td>\n",
              "      <td>-0.023123</td>\n",
              "      <td>0.006209</td>\n",
              "      <td>-0.012381</td>\n",
              "      <td>-0.004198</td>\n",
              "      <td>-0.086309</td>\n",
              "      <td>0.025931</td>\n",
              "      <td>-0.150922</td>\n",
              "      <td>-0.164672</td>\n",
              "      <td>1.000000</td>\n",
              "      <td>-0.164783</td>\n",
              "      <td>-0.157668</td>\n",
              "      <td>-0.161077</td>\n",
              "    </tr>\n",
              "    <tr>\n",
              "      <th>pick_day_Thursday</th>\n",
              "      <td>-0.002857</td>\n",
              "      <td>-0.016686</td>\n",
              "      <td>-0.000951</td>\n",
              "      <td>0.008527</td>\n",
              "      <td>0.000642</td>\n",
              "      <td>0.003064</td>\n",
              "      <td>0.003771</td>\n",
              "      <td>0.030631</td>\n",
              "      <td>-0.001847</td>\n",
              "      <td>-0.162036</td>\n",
              "      <td>-0.176799</td>\n",
              "      <td>-0.164783</td>\n",
              "      <td>1.000000</td>\n",
              "      <td>-0.169279</td>\n",
              "      <td>-0.172940</td>\n",
              "    </tr>\n",
              "    <tr>\n",
              "      <th>pick_day_Tuesday</th>\n",
              "      <td>0.000402</td>\n",
              "      <td>-0.019034</td>\n",
              "      <td>0.004598</td>\n",
              "      <td>0.013984</td>\n",
              "      <td>-0.001490</td>\n",
              "      <td>0.011407</td>\n",
              "      <td>0.002169</td>\n",
              "      <td>0.031800</td>\n",
              "      <td>-0.009387</td>\n",
              "      <td>-0.155040</td>\n",
              "      <td>-0.169166</td>\n",
              "      <td>-0.157668</td>\n",
              "      <td>-0.169279</td>\n",
              "      <td>1.000000</td>\n",
              "      <td>-0.165473</td>\n",
              "    </tr>\n",
              "    <tr>\n",
              "      <th>pick_day_Wednesday</th>\n",
              "      <td>-0.002619</td>\n",
              "      <td>-0.018377</td>\n",
              "      <td>-0.001422</td>\n",
              "      <td>0.013674</td>\n",
              "      <td>-0.002634</td>\n",
              "      <td>0.009510</td>\n",
              "      <td>0.001453</td>\n",
              "      <td>0.029587</td>\n",
              "      <td>-0.009832</td>\n",
              "      <td>-0.158393</td>\n",
              "      <td>-0.172824</td>\n",
              "      <td>-0.161077</td>\n",
              "      <td>-0.172940</td>\n",
              "      <td>-0.165473</td>\n",
              "      <td>1.000000</td>\n",
              "    </tr>\n",
              "  </tbody>\n",
              "</table>\n",
              "</div>"
            ],
            "text/plain": [
              "                    vendor_id  ...  pick_day_Wednesday\n",
              "vendor_id            1.000000  ...           -0.002619\n",
              "passenger_count      0.088497  ...           -0.018377\n",
              "pickup_longitude     0.007346  ...           -0.001422\n",
              "pickup_latitude     -0.000189  ...            0.013674\n",
              "dropoff_longitude    0.001105  ...           -0.002634\n",
              "dropoff_latitude     0.003607  ...            0.009510\n",
              "trip_duration        0.019916  ...            0.001453\n",
              "pickup_hour          0.011931  ...            0.029587\n",
              "distance             0.010037  ...           -0.009832\n",
              "pick_day_Monday      0.000313  ...           -0.158393\n",
              "pick_day_Saturday    0.002086  ...           -0.172824\n",
              "pick_day_Sunday      0.004235  ...           -0.161077\n",
              "pick_day_Thursday   -0.002857  ...           -0.172940\n",
              "pick_day_Tuesday     0.000402  ...           -0.165473\n",
              "pick_day_Wednesday  -0.002619  ...            1.000000\n",
              "\n",
              "[15 rows x 15 columns]"
            ]
          },
          "metadata": {},
          "execution_count": 266
        }
      ]
    },
    {
      "cell_type": "code",
      "metadata": {
        "id": "AErdifdBke5C"
      },
      "source": [
        "# dependent and independent features\n",
        "X = df.drop(['trip_duration'], axis=1)\n",
        "y = np.log10(df['trip_duration'])"
      ],
      "execution_count": 267,
      "outputs": []
    },
    {
      "cell_type": "code",
      "metadata": {
        "id": "dcZYMZo5A27l"
      },
      "source": [
        "# splitting the data into train test split\n",
        "from sklearn.model_selection import train_test_split\n",
        "X_train,X_test,y_train,y_test = train_test_split(X,y,test_size=0.2,random_state=12 )"
      ],
      "execution_count": 268,
      "outputs": []
    },
    {
      "cell_type": "code",
      "metadata": {
        "colab": {
          "base_uri": "https://localhost:8080/"
        },
        "id": "8K-lpBknJOZc",
        "outputId": "268fead2-a15e-4437-99e3-ec2615fa5994"
      },
      "source": [
        "print(X_train.shape,y_train.shape)\n",
        "print(X_test.shape,y_test.shape)\n"
      ],
      "execution_count": 269,
      "outputs": [
        {
          "output_type": "stream",
          "name": "stdout",
          "text": [
            "(1043003, 14) (1043003,)\n",
            "(260751, 14) (260751,)\n"
          ]
        }
      ]
    },
    {
      "cell_type": "code",
      "metadata": {
        "id": "y_dPTHgsX-Ra"
      },
      "source": [
        "from sklearn.preprocessing import MinMaxScaler\n",
        "scaler = MinMaxScaler()\n",
        "X_train = scaler.fit_transform(X_train)\n",
        "X_test = scaler.transform(X_test)"
      ],
      "execution_count": 270,
      "outputs": []
    },
    {
      "cell_type": "markdown",
      "metadata": {
        "id": "4E7zVGr0UNtL"
      },
      "source": [
        "**Linear regression**"
      ]
    },
    {
      "cell_type": "code",
      "metadata": {
        "id": "Z3DC063ziA05"
      },
      "source": [
        "from sklearn.linear_model import LinearRegression\n",
        "from sklearn.metrics import r2_score\n",
        "from sklearn.metrics import mean_squared_error"
      ],
      "execution_count": 271,
      "outputs": []
    },
    {
      "cell_type": "code",
      "metadata": {
        "colab": {
          "base_uri": "https://localhost:8080/"
        },
        "id": "G15fQdgniAYa",
        "outputId": "eaad1a7d-160f-456b-8ea2-d9c72fe424ff"
      },
      "source": [
        "regressor = LinearRegression()\n",
        "regressor.fit(X_train,y_train)"
      ],
      "execution_count": 272,
      "outputs": [
        {
          "output_type": "execute_result",
          "data": {
            "text/plain": [
              "LinearRegression(copy_X=True, fit_intercept=True, n_jobs=None, normalize=False)"
            ]
          },
          "metadata": {},
          "execution_count": 272
        }
      ]
    },
    {
      "cell_type": "code",
      "metadata": {
        "id": "Tm7w39wgEAMN"
      },
      "source": [
        "y_train_pred = regressor.predict(X_train)"
      ],
      "execution_count": 273,
      "outputs": []
    },
    {
      "cell_type": "code",
      "metadata": {
        "id": "tTb3qmhqEuMf"
      },
      "source": [
        "# predicting the test results \n",
        "y_pred = regressor.predict(X_test)"
      ],
      "execution_count": 274,
      "outputs": []
    },
    {
      "cell_type": "code",
      "metadata": {
        "colab": {
          "base_uri": "https://localhost:8080/"
        },
        "id": "c1EftQAzIhLq",
        "outputId": "f388c456-f195-43b1-be98-18a39672dcf0"
      },
      "source": [
        "y_train_pred"
      ],
      "execution_count": 275,
      "outputs": [
        {
          "output_type": "execute_result",
          "data": {
            "text/plain": [
              "array([2.6461355 , 2.74510524, 2.77672936, ..., 2.99586491, 2.73333831,\n",
              "       2.74509775])"
            ]
          },
          "metadata": {},
          "execution_count": 275
        }
      ]
    },
    {
      "cell_type": "code",
      "metadata": {
        "colab": {
          "base_uri": "https://localhost:8080/"
        },
        "id": "c_OFDQI7Iqtd",
        "outputId": "8db72867-faeb-44f0-d77a-aa336d4a3fb1"
      },
      "source": [
        "y_train"
      ],
      "execution_count": 276,
      "outputs": [
        {
          "output_type": "execute_result",
          "data": {
            "text/plain": [
              "1019371    2.437751\n",
              "789961     2.893762\n",
              "1021908    2.877371\n",
              "723442     2.953760\n",
              "501904     2.990339\n",
              "             ...   \n",
              "1310573    3.079543\n",
              "1393385    2.728354\n",
              "230539     2.947924\n",
              "40854      2.793790\n",
              "631300     2.919601\n",
              "Name: trip_duration, Length: 1043003, dtype: float64"
            ]
          },
          "metadata": {},
          "execution_count": 276
        }
      ]
    },
    {
      "cell_type": "code",
      "metadata": {
        "colab": {
          "base_uri": "https://localhost:8080/"
        },
        "id": "mbQ_8xQYa1f_",
        "outputId": "1235058f-df0a-4647-eac8-12fd94aa7e6b"
      },
      "source": [
        "r2_score(y_train,y_train_pred)"
      ],
      "execution_count": 277,
      "outputs": [
        {
          "output_type": "execute_result",
          "data": {
            "text/plain": [
              "0.34239580345572407"
            ]
          },
          "metadata": {},
          "execution_count": 277
        }
      ]
    },
    {
      "cell_type": "code",
      "metadata": {
        "colab": {
          "base_uri": "https://localhost:8080/"
        },
        "id": "pJZEPEveHJ1A",
        "outputId": "d952a7e3-481d-440e-8c42-92fd05181fdb"
      },
      "source": [
        "r2_score(y_test,y_pred)"
      ],
      "execution_count": 278,
      "outputs": [
        {
          "output_type": "execute_result",
          "data": {
            "text/plain": [
              "0.37172971766398943"
            ]
          },
          "metadata": {},
          "execution_count": 278
        }
      ]
    },
    {
      "cell_type": "code",
      "metadata": {
        "colab": {
          "base_uri": "https://localhost:8080/"
        },
        "id": "aMqDaoxQHKvz",
        "outputId": "4c3098b7-8f02-46ed-e3ac-0a5fbbafebdd"
      },
      "source": [
        "mean_squared_error(y_test,y_pred)"
      ],
      "execution_count": 97,
      "outputs": [
        {
          "output_type": "execute_result",
          "data": {
            "text/plain": [
              "0.07608834647870576"
            ]
          },
          "metadata": {},
          "execution_count": 97
        }
      ]
    },
    {
      "cell_type": "code",
      "metadata": {
        "colab": {
          "base_uri": "https://localhost:8080/"
        },
        "id": "iTsLaulDaCCK",
        "outputId": "b5528198-6db1-4f62-99c0-f023ad8721d2"
      },
      "source": [
        "regressor.intercept_"
      ],
      "execution_count": 208,
      "outputs": [
        {
          "output_type": "execute_result",
          "data": {
            "text/plain": [
              "14.79409638452065"
            ]
          },
          "metadata": {},
          "execution_count": 208
        }
      ]
    },
    {
      "cell_type": "markdown",
      "metadata": {
        "id": "ucegwLRReAmg"
      },
      "source": [
        "**Lasso regression**"
      ]
    },
    {
      "cell_type": "code",
      "metadata": {
        "colab": {
          "base_uri": "https://localhost:8080/"
        },
        "id": "Bw8E3_-gc119",
        "outputId": "2b7ad994-7838-4c82-85a6-a9bd5957f89e"
      },
      "source": [
        "from sklearn.linear_model import Lasso\n",
        "from sklearn.model_selection import GridSearchCV\n",
        "\n",
        "lasso = Lasso()\n",
        "parameters = {'alpha': [1e-15,1e-13,1e-10,1e-8,1e-5,1e-4,1e-3,1e-2,1e-1,1,5,10,20,30,40,45,50,55,60,100]}\n",
        "\n",
        "lasso_regressor = GridSearchCV(estimator=lasso,param_grid = parameters , scoring='r2',cv=5)\n",
        "lasso_regressor.fit(X_train,y_train)"
      ],
      "execution_count": 209,
      "outputs": [
        {
          "output_type": "execute_result",
          "data": {
            "text/plain": [
              "GridSearchCV(cv=5, error_score=nan,\n",
              "             estimator=Lasso(alpha=1.0, copy_X=True, fit_intercept=True,\n",
              "                             max_iter=1000, normalize=False, positive=False,\n",
              "                             precompute=False, random_state=None,\n",
              "                             selection='cyclic', tol=0.0001, warm_start=False),\n",
              "             iid='deprecated', n_jobs=None,\n",
              "             param_grid={'alpha': [1e-15, 1e-13, 1e-10, 1e-08, 1e-05, 0.0001,\n",
              "                                   0.001, 0.01, 0.1, 1, 5, 10, 20, 30, 40, 45,\n",
              "                                   50, 55, 60, 100]},\n",
              "             pre_dispatch='2*n_jobs', refit=True, return_train_score=False,\n",
              "             scoring='r2', verbose=0)"
            ]
          },
          "metadata": {},
          "execution_count": 209
        }
      ]
    },
    {
      "cell_type": "code",
      "metadata": {
        "colab": {
          "base_uri": "https://localhost:8080/"
        },
        "id": "cm-TiRYPgziI",
        "outputId": "bd02a314-6c81-4883-dfaa-f29de741d5e1"
      },
      "source": [
        "lasso_regressor.best_params_"
      ],
      "execution_count": 213,
      "outputs": [
        {
          "output_type": "execute_result",
          "data": {
            "text/plain": [
              "{'alpha': 1e-05}"
            ]
          },
          "metadata": {},
          "execution_count": 213
        }
      ]
    },
    {
      "cell_type": "code",
      "metadata": {
        "colab": {
          "base_uri": "https://localhost:8080/"
        },
        "id": "7h6e8R0DiYTd",
        "outputId": "2bcadb7b-b9a0-4e85-8465-63d84060e2fc"
      },
      "source": [
        "lasso_regressor.best_score_"
      ],
      "execution_count": 214,
      "outputs": [
        {
          "output_type": "execute_result",
          "data": {
            "text/plain": [
              "0.3213979140989604"
            ]
          },
          "metadata": {},
          "execution_count": 214
        }
      ]
    },
    {
      "cell_type": "code",
      "metadata": {
        "colab": {
          "base_uri": "https://localhost:8080/"
        },
        "id": "8f04i3HNibFC",
        "outputId": "6db9cf49-558f-4579-dacf-3dac8cbbfa8a"
      },
      "source": [
        "lasso_regressor.score(X_train,y_train)"
      ],
      "execution_count": 215,
      "outputs": [
        {
          "output_type": "execute_result",
          "data": {
            "text/plain": [
              "0.33928829144422534"
            ]
          },
          "metadata": {},
          "execution_count": 215
        }
      ]
    },
    {
      "cell_type": "code",
      "metadata": {
        "id": "kZVGUIfEip9K"
      },
      "source": [
        "y_pred_lasso_train = lasso_regressor.predict(X_train)"
      ],
      "execution_count": 216,
      "outputs": []
    },
    {
      "cell_type": "code",
      "metadata": {
        "id": "4Aklb_hai1f6"
      },
      "source": [
        "y_pred_lasso_test = lasso_regressor.predict(X_test)"
      ],
      "execution_count": 217,
      "outputs": []
    },
    {
      "cell_type": "code",
      "metadata": {
        "colab": {
          "base_uri": "https://localhost:8080/"
        },
        "id": "N5SuYwn2i6x1",
        "outputId": "b168cabe-6682-4500-cb85-3967ca64d0a3"
      },
      "source": [
        "lasso_train_mse  = mean_squared_error(y_train, y_pred_lasso_train)\n",
        "print(\"Train MSE for lasso regression  :\" , lasso_train_mse)\n",
        "\n",
        "lasso_train_rmse = np.sqrt(lasso_train_mse)\n",
        "print(\"Train RMSE for lasso regression :\" ,lasso_train_rmse)\n",
        "\n",
        "lasso_train_r2 = r2_score(y_train, y_pred_lasso_train)\n",
        "print(\"Train R2 score for lasso regression :\" ,lasso_train_r2)\n",
        "\n",
        "lasso_train_r2_= 1-(1-r2_score(y_train, y_pred_lasso_train))*((X_train.shape[0]-1)/(X_train.shape[0]-X_train.shape[1]-1))\n",
        "print(\"Train Adjusted R2 score for lasso regression : \", lasso_train_r2)"
      ],
      "execution_count": 218,
      "outputs": [
        {
          "output_type": "stream",
          "name": "stdout",
          "text": [
            "Train MSE for lasso regression  : 0.07962026977108166\n",
            "Train RMSE for lasso regression : 0.28217063945613063\n",
            "Train R2 score for lasso regression : 0.33928829144422534\n",
            "Train Adjusted R2 score for lasso regression :  0.33928829144422534\n"
          ]
        }
      ]
    },
    {
      "cell_type": "code",
      "metadata": {
        "colab": {
          "base_uri": "https://localhost:8080/"
        },
        "id": "Jb6Gu4IBpeFG",
        "outputId": "fc69a13e-9b3d-4392-9f3d-58c402797085"
      },
      "source": [
        "# evaulating model on test dataset\n",
        "\n",
        "lasso_test_mse  = mean_squared_error(y_test, y_pred_lasso_test)\n",
        "print(\"Test MSE for lasso regression :\" , lasso_test_mse)\n",
        "\n",
        "lasso_test_rmse = np.sqrt(lasso_test_mse)\n",
        "print(\"Test RMSE for lasso regression :\" ,lasso_test_rmse)\n",
        "\n",
        "lasso_test_r2 = r2_score(y_test, y_pred_lasso_test)\n",
        "print(\"Test R2 for lasso regression :\" ,lasso_test_r2)\n",
        "\n",
        "lasso_test_r2_= 1-(1-r2_score(y_test, y_pred_lasso_test))*((X_test.shape[0]-1)/(X_test.shape[0]-X_test.shape[1]-1))\n",
        "print(\"Test Adjusted R2 for lasso regression: \", lasso_test_r2_)"
      ],
      "execution_count": 219,
      "outputs": [
        {
          "output_type": "stream",
          "name": "stdout",
          "text": [
            "Test MSE for lasso regression : 0.0760262818230836\n",
            "Test RMSE for lasso regression : 0.27572863801767783\n",
            "Test R2 for lasso regression : 0.3722421927080054\n",
            "Test Adjusted R2 for lasso regression:  0.37220848578106747\n"
          ]
        }
      ]
    },
    {
      "cell_type": "markdown",
      "metadata": {
        "id": "2se8wK-RUIdz"
      },
      "source": [
        "**Ridge regression**"
      ]
    },
    {
      "cell_type": "code",
      "metadata": {
        "id": "yAeNF0vcvllc"
      },
      "source": [
        "from sklearn.linear_model import Ridge\n",
        "from sklearn.model_selection import GridSearchCV"
      ],
      "execution_count": 220,
      "outputs": []
    },
    {
      "cell_type": "code",
      "metadata": {
        "id": "tdgEcK36Uu1u",
        "outputId": "0d6e6125-e888-4d52-b6cf-3ac9a05963a1",
        "colab": {
          "base_uri": "https://localhost:8080/"
        }
      },
      "source": [
        "ridge = Ridge()\n",
        "params ={'alpha': [1e-15,1e-13,1e-10,1e-8,1e-5,1e-4,1e-3,1e-2,1e-1,1,5,10,20,30,40,45,50,55,60,100]}\n",
        "\n",
        "# applying gridsearch \n",
        "ridge_regressor = GridSearchCV(estimator=ridge , scoring='r2', param_grid=params, cv=3  , verbose=2)\n",
        "ridge_regressor.fit(X_train,y_train)"
      ],
      "execution_count": 221,
      "outputs": [
        {
          "output_type": "stream",
          "name": "stdout",
          "text": [
            "Fitting 3 folds for each of 20 candidates, totalling 60 fits\n",
            "[CV] alpha=1e-15 .....................................................\n"
          ]
        },
        {
          "output_type": "stream",
          "name": "stderr",
          "text": [
            "[Parallel(n_jobs=1)]: Using backend SequentialBackend with 1 concurrent workers.\n"
          ]
        },
        {
          "output_type": "stream",
          "name": "stdout",
          "text": [
            "[CV] ...................................... alpha=1e-15, total=   0.2s\n",
            "[CV] alpha=1e-15 .....................................................\n"
          ]
        },
        {
          "output_type": "stream",
          "name": "stderr",
          "text": [
            "[Parallel(n_jobs=1)]: Done   1 out of   1 | elapsed:    0.2s remaining:    0.0s\n"
          ]
        },
        {
          "output_type": "stream",
          "name": "stdout",
          "text": [
            "[CV] ...................................... alpha=1e-15, total=   0.2s\n",
            "[CV] alpha=1e-15 .....................................................\n",
            "[CV] ...................................... alpha=1e-15, total=   0.2s\n",
            "[CV] alpha=1e-13 .....................................................\n",
            "[CV] ...................................... alpha=1e-13, total=   0.2s\n",
            "[CV] alpha=1e-13 .....................................................\n",
            "[CV] ...................................... alpha=1e-13, total=   0.2s\n",
            "[CV] alpha=1e-13 .....................................................\n",
            "[CV] ...................................... alpha=1e-13, total=   0.2s\n",
            "[CV] alpha=1e-10 .....................................................\n",
            "[CV] ...................................... alpha=1e-10, total=   0.2s\n",
            "[CV] alpha=1e-10 .....................................................\n",
            "[CV] ...................................... alpha=1e-10, total=   0.2s\n",
            "[CV] alpha=1e-10 .....................................................\n",
            "[CV] ...................................... alpha=1e-10, total=   0.2s\n",
            "[CV] alpha=1e-08 .....................................................\n",
            "[CV] ...................................... alpha=1e-08, total=   0.2s\n",
            "[CV] alpha=1e-08 .....................................................\n",
            "[CV] ...................................... alpha=1e-08, total=   0.2s\n",
            "[CV] alpha=1e-08 .....................................................\n",
            "[CV] ...................................... alpha=1e-08, total=   0.3s\n",
            "[CV] alpha=1e-05 .....................................................\n",
            "[CV] ...................................... alpha=1e-05, total=   0.3s\n",
            "[CV] alpha=1e-05 .....................................................\n",
            "[CV] ...................................... alpha=1e-05, total=   0.2s\n",
            "[CV] alpha=1e-05 .....................................................\n",
            "[CV] ...................................... alpha=1e-05, total=   0.3s\n",
            "[CV] alpha=0.0001 ....................................................\n",
            "[CV] ..................................... alpha=0.0001, total=   0.2s\n",
            "[CV] alpha=0.0001 ....................................................\n",
            "[CV] ..................................... alpha=0.0001, total=   0.2s\n",
            "[CV] alpha=0.0001 ....................................................\n",
            "[CV] ..................................... alpha=0.0001, total=   0.2s\n",
            "[CV] alpha=0.001 .....................................................\n",
            "[CV] ...................................... alpha=0.001, total=   0.2s\n",
            "[CV] alpha=0.001 .....................................................\n",
            "[CV] ...................................... alpha=0.001, total=   0.2s\n",
            "[CV] alpha=0.001 .....................................................\n",
            "[CV] ...................................... alpha=0.001, total=   0.2s\n",
            "[CV] alpha=0.01 ......................................................\n",
            "[CV] ....................................... alpha=0.01, total=   0.2s\n",
            "[CV] alpha=0.01 ......................................................\n",
            "[CV] ....................................... alpha=0.01, total=   0.2s\n",
            "[CV] alpha=0.01 ......................................................\n",
            "[CV] ....................................... alpha=0.01, total=   0.2s\n",
            "[CV] alpha=0.1 .......................................................\n",
            "[CV] ........................................ alpha=0.1, total=   0.2s\n",
            "[CV] alpha=0.1 .......................................................\n",
            "[CV] ........................................ alpha=0.1, total=   0.3s\n",
            "[CV] alpha=0.1 .......................................................\n",
            "[CV] ........................................ alpha=0.1, total=   0.2s\n",
            "[CV] alpha=1 .........................................................\n",
            "[CV] .......................................... alpha=1, total=   0.2s\n",
            "[CV] alpha=1 .........................................................\n",
            "[CV] .......................................... alpha=1, total=   0.2s\n",
            "[CV] alpha=1 .........................................................\n",
            "[CV] .......................................... alpha=1, total=   0.2s\n",
            "[CV] alpha=5 .........................................................\n",
            "[CV] .......................................... alpha=5, total=   0.2s\n",
            "[CV] alpha=5 .........................................................\n",
            "[CV] .......................................... alpha=5, total=   0.3s\n",
            "[CV] alpha=5 .........................................................\n",
            "[CV] .......................................... alpha=5, total=   0.2s\n",
            "[CV] alpha=10 ........................................................\n",
            "[CV] ......................................... alpha=10, total=   0.2s\n",
            "[CV] alpha=10 ........................................................\n",
            "[CV] ......................................... alpha=10, total=   0.2s\n",
            "[CV] alpha=10 ........................................................\n",
            "[CV] ......................................... alpha=10, total=   0.2s\n",
            "[CV] alpha=20 ........................................................\n",
            "[CV] ......................................... alpha=20, total=   0.2s\n",
            "[CV] alpha=20 ........................................................\n",
            "[CV] ......................................... alpha=20, total=   0.2s\n",
            "[CV] alpha=20 ........................................................\n",
            "[CV] ......................................... alpha=20, total=   0.2s\n",
            "[CV] alpha=30 ........................................................\n",
            "[CV] ......................................... alpha=30, total=   0.2s\n",
            "[CV] alpha=30 ........................................................\n",
            "[CV] ......................................... alpha=30, total=   0.2s\n",
            "[CV] alpha=30 ........................................................\n",
            "[CV] ......................................... alpha=30, total=   0.2s\n",
            "[CV] alpha=40 ........................................................\n",
            "[CV] ......................................... alpha=40, total=   0.2s\n",
            "[CV] alpha=40 ........................................................\n",
            "[CV] ......................................... alpha=40, total=   0.2s\n",
            "[CV] alpha=40 ........................................................\n",
            "[CV] ......................................... alpha=40, total=   0.2s\n",
            "[CV] alpha=45 ........................................................\n",
            "[CV] ......................................... alpha=45, total=   0.2s\n",
            "[CV] alpha=45 ........................................................\n",
            "[CV] ......................................... alpha=45, total=   0.2s\n",
            "[CV] alpha=45 ........................................................\n",
            "[CV] ......................................... alpha=45, total=   0.2s\n",
            "[CV] alpha=50 ........................................................\n",
            "[CV] ......................................... alpha=50, total=   0.2s\n",
            "[CV] alpha=50 ........................................................\n",
            "[CV] ......................................... alpha=50, total=   0.2s\n",
            "[CV] alpha=50 ........................................................\n",
            "[CV] ......................................... alpha=50, total=   0.2s\n",
            "[CV] alpha=55 ........................................................\n",
            "[CV] ......................................... alpha=55, total=   0.2s\n",
            "[CV] alpha=55 ........................................................\n",
            "[CV] ......................................... alpha=55, total=   0.2s\n",
            "[CV] alpha=55 ........................................................\n",
            "[CV] ......................................... alpha=55, total=   0.2s\n",
            "[CV] alpha=60 ........................................................\n",
            "[CV] ......................................... alpha=60, total=   0.2s\n",
            "[CV] alpha=60 ........................................................\n",
            "[CV] ......................................... alpha=60, total=   0.2s\n",
            "[CV] alpha=60 ........................................................\n",
            "[CV] ......................................... alpha=60, total=   0.2s\n",
            "[CV] alpha=100 .......................................................\n",
            "[CV] ........................................ alpha=100, total=   0.2s\n",
            "[CV] alpha=100 .......................................................\n",
            "[CV] ........................................ alpha=100, total=   0.2s\n",
            "[CV] alpha=100 .......................................................\n",
            "[CV] ........................................ alpha=100, total=   0.2s\n"
          ]
        },
        {
          "output_type": "stream",
          "name": "stderr",
          "text": [
            "[Parallel(n_jobs=1)]: Done  60 out of  60 | elapsed:   13.6s finished\n"
          ]
        },
        {
          "output_type": "execute_result",
          "data": {
            "text/plain": [
              "GridSearchCV(cv=3, error_score=nan,\n",
              "             estimator=Ridge(alpha=1.0, copy_X=True, fit_intercept=True,\n",
              "                             max_iter=None, normalize=False, random_state=None,\n",
              "                             solver='auto', tol=0.001),\n",
              "             iid='deprecated', n_jobs=None,\n",
              "             param_grid={'alpha': [1e-15, 1e-13, 1e-10, 1e-08, 1e-05, 0.0001,\n",
              "                                   0.001, 0.01, 0.1, 1, 5, 10, 20, 30, 40, 45,\n",
              "                                   50, 55, 60, 100]},\n",
              "             pre_dispatch='2*n_jobs', refit=True, return_train_score=False,\n",
              "             scoring='r2', verbose=2)"
            ]
          },
          "metadata": {},
          "execution_count": 221
        }
      ]
    },
    {
      "cell_type": "code",
      "metadata": {
        "id": "DV9l0hETv7GY",
        "outputId": "eaebea9b-0761-49fe-8890-ef020086081e",
        "colab": {
          "base_uri": "https://localhost:8080/"
        }
      },
      "source": [
        "print(\"the best alpha for ridge is :\",ridge_regressor.best_params_)\n",
        "print(\"the best r2 score for ridge is:\",ridge_regressor.best_score_)"
      ],
      "execution_count": 222,
      "outputs": [
        {
          "output_type": "stream",
          "name": "stdout",
          "text": [
            "the best alpha for ridge is : {'alpha': 1}\n",
            "the best r2 score for ridge is: 0.32540597837000623\n"
          ]
        }
      ]
    },
    {
      "cell_type": "code",
      "metadata": {
        "id": "Ltka4hY8BhWN"
      },
      "source": [
        "# lets predict on ridge train and test \n",
        "y_pred_ridge_train = ridge_regressor.predict(X_train)\n",
        "y_pred_ridge_test = ridge_regressor.predict(X_test)"
      ],
      "execution_count": 223,
      "outputs": []
    },
    {
      "cell_type": "code",
      "metadata": {
        "id": "AiUYrOIzDYMG",
        "outputId": "84566776-413d-4cf5-bca8-e0d65cfe9d5c",
        "colab": {
          "base_uri": "https://localhost:8080/"
        }
      },
      "source": [
        "r2_score(y_train , y_pred_ridge_train)"
      ],
      "execution_count": 224,
      "outputs": [
        {
          "output_type": "execute_result",
          "data": {
            "text/plain": [
              "0.3383838034029041"
            ]
          },
          "metadata": {},
          "execution_count": 224
        }
      ]
    },
    {
      "cell_type": "code",
      "metadata": {
        "id": "vBKbUpeAB_WF",
        "outputId": "b3eb5fb0-54e6-4df2-f76f-0985c7a21297",
        "colab": {
          "base_uri": "https://localhost:8080/"
        }
      },
      "source": [
        "# now lets evaulate the model on train \n",
        "\n",
        "ridge_train_mse = print(\" mse value for ridge train is:\",  mean_squared_error(y_train , y_pred_ridge_train))\n",
        "ridge_train_r2 = print(\"r2 score for the ridge train is: \", r2_score(y_train,y_pred_ridge_train))\n",
        "ridge_train_r2_= print(\"Train Adjusted R2 : \",1-(1-r2_score(y_train, y_pred_ridge_train))*((X_train.shape[0]-1)/(X_train.shape[0]-X_train.shape[1]-1)))\n"
      ],
      "execution_count": 225,
      "outputs": [
        {
          "output_type": "stream",
          "name": "stdout",
          "text": [
            " rmse value for ridge train is: 0.07972926675255206\n",
            "r2 score for the ridge train is:  0.3383838034029041\n",
            "Train Adjusted R2 :  0.33837492254641066\n"
          ]
        }
      ]
    },
    {
      "cell_type": "code",
      "metadata": {
        "id": "l3E1hWBsDCs8",
        "outputId": "bbd82b81-95ce-49eb-d61e-c1d9ff41960e",
        "colab": {
          "base_uri": "https://localhost:8080/"
        }
      },
      "source": [
        "# evaulating on test data\n",
        "\n",
        "ridge_test_mse = print(\"mse for ridge test is:\", mean_squared_error(y_test,y_pred_ridge_test))\n",
        "ridge_test_r2 = print(\"r2 score for the ridge train is: \", r2_score(y_test,y_pred_ridge_test))\n",
        "ridge_test_r2_adj=print(\"Test Adjusted R2 : \", 1-(1-r2_score(y_test, y_pred_ridge_test))*((X_test.shape[0]-1)/(X_test.shape[0]-X_test.shape[1]-1)))\n"
      ],
      "execution_count": 286,
      "outputs": [
        {
          "output_type": "stream",
          "name": "stdout",
          "text": [
            "mse for ridge test is: 0.07682626627939503\n",
            "r2 score for the ridge train is:  0.3656366284725957\n",
            "Test Adjusted R2 :  0.36560256686544756\n"
          ]
        }
      ]
    },
    {
      "cell_type": "markdown",
      "metadata": {
        "id": "RtBy67xMG87P"
      },
      "source": [
        "**Decision tree**"
      ]
    },
    {
      "cell_type": "code",
      "metadata": {
        "id": "SCgCF_lcFo3S"
      },
      "source": [
        "from sklearn.tree import DecisionTreeRegressor\n",
        "# Maximum depth of trees\n",
        "max_depth = [3,4,7,10]\n",
        "\n",
        "# Minimum number of samples required to split a node\n",
        "min_samples_split = [12,23,29]\n",
        "\n",
        "# Minimum number of samples required at each leaf node\n",
        "min_samples_leaf = [8,16,22]\n",
        "\n",
        "# HYperparameter Grid\n",
        "param_dict_dt = {\n",
        "              'max_depth' : max_depth,\n",
        "              'min_samples_split' : min_samples_split,\n",
        "              'min_samples_leaf' : min_samples_leaf}\n"
      ],
      "execution_count": 229,
      "outputs": []
    },
    {
      "cell_type": "code",
      "metadata": {
        "id": "h0mjUrMEHrfx",
        "outputId": "5b0116a0-7e60-4521-dd29-2b50cac1720b",
        "colab": {
          "base_uri": "https://localhost:8080/"
        }
      },
      "source": [
        "dt = DecisionTreeRegressor()\n",
        "\n",
        "# grid searh\n",
        "dt_grid_search = GridSearchCV(estimator=dt, param_grid=param_dict_dt , cv=3,verbose=2,scoring='r2')\n",
        "\n",
        "dt_grid_search.fit(X_train , y_train)"
      ],
      "execution_count": 231,
      "outputs": [
        {
          "output_type": "stream",
          "name": "stdout",
          "text": [
            "Fitting 3 folds for each of 36 candidates, totalling 108 fits\n",
            "[CV] max_depth=3, min_samples_leaf=8, min_samples_split=12 ...........\n"
          ]
        },
        {
          "output_type": "stream",
          "name": "stderr",
          "text": [
            "[Parallel(n_jobs=1)]: Using backend SequentialBackend with 1 concurrent workers.\n"
          ]
        },
        {
          "output_type": "stream",
          "name": "stdout",
          "text": [
            "[CV]  max_depth=3, min_samples_leaf=8, min_samples_split=12, total=   2.4s\n",
            "[CV] max_depth=3, min_samples_leaf=8, min_samples_split=12 ...........\n"
          ]
        },
        {
          "output_type": "stream",
          "name": "stderr",
          "text": [
            "[Parallel(n_jobs=1)]: Done   1 out of   1 | elapsed:    2.4s remaining:    0.0s\n"
          ]
        },
        {
          "output_type": "stream",
          "name": "stdout",
          "text": [
            "[CV]  max_depth=3, min_samples_leaf=8, min_samples_split=12, total=   2.3s\n",
            "[CV] max_depth=3, min_samples_leaf=8, min_samples_split=12 ...........\n",
            "[CV]  max_depth=3, min_samples_leaf=8, min_samples_split=12, total=   2.1s\n",
            "[CV] max_depth=3, min_samples_leaf=8, min_samples_split=23 ...........\n",
            "[CV]  max_depth=3, min_samples_leaf=8, min_samples_split=23, total=   2.3s\n",
            "[CV] max_depth=3, min_samples_leaf=8, min_samples_split=23 ...........\n",
            "[CV]  max_depth=3, min_samples_leaf=8, min_samples_split=23, total=   2.3s\n",
            "[CV] max_depth=3, min_samples_leaf=8, min_samples_split=23 ...........\n",
            "[CV]  max_depth=3, min_samples_leaf=8, min_samples_split=23, total=   2.2s\n",
            "[CV] max_depth=3, min_samples_leaf=8, min_samples_split=29 ...........\n",
            "[CV]  max_depth=3, min_samples_leaf=8, min_samples_split=29, total=   2.1s\n",
            "[CV] max_depth=3, min_samples_leaf=8, min_samples_split=29 ...........\n",
            "[CV]  max_depth=3, min_samples_leaf=8, min_samples_split=29, total=   2.5s\n",
            "[CV] max_depth=3, min_samples_leaf=8, min_samples_split=29 ...........\n",
            "[CV]  max_depth=3, min_samples_leaf=8, min_samples_split=29, total=   2.5s\n",
            "[CV] max_depth=3, min_samples_leaf=16, min_samples_split=12 ..........\n",
            "[CV]  max_depth=3, min_samples_leaf=16, min_samples_split=12, total=   2.3s\n",
            "[CV] max_depth=3, min_samples_leaf=16, min_samples_split=12 ..........\n",
            "[CV]  max_depth=3, min_samples_leaf=16, min_samples_split=12, total=   2.2s\n",
            "[CV] max_depth=3, min_samples_leaf=16, min_samples_split=12 ..........\n",
            "[CV]  max_depth=3, min_samples_leaf=16, min_samples_split=12, total=   2.1s\n",
            "[CV] max_depth=3, min_samples_leaf=16, min_samples_split=23 ..........\n",
            "[CV]  max_depth=3, min_samples_leaf=16, min_samples_split=23, total=   2.3s\n",
            "[CV] max_depth=3, min_samples_leaf=16, min_samples_split=23 ..........\n",
            "[CV]  max_depth=3, min_samples_leaf=16, min_samples_split=23, total=   2.2s\n",
            "[CV] max_depth=3, min_samples_leaf=16, min_samples_split=23 ..........\n",
            "[CV]  max_depth=3, min_samples_leaf=16, min_samples_split=23, total=   2.1s\n",
            "[CV] max_depth=3, min_samples_leaf=16, min_samples_split=29 ..........\n",
            "[CV]  max_depth=3, min_samples_leaf=16, min_samples_split=29, total=   2.1s\n",
            "[CV] max_depth=3, min_samples_leaf=16, min_samples_split=29 ..........\n",
            "[CV]  max_depth=3, min_samples_leaf=16, min_samples_split=29, total=   2.3s\n",
            "[CV] max_depth=3, min_samples_leaf=16, min_samples_split=29 ..........\n",
            "[CV]  max_depth=3, min_samples_leaf=16, min_samples_split=29, total=   2.3s\n",
            "[CV] max_depth=3, min_samples_leaf=22, min_samples_split=12 ..........\n",
            "[CV]  max_depth=3, min_samples_leaf=22, min_samples_split=12, total=   2.3s\n",
            "[CV] max_depth=3, min_samples_leaf=22, min_samples_split=12 ..........\n",
            "[CV]  max_depth=3, min_samples_leaf=22, min_samples_split=12, total=   2.1s\n",
            "[CV] max_depth=3, min_samples_leaf=22, min_samples_split=12 ..........\n",
            "[CV]  max_depth=3, min_samples_leaf=22, min_samples_split=12, total=   2.1s\n",
            "[CV] max_depth=3, min_samples_leaf=22, min_samples_split=23 ..........\n",
            "[CV]  max_depth=3, min_samples_leaf=22, min_samples_split=23, total=   2.5s\n",
            "[CV] max_depth=3, min_samples_leaf=22, min_samples_split=23 ..........\n",
            "[CV]  max_depth=3, min_samples_leaf=22, min_samples_split=23, total=   2.6s\n",
            "[CV] max_depth=3, min_samples_leaf=22, min_samples_split=23 ..........\n",
            "[CV]  max_depth=3, min_samples_leaf=22, min_samples_split=23, total=   2.2s\n",
            "[CV] max_depth=3, min_samples_leaf=22, min_samples_split=29 ..........\n",
            "[CV]  max_depth=3, min_samples_leaf=22, min_samples_split=29, total=   2.3s\n",
            "[CV] max_depth=3, min_samples_leaf=22, min_samples_split=29 ..........\n",
            "[CV]  max_depth=3, min_samples_leaf=22, min_samples_split=29, total=   2.1s\n",
            "[CV] max_depth=3, min_samples_leaf=22, min_samples_split=29 ..........\n",
            "[CV]  max_depth=3, min_samples_leaf=22, min_samples_split=29, total=   2.2s\n",
            "[CV] max_depth=4, min_samples_leaf=8, min_samples_split=12 ...........\n",
            "[CV]  max_depth=4, min_samples_leaf=8, min_samples_split=12, total=   3.2s\n",
            "[CV] max_depth=4, min_samples_leaf=8, min_samples_split=12 ...........\n",
            "[CV]  max_depth=4, min_samples_leaf=8, min_samples_split=12, total=   3.4s\n",
            "[CV] max_depth=4, min_samples_leaf=8, min_samples_split=12 ...........\n",
            "[CV]  max_depth=4, min_samples_leaf=8, min_samples_split=12, total=   3.4s\n",
            "[CV] max_depth=4, min_samples_leaf=8, min_samples_split=23 ...........\n",
            "[CV]  max_depth=4, min_samples_leaf=8, min_samples_split=23, total=   3.2s\n",
            "[CV] max_depth=4, min_samples_leaf=8, min_samples_split=23 ...........\n",
            "[CV]  max_depth=4, min_samples_leaf=8, min_samples_split=23, total=   3.0s\n",
            "[CV] max_depth=4, min_samples_leaf=8, min_samples_split=23 ...........\n",
            "[CV]  max_depth=4, min_samples_leaf=8, min_samples_split=23, total=   3.1s\n",
            "[CV] max_depth=4, min_samples_leaf=8, min_samples_split=29 ...........\n",
            "[CV]  max_depth=4, min_samples_leaf=8, min_samples_split=29, total=   3.2s\n",
            "[CV] max_depth=4, min_samples_leaf=8, min_samples_split=29 ...........\n",
            "[CV]  max_depth=4, min_samples_leaf=8, min_samples_split=29, total=   3.2s\n",
            "[CV] max_depth=4, min_samples_leaf=8, min_samples_split=29 ...........\n",
            "[CV]  max_depth=4, min_samples_leaf=8, min_samples_split=29, total=   3.2s\n",
            "[CV] max_depth=4, min_samples_leaf=16, min_samples_split=12 ..........\n",
            "[CV]  max_depth=4, min_samples_leaf=16, min_samples_split=12, total=   2.9s\n",
            "[CV] max_depth=4, min_samples_leaf=16, min_samples_split=12 ..........\n",
            "[CV]  max_depth=4, min_samples_leaf=16, min_samples_split=12, total=   3.1s\n",
            "[CV] max_depth=4, min_samples_leaf=16, min_samples_split=12 ..........\n",
            "[CV]  max_depth=4, min_samples_leaf=16, min_samples_split=12, total=   3.2s\n",
            "[CV] max_depth=4, min_samples_leaf=16, min_samples_split=23 ..........\n",
            "[CV]  max_depth=4, min_samples_leaf=16, min_samples_split=23, total=   3.0s\n",
            "[CV] max_depth=4, min_samples_leaf=16, min_samples_split=23 ..........\n",
            "[CV]  max_depth=4, min_samples_leaf=16, min_samples_split=23, total=   3.0s\n",
            "[CV] max_depth=4, min_samples_leaf=16, min_samples_split=23 ..........\n",
            "[CV]  max_depth=4, min_samples_leaf=16, min_samples_split=23, total=   3.4s\n",
            "[CV] max_depth=4, min_samples_leaf=16, min_samples_split=29 ..........\n",
            "[CV]  max_depth=4, min_samples_leaf=16, min_samples_split=29, total=   3.0s\n",
            "[CV] max_depth=4, min_samples_leaf=16, min_samples_split=29 ..........\n",
            "[CV]  max_depth=4, min_samples_leaf=16, min_samples_split=29, total=   2.8s\n",
            "[CV] max_depth=4, min_samples_leaf=16, min_samples_split=29 ..........\n",
            "[CV]  max_depth=4, min_samples_leaf=16, min_samples_split=29, total=   3.1s\n",
            "[CV] max_depth=4, min_samples_leaf=22, min_samples_split=12 ..........\n",
            "[CV]  max_depth=4, min_samples_leaf=22, min_samples_split=12, total=   2.9s\n",
            "[CV] max_depth=4, min_samples_leaf=22, min_samples_split=12 ..........\n",
            "[CV]  max_depth=4, min_samples_leaf=22, min_samples_split=12, total=   3.6s\n",
            "[CV] max_depth=4, min_samples_leaf=22, min_samples_split=12 ..........\n",
            "[CV]  max_depth=4, min_samples_leaf=22, min_samples_split=12, total=   3.9s\n",
            "[CV] max_depth=4, min_samples_leaf=22, min_samples_split=23 ..........\n",
            "[CV]  max_depth=4, min_samples_leaf=22, min_samples_split=23, total=   3.9s\n",
            "[CV] max_depth=4, min_samples_leaf=22, min_samples_split=23 ..........\n",
            "[CV]  max_depth=4, min_samples_leaf=22, min_samples_split=23, total=   3.0s\n",
            "[CV] max_depth=4, min_samples_leaf=22, min_samples_split=23 ..........\n",
            "[CV]  max_depth=4, min_samples_leaf=22, min_samples_split=23, total=   3.1s\n",
            "[CV] max_depth=4, min_samples_leaf=22, min_samples_split=29 ..........\n",
            "[CV]  max_depth=4, min_samples_leaf=22, min_samples_split=29, total=   2.8s\n",
            "[CV] max_depth=4, min_samples_leaf=22, min_samples_split=29 ..........\n",
            "[CV]  max_depth=4, min_samples_leaf=22, min_samples_split=29, total=   3.0s\n",
            "[CV] max_depth=4, min_samples_leaf=22, min_samples_split=29 ..........\n",
            "[CV]  max_depth=4, min_samples_leaf=22, min_samples_split=29, total=   3.0s\n",
            "[CV] max_depth=7, min_samples_leaf=8, min_samples_split=12 ...........\n",
            "[CV]  max_depth=7, min_samples_leaf=8, min_samples_split=12, total=   5.3s\n",
            "[CV] max_depth=7, min_samples_leaf=8, min_samples_split=12 ...........\n",
            "[CV]  max_depth=7, min_samples_leaf=8, min_samples_split=12, total=   5.2s\n",
            "[CV] max_depth=7, min_samples_leaf=8, min_samples_split=12 ...........\n",
            "[CV]  max_depth=7, min_samples_leaf=8, min_samples_split=12, total=   4.9s\n",
            "[CV] max_depth=7, min_samples_leaf=8, min_samples_split=23 ...........\n",
            "[CV]  max_depth=7, min_samples_leaf=8, min_samples_split=23, total=   5.0s\n",
            "[CV] max_depth=7, min_samples_leaf=8, min_samples_split=23 ...........\n",
            "[CV]  max_depth=7, min_samples_leaf=8, min_samples_split=23, total=   5.3s\n",
            "[CV] max_depth=7, min_samples_leaf=8, min_samples_split=23 ...........\n",
            "[CV]  max_depth=7, min_samples_leaf=8, min_samples_split=23, total=   5.3s\n",
            "[CV] max_depth=7, min_samples_leaf=8, min_samples_split=29 ...........\n",
            "[CV]  max_depth=7, min_samples_leaf=8, min_samples_split=29, total=   5.0s\n",
            "[CV] max_depth=7, min_samples_leaf=8, min_samples_split=29 ...........\n",
            "[CV]  max_depth=7, min_samples_leaf=8, min_samples_split=29, total=   5.2s\n",
            "[CV] max_depth=7, min_samples_leaf=8, min_samples_split=29 ...........\n",
            "[CV]  max_depth=7, min_samples_leaf=8, min_samples_split=29, total=   5.5s\n",
            "[CV] max_depth=7, min_samples_leaf=16, min_samples_split=12 ..........\n",
            "[CV]  max_depth=7, min_samples_leaf=16, min_samples_split=12, total=   5.2s\n",
            "[CV] max_depth=7, min_samples_leaf=16, min_samples_split=12 ..........\n",
            "[CV]  max_depth=7, min_samples_leaf=16, min_samples_split=12, total=   5.1s\n",
            "[CV] max_depth=7, min_samples_leaf=16, min_samples_split=12 ..........\n",
            "[CV]  max_depth=7, min_samples_leaf=16, min_samples_split=12, total=   5.3s\n",
            "[CV] max_depth=7, min_samples_leaf=16, min_samples_split=23 ..........\n",
            "[CV]  max_depth=7, min_samples_leaf=16, min_samples_split=23, total=   5.3s\n",
            "[CV] max_depth=7, min_samples_leaf=16, min_samples_split=23 ..........\n",
            "[CV]  max_depth=7, min_samples_leaf=16, min_samples_split=23, total=   5.3s\n",
            "[CV] max_depth=7, min_samples_leaf=16, min_samples_split=23 ..........\n",
            "[CV]  max_depth=7, min_samples_leaf=16, min_samples_split=23, total=   5.2s\n",
            "[CV] max_depth=7, min_samples_leaf=16, min_samples_split=29 ..........\n",
            "[CV]  max_depth=7, min_samples_leaf=16, min_samples_split=29, total=   5.1s\n",
            "[CV] max_depth=7, min_samples_leaf=16, min_samples_split=29 ..........\n",
            "[CV]  max_depth=7, min_samples_leaf=16, min_samples_split=29, total=   5.0s\n",
            "[CV] max_depth=7, min_samples_leaf=16, min_samples_split=29 ..........\n",
            "[CV]  max_depth=7, min_samples_leaf=16, min_samples_split=29, total=   4.7s\n",
            "[CV] max_depth=7, min_samples_leaf=22, min_samples_split=12 ..........\n",
            "[CV]  max_depth=7, min_samples_leaf=22, min_samples_split=12, total=   5.2s\n",
            "[CV] max_depth=7, min_samples_leaf=22, min_samples_split=12 ..........\n",
            "[CV]  max_depth=7, min_samples_leaf=22, min_samples_split=12, total=   4.9s\n",
            "[CV] max_depth=7, min_samples_leaf=22, min_samples_split=12 ..........\n",
            "[CV]  max_depth=7, min_samples_leaf=22, min_samples_split=12, total=   4.8s\n",
            "[CV] max_depth=7, min_samples_leaf=22, min_samples_split=23 ..........\n",
            "[CV]  max_depth=7, min_samples_leaf=22, min_samples_split=23, total=   5.2s\n",
            "[CV] max_depth=7, min_samples_leaf=22, min_samples_split=23 ..........\n",
            "[CV]  max_depth=7, min_samples_leaf=22, min_samples_split=23, total=   5.3s\n",
            "[CV] max_depth=7, min_samples_leaf=22, min_samples_split=23 ..........\n",
            "[CV]  max_depth=7, min_samples_leaf=22, min_samples_split=23, total=   5.1s\n",
            "[CV] max_depth=7, min_samples_leaf=22, min_samples_split=29 ..........\n",
            "[CV]  max_depth=7, min_samples_leaf=22, min_samples_split=29, total=   5.3s\n",
            "[CV] max_depth=7, min_samples_leaf=22, min_samples_split=29 ..........\n",
            "[CV]  max_depth=7, min_samples_leaf=22, min_samples_split=29, total=   5.0s\n",
            "[CV] max_depth=7, min_samples_leaf=22, min_samples_split=29 ..........\n",
            "[CV]  max_depth=7, min_samples_leaf=22, min_samples_split=29, total=   5.1s\n",
            "[CV] max_depth=10, min_samples_leaf=8, min_samples_split=12 ..........\n",
            "[CV]  max_depth=10, min_samples_leaf=8, min_samples_split=12, total=   6.8s\n",
            "[CV] max_depth=10, min_samples_leaf=8, min_samples_split=12 ..........\n",
            "[CV]  max_depth=10, min_samples_leaf=8, min_samples_split=12, total=   6.8s\n",
            "[CV] max_depth=10, min_samples_leaf=8, min_samples_split=12 ..........\n",
            "[CV]  max_depth=10, min_samples_leaf=8, min_samples_split=12, total=   6.6s\n",
            "[CV] max_depth=10, min_samples_leaf=8, min_samples_split=23 ..........\n",
            "[CV]  max_depth=10, min_samples_leaf=8, min_samples_split=23, total=   7.1s\n",
            "[CV] max_depth=10, min_samples_leaf=8, min_samples_split=23 ..........\n",
            "[CV]  max_depth=10, min_samples_leaf=8, min_samples_split=23, total=   6.9s\n",
            "[CV] max_depth=10, min_samples_leaf=8, min_samples_split=23 ..........\n",
            "[CV]  max_depth=10, min_samples_leaf=8, min_samples_split=23, total=   6.9s\n",
            "[CV] max_depth=10, min_samples_leaf=8, min_samples_split=29 ..........\n",
            "[CV]  max_depth=10, min_samples_leaf=8, min_samples_split=29, total=   6.6s\n",
            "[CV] max_depth=10, min_samples_leaf=8, min_samples_split=29 ..........\n",
            "[CV]  max_depth=10, min_samples_leaf=8, min_samples_split=29, total=   6.6s\n",
            "[CV] max_depth=10, min_samples_leaf=8, min_samples_split=29 ..........\n",
            "[CV]  max_depth=10, min_samples_leaf=8, min_samples_split=29, total=   6.8s\n",
            "[CV] max_depth=10, min_samples_leaf=16, min_samples_split=12 .........\n",
            "[CV]  max_depth=10, min_samples_leaf=16, min_samples_split=12, total=   7.1s\n",
            "[CV] max_depth=10, min_samples_leaf=16, min_samples_split=12 .........\n",
            "[CV]  max_depth=10, min_samples_leaf=16, min_samples_split=12, total=   6.9s\n",
            "[CV] max_depth=10, min_samples_leaf=16, min_samples_split=12 .........\n",
            "[CV]  max_depth=10, min_samples_leaf=16, min_samples_split=12, total=   6.9s\n",
            "[CV] max_depth=10, min_samples_leaf=16, min_samples_split=23 .........\n",
            "[CV]  max_depth=10, min_samples_leaf=16, min_samples_split=23, total=   7.3s\n",
            "[CV] max_depth=10, min_samples_leaf=16, min_samples_split=23 .........\n",
            "[CV]  max_depth=10, min_samples_leaf=16, min_samples_split=23, total=   6.6s\n",
            "[CV] max_depth=10, min_samples_leaf=16, min_samples_split=23 .........\n",
            "[CV]  max_depth=10, min_samples_leaf=16, min_samples_split=23, total=   7.1s\n",
            "[CV] max_depth=10, min_samples_leaf=16, min_samples_split=29 .........\n",
            "[CV]  max_depth=10, min_samples_leaf=16, min_samples_split=29, total=   7.0s\n",
            "[CV] max_depth=10, min_samples_leaf=16, min_samples_split=29 .........\n",
            "[CV]  max_depth=10, min_samples_leaf=16, min_samples_split=29, total=   6.7s\n",
            "[CV] max_depth=10, min_samples_leaf=16, min_samples_split=29 .........\n",
            "[CV]  max_depth=10, min_samples_leaf=16, min_samples_split=29, total=   6.9s\n",
            "[CV] max_depth=10, min_samples_leaf=22, min_samples_split=12 .........\n",
            "[CV]  max_depth=10, min_samples_leaf=22, min_samples_split=12, total=   6.7s\n",
            "[CV] max_depth=10, min_samples_leaf=22, min_samples_split=12 .........\n",
            "[CV]  max_depth=10, min_samples_leaf=22, min_samples_split=12, total=   6.8s\n",
            "[CV] max_depth=10, min_samples_leaf=22, min_samples_split=12 .........\n",
            "[CV]  max_depth=10, min_samples_leaf=22, min_samples_split=12, total=   6.6s\n",
            "[CV] max_depth=10, min_samples_leaf=22, min_samples_split=23 .........\n",
            "[CV]  max_depth=10, min_samples_leaf=22, min_samples_split=23, total=   6.8s\n",
            "[CV] max_depth=10, min_samples_leaf=22, min_samples_split=23 .........\n",
            "[CV]  max_depth=10, min_samples_leaf=22, min_samples_split=23, total=   6.6s\n",
            "[CV] max_depth=10, min_samples_leaf=22, min_samples_split=23 .........\n",
            "[CV]  max_depth=10, min_samples_leaf=22, min_samples_split=23, total=   6.5s\n",
            "[CV] max_depth=10, min_samples_leaf=22, min_samples_split=29 .........\n",
            "[CV]  max_depth=10, min_samples_leaf=22, min_samples_split=29, total=   6.8s\n",
            "[CV] max_depth=10, min_samples_leaf=22, min_samples_split=29 .........\n",
            "[CV]  max_depth=10, min_samples_leaf=22, min_samples_split=29, total=   6.8s\n",
            "[CV] max_depth=10, min_samples_leaf=22, min_samples_split=29 .........\n",
            "[CV]  max_depth=10, min_samples_leaf=22, min_samples_split=29, total=   7.0s\n"
          ]
        },
        {
          "output_type": "stream",
          "name": "stderr",
          "text": [
            "[Parallel(n_jobs=1)]: Done 108 out of 108 | elapsed:  7.8min finished\n"
          ]
        },
        {
          "output_type": "execute_result",
          "data": {
            "text/plain": [
              "GridSearchCV(cv=3, error_score=nan,\n",
              "             estimator=DecisionTreeRegressor(ccp_alpha=0.0, criterion='mse',\n",
              "                                             max_depth=None, max_features=None,\n",
              "                                             max_leaf_nodes=None,\n",
              "                                             min_impurity_decrease=0.0,\n",
              "                                             min_impurity_split=None,\n",
              "                                             min_samples_leaf=1,\n",
              "                                             min_samples_split=2,\n",
              "                                             min_weight_fraction_leaf=0.0,\n",
              "                                             presort='deprecated',\n",
              "                                             random_state=None,\n",
              "                                             splitter='best'),\n",
              "             iid='deprecated', n_jobs=None,\n",
              "             param_grid={'max_depth': [3, 4, 7, 10],\n",
              "                         'min_samples_leaf': [8, 16, 22],\n",
              "                         'min_samples_split': [12, 23, 29]},\n",
              "             pre_dispatch='2*n_jobs', refit=True, return_train_score=False,\n",
              "             scoring='r2', verbose=2)"
            ]
          },
          "metadata": {},
          "execution_count": 231
        }
      ]
    },
    {
      "cell_type": "code",
      "metadata": {
        "id": "7ldK92PbHrct",
        "outputId": "d8e22ddf-fe75-4559-cf02-7a3ad2e0e222",
        "colab": {
          "base_uri": "https://localhost:8080/"
        }
      },
      "source": [
        "dt_grid_search.best_score_"
      ],
      "execution_count": 279,
      "outputs": [
        {
          "output_type": "execute_result",
          "data": {
            "text/plain": [
              "0.6563348082394104"
            ]
          },
          "metadata": {},
          "execution_count": 279
        }
      ]
    },
    {
      "cell_type": "code",
      "metadata": {
        "id": "50fY_8oHHrUl",
        "outputId": "ee3e7018-08fd-4f22-ba18-16a35e22e385",
        "colab": {
          "base_uri": "https://localhost:8080/"
        }
      },
      "source": [
        "dt_grid_search.best_params_"
      ],
      "execution_count": 280,
      "outputs": [
        {
          "output_type": "execute_result",
          "data": {
            "text/plain": [
              "{'max_depth': 10, 'min_samples_leaf': 16, 'min_samples_split': 29}"
            ]
          },
          "metadata": {},
          "execution_count": 280
        }
      ]
    },
    {
      "cell_type": "code",
      "metadata": {
        "id": "KCijujw8LqLS",
        "outputId": "124e5d93-63f0-484e-9431-e3f0f80a43f3",
        "colab": {
          "base_uri": "https://localhost:8080/"
        }
      },
      "source": [
        "dt_grid_search.best_estimator_"
      ],
      "execution_count": 281,
      "outputs": [
        {
          "output_type": "execute_result",
          "data": {
            "text/plain": [
              "DecisionTreeRegressor(ccp_alpha=0.0, criterion='mse', max_depth=10,\n",
              "                      max_features=None, max_leaf_nodes=None,\n",
              "                      min_impurity_decrease=0.0, min_impurity_split=None,\n",
              "                      min_samples_leaf=16, min_samples_split=29,\n",
              "                      min_weight_fraction_leaf=0.0, presort='deprecated',\n",
              "                      random_state=None, splitter='best')"
            ]
          },
          "metadata": {},
          "execution_count": 281
        }
      ]
    },
    {
      "cell_type": "code",
      "metadata": {
        "id": "bS-IGgC-ND4S"
      },
      "source": [
        "# predict on test and train\n",
        "dt_train_pred = dt_grid_search.predict(X_train)\n",
        "dt_test_pred = dt_grid_search.predict(X_test)"
      ],
      "execution_count": 282,
      "outputs": []
    },
    {
      "cell_type": "code",
      "metadata": {
        "id": "j-V8k3XAMTKI",
        "outputId": "c2606a9d-d28f-4a0a-a824-be6a254d6e3c",
        "colab": {
          "base_uri": "https://localhost:8080/"
        }
      },
      "source": [
        "# evaulating the model on train dt set\n",
        "dt_train_mse= print(\"mse for the decision tree on training is:\", mean_squared_error(y_train , dt_train_pred))\n",
        "dt_train_r2 = print(\"Train R2 :\",r2_score(y_train, dt_train_pred))\n",
        "dt_train_r2_adj = print(\"Train Adjusted R2 : \",1-(1-r2_score(y_train, dt_train_pred))*((X_train.shape[0]-1)/(X_train.shape[0]-X_train.shape[1]-1)))\n",
        "\n"
      ],
      "execution_count": 291,
      "outputs": [
        {
          "output_type": "stream",
          "name": "stdout",
          "text": [
            "mse for the decision tree on training is: 0.04456648780401776\n",
            "Train R2 : 0.630174572555676\n",
            "Train Adjusted R2 :  0.6301696083988648\n"
          ]
        }
      ]
    },
    {
      "cell_type": "code",
      "metadata": {
        "id": "jCgyNa7XNhsH",
        "outputId": "aaa6d650-8bf3-4aef-c7c1-5f1e04ce85cb",
        "colab": {
          "base_uri": "https://localhost:8080/"
        }
      },
      "source": [
        "# evaulating the model on test set\n",
        "dt_test_mse = print(\"mse for the test is :\" , mean_squared_error(y_test , dt_test_pred))\n",
        "dt_test_r2 = print(\"r2 score for the test is:\",r2_score(y_test,dt_test_pred))\n",
        "dt_test_r2_adj = print(\"Train Adjusted R2 : \",1-(1-r2_score(y_test, dt_test_pred))*((X_train.shape[0]-1)/(X_train.shape[0]-X_train.shape[1]-1)))\n"
      ],
      "execution_count": 294,
      "outputs": [
        {
          "output_type": "stream",
          "name": "stdout",
          "text": [
            "mse for the test is : 0.045851843878079536\n",
            "r2 score for the test is: 0.6213960188112404\n",
            "Train Adjusted R2 :  0.6213909368201374\n"
          ]
        }
      ]
    },
    {
      "cell_type": "markdown",
      "metadata": {
        "id": "B6BwYHq6RWJc"
      },
      "source": [
        "**Gradient boosting regression**"
      ]
    },
    {
      "cell_type": "code",
      "metadata": {
        "id": "191wW4WNQI4m"
      },
      "source": [
        "from sklearn.ensemble import GradientBoostingRegressor"
      ],
      "execution_count": 295,
      "outputs": []
    },
    {
      "cell_type": "code",
      "metadata": {
        "id": "vKew8eDNSF0W"
      },
      "source": [
        "\n",
        "# Number of trees\n",
        "n_estimators = [100,120]\n",
        "\n",
        "# Maximum depth of trees\n",
        "max_depth = [5,8,10]\n",
        "\n",
        "# Minimum number of samples required to split a node\n",
        "min_samples_split = [50,80]\n",
        "\n",
        "# Minimum number of samples required at each leaf node\n",
        "min_samples_leaf = [40,50]\n",
        "\n",
        "\n",
        "# HYperparameter Grid\n",
        "param_gb = {'n_estimators' : n_estimators,\n",
        "              'max_depth' : max_depth,\n",
        "              'min_samples_split' : min_samples_split,\n",
        "              'min_samples_leaf' : min_samples_leaf}"
      ],
      "execution_count": 300,
      "outputs": []
    },
    {
      "cell_type": "code",
      "metadata": {
        "id": "wrunYRl9UDmt",
        "outputId": "03724d3a-b719-4d26-e478-f6cecf4ed411",
        "colab": {
          "base_uri": "https://localhost:8080/"
        }
      },
      "source": [
        "gb = GradientBoostingRegressor()\n",
        "\n",
        "gb_regressor = GridSearchCV(estimator=gb , param_grid=param_gb,cv=3,verbose=2,scoring='r2')\n",
        "gb_regressor.fit(X_train,y_train)"
      ],
      "execution_count": null,
      "outputs": [
        {
          "output_type": "stream",
          "name": "stdout",
          "text": [
            "Fitting 3 folds for each of 24 candidates, totalling 72 fits\n",
            "[CV] max_depth=5, min_samples_leaf=40, min_samples_split=50, n_estimators=100 \n"
          ]
        },
        {
          "output_type": "stream",
          "name": "stderr",
          "text": [
            "[Parallel(n_jobs=1)]: Using backend SequentialBackend with 1 concurrent workers.\n"
          ]
        },
        {
          "output_type": "stream",
          "name": "stdout",
          "text": [
            "[CV]  max_depth=5, min_samples_leaf=40, min_samples_split=50, n_estimators=100, total= 6.5min\n",
            "[CV] max_depth=5, min_samples_leaf=40, min_samples_split=50, n_estimators=100 \n"
          ]
        },
        {
          "output_type": "stream",
          "name": "stderr",
          "text": [
            "[Parallel(n_jobs=1)]: Done   1 out of   1 | elapsed:  6.5min remaining:    0.0s\n"
          ]
        }
      ]
    },
    {
      "cell_type": "code",
      "metadata": {
        "id": "rgVzELT5UN_V"
      },
      "source": [
        ""
      ],
      "execution_count": null,
      "outputs": []
    }
  ]
}