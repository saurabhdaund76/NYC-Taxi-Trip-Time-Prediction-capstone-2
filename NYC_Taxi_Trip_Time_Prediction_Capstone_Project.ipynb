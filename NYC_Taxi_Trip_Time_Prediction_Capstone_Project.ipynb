{
  "nbformat": 4,
  "nbformat_minor": 0,
  "metadata": {
    "colab": {
      "name": " NYC Taxi Trip Time Prediction - Capstone Project.ipynb",
      "provenance": [],
      "collapsed_sections": [],
      "include_colab_link": true
    },
    "kernelspec": {
      "display_name": "Python 3",
      "language": "python",
      "name": "python3"
    },
    "language_info": {
      "codemirror_mode": {
        "name": "ipython",
        "version": 3
      },
      "file_extension": ".py",
      "mimetype": "text/x-python",
      "name": "python",
      "nbconvert_exporter": "python",
      "pygments_lexer": "ipython3",
      "version": "3.6.6"
    }
  },
  "cells": [
    {
      "cell_type": "markdown",
      "metadata": {
        "id": "view-in-github",
        "colab_type": "text"
      },
      "source": [
        "<a href=\"https://colab.research.google.com/github/saurabhdaund76/NYC-Taxi-Trip-Time-Prediction-capstone-2/blob/main/NYC_Taxi_Trip_Time_Prediction_Capstone_Project.ipynb\" target=\"_parent\"><img src=\"https://colab.research.google.com/assets/colab-badge.svg\" alt=\"Open In Colab\"/></a>"
      ]
    },
    {
      "cell_type": "markdown",
      "metadata": {
        "id": "tOGC-qoyhJeX"
      },
      "source": [
        "# <b><u> Project Title : Taxi trip time Prediction : Predicting total ride duration of taxi trips in New York City</u></b>"
      ]
    },
    {
      "cell_type": "markdown",
      "metadata": {
        "id": "Y06xIdG26kRF"
      },
      "source": [
        "## <b> Problem Description </b>\n",
        "\n",
        "### Your task is to build a model that predicts the total ride duration of taxi trips in New York City. Your primary dataset is one released by the NYC Taxi and Limousine Commission, which includes pickup time, geo-coordinates, number of passengers, and several other variables."
      ]
    },
    {
      "cell_type": "markdown",
      "metadata": {
        "id": "WWeU1f9bwqQq"
      },
      "source": [
        "## <b> Data Description </b>\n",
        "\n",
        "### The dataset is based on the 2016 NYC Yellow Cab trip record data made available in Big Query on Google Cloud Platform. The data was originally published by the NYC Taxi and Limousine Commission (TLC). The data was sampled and cleaned for the purposes of this project. Based on individual trip attributes, you should predict the duration of each trip in the test set.\n",
        "\n",
        "### <b>NYC Taxi Data.csv</b> - the training set (contains 1458644 trip records)\n",
        "\n",
        "\n",
        "### Data fields\n",
        "* #### id - a unique identifier for each trip\n",
        "* #### vendor_id - a code indicating the provider associated with the trip record\n",
        "* #### pickup_datetime - date and time when the meter was engaged\n",
        "* #### dropoff_datetime - date and time when the meter was disengaged\n",
        "* #### passenger_count - the number of passengers in the vehicle (driver entered value)\n",
        "* #### pickup_longitude - the longitude where the meter was engaged\n",
        "* #### pickup_latitude - the latitude where the meter was engaged\n",
        "* #### dropoff_longitude - the longitude where the meter was disengaged\n",
        "* #### dropoff_latitude - the latitude where the meter was disengaged\n",
        "* #### store_and_fwd_flag - This flag indicates whether the trip record was held in vehicle memory before sending to the vendor because the vehicle did not have a connection to the server - Y=store and forward; N=not a store and forward trip\n",
        "* #### trip_duration - duration of the trip in seconds"
      ]
    },
    {
      "cell_type": "code",
      "metadata": {
        "id": "GgSKTz2p9Ozg"
      },
      "source": [
        "import pandas as pd \n",
        "import numpy as np\n",
        "import matplotlib.pyplot as plt\n",
        "import seaborn as sns\n",
        "from datetime import datetime\n"
      ],
      "execution_count": 2,
      "outputs": []
    },
    {
      "cell_type": "code",
      "metadata": {
        "colab": {
          "base_uri": "https://localhost:8080/"
        },
        "id": "dByMsuzT8Tnw",
        "outputId": "cba9c62d-2f89-4c6a-e775-f32828c97977"
      },
      "source": [
        "from google.colab import drive\n",
        "drive.mount('/content/drive')"
      ],
      "execution_count": 3,
      "outputs": [
        {
          "output_type": "stream",
          "name": "stdout",
          "text": [
            "Mounted at /content/drive\n"
          ]
        }
      ]
    },
    {
      "cell_type": "code",
      "metadata": {
        "id": "lDd7AnY09GQB"
      },
      "source": [
        "df = pd.read_csv('/content/drive/MyDrive/ML projects/NYC Taxi Data.csv')"
      ],
      "execution_count": 249,
      "outputs": []
    },
    {
      "cell_type": "code",
      "metadata": {
        "colab": {
          "base_uri": "https://localhost:8080/",
          "height": 306
        },
        "id": "IJLXTa1G9ywL",
        "outputId": "2cf06b72-bf4c-4e4d-bfca-344bbe58356b"
      },
      "source": [
        "# cheaking the dataset using 1st five rows \n",
        "df.head()"
      ],
      "execution_count": 168,
      "outputs": [
        {
          "output_type": "execute_result",
          "data": {
            "text/html": [
              "<div>\n",
              "<style scoped>\n",
              "    .dataframe tbody tr th:only-of-type {\n",
              "        vertical-align: middle;\n",
              "    }\n",
              "\n",
              "    .dataframe tbody tr th {\n",
              "        vertical-align: top;\n",
              "    }\n",
              "\n",
              "    .dataframe thead th {\n",
              "        text-align: right;\n",
              "    }\n",
              "</style>\n",
              "<table border=\"1\" class=\"dataframe\">\n",
              "  <thead>\n",
              "    <tr style=\"text-align: right;\">\n",
              "      <th></th>\n",
              "      <th>id</th>\n",
              "      <th>vendor_id</th>\n",
              "      <th>pickup_datetime</th>\n",
              "      <th>dropoff_datetime</th>\n",
              "      <th>passenger_count</th>\n",
              "      <th>pickup_longitude</th>\n",
              "      <th>pickup_latitude</th>\n",
              "      <th>dropoff_longitude</th>\n",
              "      <th>dropoff_latitude</th>\n",
              "      <th>store_and_fwd_flag</th>\n",
              "      <th>trip_duration</th>\n",
              "    </tr>\n",
              "  </thead>\n",
              "  <tbody>\n",
              "    <tr>\n",
              "      <th>0</th>\n",
              "      <td>id2875421</td>\n",
              "      <td>2</td>\n",
              "      <td>2016-03-14 17:24:55</td>\n",
              "      <td>2016-03-14 17:32:30</td>\n",
              "      <td>1</td>\n",
              "      <td>-73.982155</td>\n",
              "      <td>40.767937</td>\n",
              "      <td>-73.964630</td>\n",
              "      <td>40.765602</td>\n",
              "      <td>N</td>\n",
              "      <td>455</td>\n",
              "    </tr>\n",
              "    <tr>\n",
              "      <th>1</th>\n",
              "      <td>id2377394</td>\n",
              "      <td>1</td>\n",
              "      <td>2016-06-12 00:43:35</td>\n",
              "      <td>2016-06-12 00:54:38</td>\n",
              "      <td>1</td>\n",
              "      <td>-73.980415</td>\n",
              "      <td>40.738564</td>\n",
              "      <td>-73.999481</td>\n",
              "      <td>40.731152</td>\n",
              "      <td>N</td>\n",
              "      <td>663</td>\n",
              "    </tr>\n",
              "    <tr>\n",
              "      <th>2</th>\n",
              "      <td>id3858529</td>\n",
              "      <td>2</td>\n",
              "      <td>2016-01-19 11:35:24</td>\n",
              "      <td>2016-01-19 12:10:48</td>\n",
              "      <td>1</td>\n",
              "      <td>-73.979027</td>\n",
              "      <td>40.763939</td>\n",
              "      <td>-74.005333</td>\n",
              "      <td>40.710087</td>\n",
              "      <td>N</td>\n",
              "      <td>2124</td>\n",
              "    </tr>\n",
              "    <tr>\n",
              "      <th>3</th>\n",
              "      <td>id3504673</td>\n",
              "      <td>2</td>\n",
              "      <td>2016-04-06 19:32:31</td>\n",
              "      <td>2016-04-06 19:39:40</td>\n",
              "      <td>1</td>\n",
              "      <td>-74.010040</td>\n",
              "      <td>40.719971</td>\n",
              "      <td>-74.012268</td>\n",
              "      <td>40.706718</td>\n",
              "      <td>N</td>\n",
              "      <td>429</td>\n",
              "    </tr>\n",
              "    <tr>\n",
              "      <th>4</th>\n",
              "      <td>id2181028</td>\n",
              "      <td>2</td>\n",
              "      <td>2016-03-26 13:30:55</td>\n",
              "      <td>2016-03-26 13:38:10</td>\n",
              "      <td>1</td>\n",
              "      <td>-73.973053</td>\n",
              "      <td>40.793209</td>\n",
              "      <td>-73.972923</td>\n",
              "      <td>40.782520</td>\n",
              "      <td>N</td>\n",
              "      <td>435</td>\n",
              "    </tr>\n",
              "  </tbody>\n",
              "</table>\n",
              "</div>"
            ],
            "text/plain": [
              "          id  vendor_id  ... store_and_fwd_flag trip_duration\n",
              "0  id2875421          2  ...                  N           455\n",
              "1  id2377394          1  ...                  N           663\n",
              "2  id3858529          2  ...                  N          2124\n",
              "3  id3504673          2  ...                  N           429\n",
              "4  id2181028          2  ...                  N           435\n",
              "\n",
              "[5 rows x 11 columns]"
            ]
          },
          "metadata": {},
          "execution_count": 168
        }
      ]
    },
    {
      "cell_type": "code",
      "metadata": {
        "colab": {
          "base_uri": "https://localhost:8080/"
        },
        "id": "T-DHoGSe91Zb",
        "outputId": "e8eef922-6307-4550-98a8-c310b4e5bc09"
      },
      "source": [
        "# total ids \n",
        "len(df['id'].unique())"
      ],
      "execution_count": 169,
      "outputs": [
        {
          "output_type": "execute_result",
          "data": {
            "text/plain": [
              "1458644"
            ]
          },
          "metadata": {},
          "execution_count": 169
        }
      ]
    },
    {
      "cell_type": "code",
      "metadata": {
        "colab": {
          "base_uri": "https://localhost:8080/"
        },
        "id": "rgEkE_yN99yB",
        "outputId": "0edbb95e-d5ba-479c-b2d8-33a0d8cfb648"
      },
      "source": [
        "# total of columns \n",
        "df.columns"
      ],
      "execution_count": 170,
      "outputs": [
        {
          "output_type": "execute_result",
          "data": {
            "text/plain": [
              "Index(['id', 'vendor_id', 'pickup_datetime', 'dropoff_datetime',\n",
              "       'passenger_count', 'pickup_longitude', 'pickup_latitude',\n",
              "       'dropoff_longitude', 'dropoff_latitude', 'store_and_fwd_flag',\n",
              "       'trip_duration'],\n",
              "      dtype='object')"
            ]
          },
          "metadata": {},
          "execution_count": 170
        }
      ]
    },
    {
      "cell_type": "code",
      "metadata": {
        "colab": {
          "base_uri": "https://localhost:8080/",
          "height": 294
        },
        "id": "QmLvWuI2-xLE",
        "outputId": "a6b9f229-24ae-42ee-fd20-7f88dfb586b7"
      },
      "source": [
        "df.describe()  # overview of the dataset mean max std "
      ],
      "execution_count": 171,
      "outputs": [
        {
          "output_type": "execute_result",
          "data": {
            "text/html": [
              "<div>\n",
              "<style scoped>\n",
              "    .dataframe tbody tr th:only-of-type {\n",
              "        vertical-align: middle;\n",
              "    }\n",
              "\n",
              "    .dataframe tbody tr th {\n",
              "        vertical-align: top;\n",
              "    }\n",
              "\n",
              "    .dataframe thead th {\n",
              "        text-align: right;\n",
              "    }\n",
              "</style>\n",
              "<table border=\"1\" class=\"dataframe\">\n",
              "  <thead>\n",
              "    <tr style=\"text-align: right;\">\n",
              "      <th></th>\n",
              "      <th>vendor_id</th>\n",
              "      <th>passenger_count</th>\n",
              "      <th>pickup_longitude</th>\n",
              "      <th>pickup_latitude</th>\n",
              "      <th>dropoff_longitude</th>\n",
              "      <th>dropoff_latitude</th>\n",
              "      <th>trip_duration</th>\n",
              "    </tr>\n",
              "  </thead>\n",
              "  <tbody>\n",
              "    <tr>\n",
              "      <th>count</th>\n",
              "      <td>1.458644e+06</td>\n",
              "      <td>1.458644e+06</td>\n",
              "      <td>1.458644e+06</td>\n",
              "      <td>1.458644e+06</td>\n",
              "      <td>1.458644e+06</td>\n",
              "      <td>1.458644e+06</td>\n",
              "      <td>1.458644e+06</td>\n",
              "    </tr>\n",
              "    <tr>\n",
              "      <th>mean</th>\n",
              "      <td>1.534950e+00</td>\n",
              "      <td>1.664530e+00</td>\n",
              "      <td>-7.397349e+01</td>\n",
              "      <td>4.075092e+01</td>\n",
              "      <td>-7.397342e+01</td>\n",
              "      <td>4.075180e+01</td>\n",
              "      <td>9.594923e+02</td>\n",
              "    </tr>\n",
              "    <tr>\n",
              "      <th>std</th>\n",
              "      <td>4.987772e-01</td>\n",
              "      <td>1.314242e+00</td>\n",
              "      <td>7.090186e-02</td>\n",
              "      <td>3.288119e-02</td>\n",
              "      <td>7.064327e-02</td>\n",
              "      <td>3.589056e-02</td>\n",
              "      <td>5.237432e+03</td>\n",
              "    </tr>\n",
              "    <tr>\n",
              "      <th>min</th>\n",
              "      <td>1.000000e+00</td>\n",
              "      <td>0.000000e+00</td>\n",
              "      <td>-1.219333e+02</td>\n",
              "      <td>3.435970e+01</td>\n",
              "      <td>-1.219333e+02</td>\n",
              "      <td>3.218114e+01</td>\n",
              "      <td>1.000000e+00</td>\n",
              "    </tr>\n",
              "    <tr>\n",
              "      <th>25%</th>\n",
              "      <td>1.000000e+00</td>\n",
              "      <td>1.000000e+00</td>\n",
              "      <td>-7.399187e+01</td>\n",
              "      <td>4.073735e+01</td>\n",
              "      <td>-7.399133e+01</td>\n",
              "      <td>4.073588e+01</td>\n",
              "      <td>3.970000e+02</td>\n",
              "    </tr>\n",
              "    <tr>\n",
              "      <th>50%</th>\n",
              "      <td>2.000000e+00</td>\n",
              "      <td>1.000000e+00</td>\n",
              "      <td>-7.398174e+01</td>\n",
              "      <td>4.075410e+01</td>\n",
              "      <td>-7.397975e+01</td>\n",
              "      <td>4.075452e+01</td>\n",
              "      <td>6.620000e+02</td>\n",
              "    </tr>\n",
              "    <tr>\n",
              "      <th>75%</th>\n",
              "      <td>2.000000e+00</td>\n",
              "      <td>2.000000e+00</td>\n",
              "      <td>-7.396733e+01</td>\n",
              "      <td>4.076836e+01</td>\n",
              "      <td>-7.396301e+01</td>\n",
              "      <td>4.076981e+01</td>\n",
              "      <td>1.075000e+03</td>\n",
              "    </tr>\n",
              "    <tr>\n",
              "      <th>max</th>\n",
              "      <td>2.000000e+00</td>\n",
              "      <td>9.000000e+00</td>\n",
              "      <td>-6.133553e+01</td>\n",
              "      <td>5.188108e+01</td>\n",
              "      <td>-6.133553e+01</td>\n",
              "      <td>4.392103e+01</td>\n",
              "      <td>3.526282e+06</td>\n",
              "    </tr>\n",
              "  </tbody>\n",
              "</table>\n",
              "</div>"
            ],
            "text/plain": [
              "          vendor_id  passenger_count  ...  dropoff_latitude  trip_duration\n",
              "count  1.458644e+06     1.458644e+06  ...      1.458644e+06   1.458644e+06\n",
              "mean   1.534950e+00     1.664530e+00  ...      4.075180e+01   9.594923e+02\n",
              "std    4.987772e-01     1.314242e+00  ...      3.589056e-02   5.237432e+03\n",
              "min    1.000000e+00     0.000000e+00  ...      3.218114e+01   1.000000e+00\n",
              "25%    1.000000e+00     1.000000e+00  ...      4.073588e+01   3.970000e+02\n",
              "50%    2.000000e+00     1.000000e+00  ...      4.075452e+01   6.620000e+02\n",
              "75%    2.000000e+00     2.000000e+00  ...      4.076981e+01   1.075000e+03\n",
              "max    2.000000e+00     9.000000e+00  ...      4.392103e+01   3.526282e+06\n",
              "\n",
              "[8 rows x 7 columns]"
            ]
          },
          "metadata": {},
          "execution_count": 171
        }
      ]
    },
    {
      "cell_type": "code",
      "metadata": {
        "colab": {
          "base_uri": "https://localhost:8080/"
        },
        "id": "DmlLaIxv-8LI",
        "outputId": "9ef95662-ac09-431c-b35f-dfbf07471acb"
      },
      "source": [
        "df.info()"
      ],
      "execution_count": 172,
      "outputs": [
        {
          "output_type": "stream",
          "name": "stdout",
          "text": [
            "<class 'pandas.core.frame.DataFrame'>\n",
            "RangeIndex: 1458644 entries, 0 to 1458643\n",
            "Data columns (total 11 columns):\n",
            " #   Column              Non-Null Count    Dtype  \n",
            "---  ------              --------------    -----  \n",
            " 0   id                  1458644 non-null  object \n",
            " 1   vendor_id           1458644 non-null  int64  \n",
            " 2   pickup_datetime     1458644 non-null  object \n",
            " 3   dropoff_datetime    1458644 non-null  object \n",
            " 4   passenger_count     1458644 non-null  int64  \n",
            " 5   pickup_longitude    1458644 non-null  float64\n",
            " 6   pickup_latitude     1458644 non-null  float64\n",
            " 7   dropoff_longitude   1458644 non-null  float64\n",
            " 8   dropoff_latitude    1458644 non-null  float64\n",
            " 9   store_and_fwd_flag  1458644 non-null  object \n",
            " 10  trip_duration       1458644 non-null  int64  \n",
            "dtypes: float64(4), int64(3), object(4)\n",
            "memory usage: 122.4+ MB\n"
          ]
        }
      ]
    },
    {
      "cell_type": "code",
      "metadata": {
        "colab": {
          "base_uri": "https://localhost:8080/"
        },
        "id": "ig-Esbck_2cv",
        "outputId": "b60403ef-0357-440a-de68-36da161c4309"
      },
      "source": [
        "df.shape"
      ],
      "execution_count": 10,
      "outputs": [
        {
          "output_type": "execute_result",
          "data": {
            "text/plain": [
              "(1458644, 11)"
            ]
          },
          "metadata": {},
          "execution_count": 10
        }
      ]
    },
    {
      "cell_type": "code",
      "metadata": {
        "colab": {
          "base_uri": "https://localhost:8080/"
        },
        "id": "0SH3EU-KbfRF",
        "outputId": "11dafcbc-63ab-4d47-9940-b87070fef445"
      },
      "source": [
        "df.isnull().sum()"
      ],
      "execution_count": 11,
      "outputs": [
        {
          "output_type": "execute_result",
          "data": {
            "text/plain": [
              "id                    0\n",
              "vendor_id             0\n",
              "pickup_datetime       0\n",
              "dropoff_datetime      0\n",
              "passenger_count       0\n",
              "pickup_longitude      0\n",
              "pickup_latitude       0\n",
              "dropoff_longitude     0\n",
              "dropoff_latitude      0\n",
              "store_and_fwd_flag    0\n",
              "trip_duration         0\n",
              "dtype: int64"
            ]
          },
          "metadata": {},
          "execution_count": 11
        }
      ]
    },
    {
      "cell_type": "code",
      "metadata": {
        "id": "JPvnJSdq_5-w"
      },
      "source": [
        "df_new = df.copy()"
      ],
      "execution_count": 250,
      "outputs": []
    },
    {
      "cell_type": "code",
      "metadata": {
        "colab": {
          "base_uri": "https://localhost:8080/"
        },
        "id": "pX05yJMzAwcQ",
        "outputId": "898355e9-9da5-4c0d-f1ab-727d517df7fa"
      },
      "source": [
        "df['pickup_datetime'].value_counts()"
      ],
      "execution_count": 251,
      "outputs": [
        {
          "output_type": "execute_result",
          "data": {
            "text/plain": [
              "2016-05-07 13:18:07    5\n",
              "2016-03-04 08:07:34    5\n",
              "2016-02-09 21:03:38    5\n",
              "2016-04-05 18:55:21    5\n",
              "2016-06-10 23:17:17    5\n",
              "                      ..\n",
              "2016-06-25 19:21:45    1\n",
              "2016-01-22 07:58:29    1\n",
              "2016-06-03 07:13:11    1\n",
              "2016-01-29 12:53:29    1\n",
              "2016-05-27 10:46:50    1\n",
              "Name: pickup_datetime, Length: 1380222, dtype: int64"
            ]
          },
          "metadata": {},
          "execution_count": 251
        }
      ]
    },
    {
      "cell_type": "code",
      "metadata": {
        "colab": {
          "base_uri": "https://localhost:8080/"
        },
        "id": "eKDRKo-PAmKj",
        "outputId": "8fb4f45c-514f-497c-aee1-bb2c30c0f038"
      },
      "source": [
        "list_of_numeric_columns = df.describe().columns\n",
        "list_of_numeric_columns"
      ],
      "execution_count": 252,
      "outputs": [
        {
          "output_type": "execute_result",
          "data": {
            "text/plain": [
              "Index(['vendor_id', 'passenger_count', 'pickup_longitude', 'pickup_latitude',\n",
              "       'dropoff_longitude', 'dropoff_latitude', 'trip_duration'],\n",
              "      dtype='object')"
            ]
          },
          "metadata": {},
          "execution_count": 252
        }
      ]
    },
    {
      "cell_type": "code",
      "metadata": {
        "colab": {
          "base_uri": "https://localhost:8080/",
          "height": 1000
        },
        "id": "a-xrtmjEbpGT",
        "outputId": "e540c566-6359-4951-82d7-0f690ff87130"
      },
      "source": [
        "\n",
        "# plot a bar plot for each numerical feature count\n",
        "for col in list_of_numeric_columns:\n",
        "    fig = plt.figure(figsize=(9, 6))\n",
        "    ax = fig.gca()\n",
        "    feature = df[col]\n",
        "    feature.hist(bins=50, ax = ax)\n",
        "    ax.axvline(feature.mean(), color='magenta', linestyle='dashed', linewidth=2)\n",
        "    ax.axvline(feature.median(), color='cyan', linestyle='dashed', linewidth=2)    \n",
        "    ax.set_title(col)\n",
        "plt.show()\n"
      ],
      "execution_count": 15,
      "outputs": [
        {
          "output_type": "display_data",
          "data": {
            "image/png": "[encoded data removed]",
            "text/plain": [
              "<Figure size 648x432 with 1 Axes>"
            ]
          },
          "metadata": {
            "needs_background": "light"
          }
        },
        {
          "output_type": "display_data",
          "data": {
            "image/png": "[encoded data removed]",
            "text/plain": [
              "<Figure size 648x432 with 1 Axes>"
            ]
          },
          "metadata": {
            "needs_background": "light"
          }
        },
        {
          "output_type": "display_data",
          "data": {
            "image/png": "[encoded data removed]",
            "text/plain": [
              "<Figure size 648x432 with 1 Axes>"
            ]
          },
          "metadata": {
            "needs_background": "light"
          }
        },
        {
          "output_type": "display_data",
          "data": {
            "image/png": "[encoded data removed]",
            "text/plain": [
              "<Figure size 648x432 with 1 Axes>"
            ]
          },
          "metadata": {
            "needs_background": "light"
          }
        },
        {
          "output_type": "display_data",
          "data": {
            "image/png": "[encoded data removed]",
            "text/plain": [
              "<Figure size 648x432 with 1 Axes>"
            ]
          },
          "metadata": {
            "needs_background": "light"
          }
        },
        {
          "output_type": "display_data",
          "data": {
            "image/png": "[encoded data removed]",
            "text/plain": [
              "<Figure size 648x432 with 1 Axes>"
            ]
          },
          "metadata": {
            "needs_background": "light"
          }
        },
        {
          "output_type": "display_data",
          "data": {
            "image/png": "[encoded data removed]",
            "text/plain": [
              "<Figure size 648x432 with 1 Axes>"
            ]
          },
          "metadata": {
            "needs_background": "light"
          }
        }
      ]
    },
    {
      "cell_type": "code",
      "metadata": {
        "colab": {
          "base_uri": "https://localhost:8080/"
        },
        "id": "4sYIgRqHhfTd",
        "outputId": "ee488c6e-90a0-4312-ec71-faa25d65331d"
      },
      "source": [
        "df['vendor_id'].value_counts()"
      ],
      "execution_count": 16,
      "outputs": [
        {
          "output_type": "execute_result",
          "data": {
            "text/plain": [
              "2    780302\n",
              "1    678342\n",
              "Name: vendor_id, dtype: int64"
            ]
          },
          "metadata": {},
          "execution_count": 16
        }
      ]
    },
    {
      "cell_type": "code",
      "metadata": {
        "colab": {
          "base_uri": "https://localhost:8080/",
          "height": 356
        },
        "id": "9giA1ZzmhfQk",
        "outputId": "b595913a-9301-4ba2-8d11-dc90e3152dff"
      },
      "source": [
        "df['passenger_count'].value_counts().reset_index().rename({'index':'no_of_passengers'} , axis=1)"
      ],
      "execution_count": 173,
      "outputs": [
        {
          "output_type": "execute_result",
          "data": {
            "text/html": [
              "<div>\n",
              "<style scoped>\n",
              "    .dataframe tbody tr th:only-of-type {\n",
              "        vertical-align: middle;\n",
              "    }\n",
              "\n",
              "    .dataframe tbody tr th {\n",
              "        vertical-align: top;\n",
              "    }\n",
              "\n",
              "    .dataframe thead th {\n",
              "        text-align: right;\n",
              "    }\n",
              "</style>\n",
              "<table border=\"1\" class=\"dataframe\">\n",
              "  <thead>\n",
              "    <tr style=\"text-align: right;\">\n",
              "      <th></th>\n",
              "      <th>no_of_passengers</th>\n",
              "      <th>passenger_count</th>\n",
              "    </tr>\n",
              "  </thead>\n",
              "  <tbody>\n",
              "    <tr>\n",
              "      <th>0</th>\n",
              "      <td>1</td>\n",
              "      <td>1033540</td>\n",
              "    </tr>\n",
              "    <tr>\n",
              "      <th>1</th>\n",
              "      <td>2</td>\n",
              "      <td>210318</td>\n",
              "    </tr>\n",
              "    <tr>\n",
              "      <th>2</th>\n",
              "      <td>5</td>\n",
              "      <td>78088</td>\n",
              "    </tr>\n",
              "    <tr>\n",
              "      <th>3</th>\n",
              "      <td>3</td>\n",
              "      <td>59896</td>\n",
              "    </tr>\n",
              "    <tr>\n",
              "      <th>4</th>\n",
              "      <td>6</td>\n",
              "      <td>48333</td>\n",
              "    </tr>\n",
              "    <tr>\n",
              "      <th>5</th>\n",
              "      <td>4</td>\n",
              "      <td>28404</td>\n",
              "    </tr>\n",
              "    <tr>\n",
              "      <th>6</th>\n",
              "      <td>0</td>\n",
              "      <td>60</td>\n",
              "    </tr>\n",
              "    <tr>\n",
              "      <th>7</th>\n",
              "      <td>7</td>\n",
              "      <td>3</td>\n",
              "    </tr>\n",
              "    <tr>\n",
              "      <th>8</th>\n",
              "      <td>9</td>\n",
              "      <td>1</td>\n",
              "    </tr>\n",
              "    <tr>\n",
              "      <th>9</th>\n",
              "      <td>8</td>\n",
              "      <td>1</td>\n",
              "    </tr>\n",
              "  </tbody>\n",
              "</table>\n",
              "</div>"
            ],
            "text/plain": [
              "   no_of_passengers  passenger_count\n",
              "0                 1          1033540\n",
              "1                 2           210318\n",
              "2                 5            78088\n",
              "3                 3            59896\n",
              "4                 6            48333\n",
              "5                 4            28404\n",
              "6                 0               60\n",
              "7                 7                3\n",
              "8                 9                1\n",
              "9                 8                1"
            ]
          },
          "metadata": {},
          "execution_count": 173
        }
      ]
    },
    {
      "cell_type": "code",
      "metadata": {
        "id": "L07Bf6-_hfNx"
      },
      "source": [
        "# passengers with 0 count has no meaning so we will drop all these rows which anyhow wont affect the dataset\n",
        "df = df[df.passenger_count != 0]"
      ],
      "execution_count": 253,
      "outputs": []
    },
    {
      "cell_type": "code",
      "metadata": {
        "colab": {
          "base_uri": "https://localhost:8080/"
        },
        "id": "pLvuhi_zk6Kb",
        "outputId": "e14e8c95-5a25-459c-9dcc-5a86e644ce74"
      },
      "source": [
        "df.shape"
      ],
      "execution_count": 19,
      "outputs": [
        {
          "output_type": "execute_result",
          "data": {
            "text/plain": [
              "(1458584, 11)"
            ]
          },
          "metadata": {},
          "execution_count": 19
        }
      ]
    },
    {
      "cell_type": "code",
      "metadata": {
        "id": "hAJWFGnnhfMN"
      },
      "source": [
        "# converting object type date into datetime \n",
        "df['pickup_datetime'] = pd.to_datetime(df['pickup_datetime'])\n",
        "df['dropoff_datetime'] = pd.to_datetime(df['dropoff_datetime'])"
      ],
      "execution_count": 254,
      "outputs": []
    },
    {
      "cell_type": "code",
      "metadata": {
        "colab": {
          "base_uri": "https://localhost:8080/"
        },
        "id": "kzCCbzq9mGAA",
        "outputId": "08067e7f-a348-4ac7-d6b4-714fc434364a"
      },
      "source": [
        "df.dtypes # verify if object is converted to datetime"
      ],
      "execution_count": 255,
      "outputs": [
        {
          "output_type": "execute_result",
          "data": {
            "text/plain": [
              "id                            object\n",
              "vendor_id                      int64\n",
              "pickup_datetime       datetime64[ns]\n",
              "dropoff_datetime      datetime64[ns]\n",
              "passenger_count                int64\n",
              "pickup_longitude             float64\n",
              "pickup_latitude              float64\n",
              "dropoff_longitude            float64\n",
              "dropoff_latitude             float64\n",
              "store_and_fwd_flag            object\n",
              "trip_duration                  int64\n",
              "dtype: object"
            ]
          },
          "metadata": {},
          "execution_count": 255
        }
      ]
    },
    {
      "cell_type": "code",
      "metadata": {
        "colab": {
          "base_uri": "https://localhost:8080/"
        },
        "id": "tQn8PWeDhFOW",
        "outputId": "a8ffab7b-641f-49d1-9577-54deeef0238a"
      },
      "source": [
        "df.drop_duplicates(inplace=True)\n",
        "df.shape"
      ],
      "execution_count": 22,
      "outputs": [
        {
          "output_type": "execute_result",
          "data": {
            "text/plain": [
              "(1458584, 11)"
            ]
          },
          "metadata": {},
          "execution_count": 22
        }
      ]
    },
    {
      "cell_type": "code",
      "metadata": {
        "colab": {
          "base_uri": "https://localhost:8080/"
        },
        "id": "Hue6UR3DuBqp",
        "outputId": "8ef5e286-ba8e-41cb-c4fb-64177ba1dbae"
      },
      "source": [
        "df['pickup_datetime'][0]"
      ],
      "execution_count": 177,
      "outputs": [
        {
          "output_type": "execute_result",
          "data": {
            "text/plain": [
              "Timestamp('2016-03-14 17:24:55')"
            ]
          },
          "metadata": {},
          "execution_count": 177
        }
      ]
    },
    {
      "cell_type": "code",
      "metadata": {
        "id": "-oNVYYQnuBn2"
      },
      "source": [
        "# for better vizualization we will convert pickup nad drop time columns to extract days of pickup and drop\n",
        "\n",
        "df['pick_day']= df['pickup_datetime'].dt.day_name()\n",
        "df['drop_day'] = df['dropoff_datetime'].dt.day_name()\n"
      ],
      "execution_count": 256,
      "outputs": []
    },
    {
      "cell_type": "code",
      "metadata": {
        "colab": {
          "base_uri": "https://localhost:8080/",
          "height": 389
        },
        "id": "l4qQ-DN_uBh2",
        "outputId": "a36634a5-cd2f-4983-db43-df3a8f45a856"
      },
      "source": [
        "# we will plot countplot to see pickup days accoridng to count\n",
        "fig =plt.figure(figsize=(8,5))\n",
        "ax = fig.gca()\n",
        "sns.countplot(x='pick_day' , data=df)\n",
        "ax.set_title('pickups according to day in a week')\n",
        "plt.xticks(rotation = '45')\n",
        "plt.show()"
      ],
      "execution_count": 179,
      "outputs": [
        {
          "output_type": "display_data",
          "data": {
            "image/png": "[encoded data removed]",
            "text/plain": [
              "<Figure size 576x360 with 1 Axes>"
            ]
          },
          "metadata": {
            "needs_background": "light"
          }
        }
      ]
    },
    {
      "cell_type": "code",
      "metadata": {
        "colab": {
          "base_uri": "https://localhost:8080/",
          "height": 389
        },
        "id": "OjUXOkWfuBR0",
        "outputId": "2fa50a2e-0af3-4df1-c606-759de0972054"
      },
      "source": [
        "# we will plot countplot to see pickup days accoridng to count\n",
        "fig =plt.figure(figsize=(8,5))\n",
        "ax = fig.gca()\n",
        "sns.countplot(x='drop_day' , data=df)\n",
        "ax.set_title('drop according to day in a week')\n",
        "plt.xticks(rotation='45')\n",
        "plt.show()"
      ],
      "execution_count": 26,
      "outputs": [
        {
          "output_type": "display_data",
          "data": {
            "image/png": "[encoded data removed]",
            "text/plain": [
              "<Figure size 576x360 with 1 Axes>"
            ]
          },
          "metadata": {
            "needs_background": "light"
          }
        }
      ]
    },
    {
      "cell_type": "markdown",
      "metadata": {
        "id": "NJaYbOCC8e67"
      },
      "source": [
        "* We can see that maximum pickup is in sat sun and minimum pickup is on monday\n",
        "\n",
        "\n",
        "\n",
        "\n",
        "\n",
        "\n"
      ]
    },
    {
      "cell_type": "code",
      "metadata": {
        "colab": {
          "base_uri": "https://localhost:8080/",
          "height": 306
        },
        "id": "9ZYIdGtEuBPF",
        "outputId": "1e438986-b1ea-446d-d59a-0f48c4c00aa8"
      },
      "source": [
        "df.head()"
      ],
      "execution_count": 27,
      "outputs": [
        {
          "output_type": "execute_result",
          "data": {
            "text/html": [
              "<div>\n",
              "<style scoped>\n",
              "    .dataframe tbody tr th:only-of-type {\n",
              "        vertical-align: middle;\n",
              "    }\n",
              "\n",
              "    .dataframe tbody tr th {\n",
              "        vertical-align: top;\n",
              "    }\n",
              "\n",
              "    .dataframe thead th {\n",
              "        text-align: right;\n",
              "    }\n",
              "</style>\n",
              "<table border=\"1\" class=\"dataframe\">\n",
              "  <thead>\n",
              "    <tr style=\"text-align: right;\">\n",
              "      <th></th>\n",
              "      <th>id</th>\n",
              "      <th>vendor_id</th>\n",
              "      <th>pickup_datetime</th>\n",
              "      <th>dropoff_datetime</th>\n",
              "      <th>passenger_count</th>\n",
              "      <th>pickup_longitude</th>\n",
              "      <th>pickup_latitude</th>\n",
              "      <th>dropoff_longitude</th>\n",
              "      <th>dropoff_latitude</th>\n",
              "      <th>store_and_fwd_flag</th>\n",
              "      <th>trip_duration</th>\n",
              "      <th>pick_day</th>\n",
              "      <th>drop_day</th>\n",
              "    </tr>\n",
              "  </thead>\n",
              "  <tbody>\n",
              "    <tr>\n",
              "      <th>0</th>\n",
              "      <td>id2875421</td>\n",
              "      <td>2</td>\n",
              "      <td>2016-03-14 17:24:55</td>\n",
              "      <td>2016-03-14 17:32:30</td>\n",
              "      <td>1</td>\n",
              "      <td>-73.982155</td>\n",
              "      <td>40.767937</td>\n",
              "      <td>-73.964630</td>\n",
              "      <td>40.765602</td>\n",
              "      <td>N</td>\n",
              "      <td>455</td>\n",
              "      <td>Monday</td>\n",
              "      <td>Monday</td>\n",
              "    </tr>\n",
              "    <tr>\n",
              "      <th>1</th>\n",
              "      <td>id2377394</td>\n",
              "      <td>1</td>\n",
              "      <td>2016-06-12 00:43:35</td>\n",
              "      <td>2016-06-12 00:54:38</td>\n",
              "      <td>1</td>\n",
              "      <td>-73.980415</td>\n",
              "      <td>40.738564</td>\n",
              "      <td>-73.999481</td>\n",
              "      <td>40.731152</td>\n",
              "      <td>N</td>\n",
              "      <td>663</td>\n",
              "      <td>Sunday</td>\n",
              "      <td>Sunday</td>\n",
              "    </tr>\n",
              "    <tr>\n",
              "      <th>2</th>\n",
              "      <td>id3858529</td>\n",
              "      <td>2</td>\n",
              "      <td>2016-01-19 11:35:24</td>\n",
              "      <td>2016-01-19 12:10:48</td>\n",
              "      <td>1</td>\n",
              "      <td>-73.979027</td>\n",
              "      <td>40.763939</td>\n",
              "      <td>-74.005333</td>\n",
              "      <td>40.710087</td>\n",
              "      <td>N</td>\n",
              "      <td>2124</td>\n",
              "      <td>Tuesday</td>\n",
              "      <td>Tuesday</td>\n",
              "    </tr>\n",
              "    <tr>\n",
              "      <th>3</th>\n",
              "      <td>id3504673</td>\n",
              "      <td>2</td>\n",
              "      <td>2016-04-06 19:32:31</td>\n",
              "      <td>2016-04-06 19:39:40</td>\n",
              "      <td>1</td>\n",
              "      <td>-74.010040</td>\n",
              "      <td>40.719971</td>\n",
              "      <td>-74.012268</td>\n",
              "      <td>40.706718</td>\n",
              "      <td>N</td>\n",
              "      <td>429</td>\n",
              "      <td>Wednesday</td>\n",
              "      <td>Wednesday</td>\n",
              "    </tr>\n",
              "    <tr>\n",
              "      <th>4</th>\n",
              "      <td>id2181028</td>\n",
              "      <td>2</td>\n",
              "      <td>2016-03-26 13:30:55</td>\n",
              "      <td>2016-03-26 13:38:10</td>\n",
              "      <td>1</td>\n",
              "      <td>-73.973053</td>\n",
              "      <td>40.793209</td>\n",
              "      <td>-73.972923</td>\n",
              "      <td>40.782520</td>\n",
              "      <td>N</td>\n",
              "      <td>435</td>\n",
              "      <td>Saturday</td>\n",
              "      <td>Saturday</td>\n",
              "    </tr>\n",
              "  </tbody>\n",
              "</table>\n",
              "</div>"
            ],
            "text/plain": [
              "          id  vendor_id  ...   pick_day   drop_day\n",
              "0  id2875421          2  ...     Monday     Monday\n",
              "1  id2377394          1  ...     Sunday     Sunday\n",
              "2  id3858529          2  ...    Tuesday    Tuesday\n",
              "3  id3504673          2  ...  Wednesday  Wednesday\n",
              "4  id2181028          2  ...   Saturday   Saturday\n",
              "\n",
              "[5 rows x 13 columns]"
            ]
          },
          "metadata": {},
          "execution_count": 27
        }
      ]
    },
    {
      "cell_type": "code",
      "metadata": {
        "id": "33xaZ_rAuBLs"
      },
      "source": [
        "# now to see how much was an avarage length of the duration \n",
        "df['pickup_hour'] = df['pickup_datetime'].dt.hour\n",
        "df['drop_hour'] = df['dropoff_datetime'].dt.hour"
      ],
      "execution_count": 257,
      "outputs": []
    },
    {
      "cell_type": "code",
      "metadata": {
        "id": "eyUte6-quBFC"
      },
      "source": [
        "# lets convert hours into bins of morning afternoon evening late night \n",
        "def timezone(x):\n",
        "  x = 'morning' if x in range(6,12) else 'afternoon' if x in range(12,16) else 'evening' if x in range(16,22) else 'late_night'\n",
        "  return x\n"
      ],
      "execution_count": 258,
      "outputs": []
    },
    {
      "cell_type": "code",
      "metadata": {
        "id": "7Q2D0p5-uBB1"
      },
      "source": [
        "df['time_zone'] = df['pickup_hour'].apply(timezone)"
      ],
      "execution_count": 259,
      "outputs": []
    },
    {
      "cell_type": "code",
      "metadata": {
        "colab": {
          "base_uri": "https://localhost:8080/",
          "height": 306
        },
        "id": "hTLZIh2uuBAR",
        "outputId": "cd20eff6-c7fe-4d94-ee89-578f6243a5d7"
      },
      "source": [
        "df.head()"
      ],
      "execution_count": 183,
      "outputs": [
        {
          "output_type": "execute_result",
          "data": {
            "text/html": [
              "<div>\n",
              "<style scoped>\n",
              "    .dataframe tbody tr th:only-of-type {\n",
              "        vertical-align: middle;\n",
              "    }\n",
              "\n",
              "    .dataframe tbody tr th {\n",
              "        vertical-align: top;\n",
              "    }\n",
              "\n",
              "    .dataframe thead th {\n",
              "        text-align: right;\n",
              "    }\n",
              "</style>\n",
              "<table border=\"1\" class=\"dataframe\">\n",
              "  <thead>\n",
              "    <tr style=\"text-align: right;\">\n",
              "      <th></th>\n",
              "      <th>id</th>\n",
              "      <th>vendor_id</th>\n",
              "      <th>pickup_datetime</th>\n",
              "      <th>dropoff_datetime</th>\n",
              "      <th>passenger_count</th>\n",
              "      <th>pickup_longitude</th>\n",
              "      <th>pickup_latitude</th>\n",
              "      <th>dropoff_longitude</th>\n",
              "      <th>dropoff_latitude</th>\n",
              "      <th>store_and_fwd_flag</th>\n",
              "      <th>trip_duration</th>\n",
              "      <th>pick_day</th>\n",
              "      <th>drop_day</th>\n",
              "      <th>pickup_hour</th>\n",
              "      <th>drop_hour</th>\n",
              "      <th>time_zone</th>\n",
              "    </tr>\n",
              "  </thead>\n",
              "  <tbody>\n",
              "    <tr>\n",
              "      <th>0</th>\n",
              "      <td>id2875421</td>\n",
              "      <td>2</td>\n",
              "      <td>2016-03-14 17:24:55</td>\n",
              "      <td>2016-03-14 17:32:30</td>\n",
              "      <td>1</td>\n",
              "      <td>-73.982155</td>\n",
              "      <td>40.767937</td>\n",
              "      <td>-73.964630</td>\n",
              "      <td>40.765602</td>\n",
              "      <td>N</td>\n",
              "      <td>455</td>\n",
              "      <td>Monday</td>\n",
              "      <td>Monday</td>\n",
              "      <td>17</td>\n",
              "      <td>17</td>\n",
              "      <td>evening</td>\n",
              "    </tr>\n",
              "    <tr>\n",
              "      <th>1</th>\n",
              "      <td>id2377394</td>\n",
              "      <td>1</td>\n",
              "      <td>2016-06-12 00:43:35</td>\n",
              "      <td>2016-06-12 00:54:38</td>\n",
              "      <td>1</td>\n",
              "      <td>-73.980415</td>\n",
              "      <td>40.738564</td>\n",
              "      <td>-73.999481</td>\n",
              "      <td>40.731152</td>\n",
              "      <td>N</td>\n",
              "      <td>663</td>\n",
              "      <td>Sunday</td>\n",
              "      <td>Sunday</td>\n",
              "      <td>0</td>\n",
              "      <td>0</td>\n",
              "      <td>late_night</td>\n",
              "    </tr>\n",
              "    <tr>\n",
              "      <th>2</th>\n",
              "      <td>id3858529</td>\n",
              "      <td>2</td>\n",
              "      <td>2016-01-19 11:35:24</td>\n",
              "      <td>2016-01-19 12:10:48</td>\n",
              "      <td>1</td>\n",
              "      <td>-73.979027</td>\n",
              "      <td>40.763939</td>\n",
              "      <td>-74.005333</td>\n",
              "      <td>40.710087</td>\n",
              "      <td>N</td>\n",
              "      <td>2124</td>\n",
              "      <td>Tuesday</td>\n",
              "      <td>Tuesday</td>\n",
              "      <td>11</td>\n",
              "      <td>12</td>\n",
              "      <td>morning</td>\n",
              "    </tr>\n",
              "    <tr>\n",
              "      <th>3</th>\n",
              "      <td>id3504673</td>\n",
              "      <td>2</td>\n",
              "      <td>2016-04-06 19:32:31</td>\n",
              "      <td>2016-04-06 19:39:40</td>\n",
              "      <td>1</td>\n",
              "      <td>-74.010040</td>\n",
              "      <td>40.719971</td>\n",
              "      <td>-74.012268</td>\n",
              "      <td>40.706718</td>\n",
              "      <td>N</td>\n",
              "      <td>429</td>\n",
              "      <td>Wednesday</td>\n",
              "      <td>Wednesday</td>\n",
              "      <td>19</td>\n",
              "      <td>19</td>\n",
              "      <td>evening</td>\n",
              "    </tr>\n",
              "    <tr>\n",
              "      <th>4</th>\n",
              "      <td>id2181028</td>\n",
              "      <td>2</td>\n",
              "      <td>2016-03-26 13:30:55</td>\n",
              "      <td>2016-03-26 13:38:10</td>\n",
              "      <td>1</td>\n",
              "      <td>-73.973053</td>\n",
              "      <td>40.793209</td>\n",
              "      <td>-73.972923</td>\n",
              "      <td>40.782520</td>\n",
              "      <td>N</td>\n",
              "      <td>435</td>\n",
              "      <td>Saturday</td>\n",
              "      <td>Saturday</td>\n",
              "      <td>13</td>\n",
              "      <td>13</td>\n",
              "      <td>afternoon</td>\n",
              "    </tr>\n",
              "  </tbody>\n",
              "</table>\n",
              "</div>"
            ],
            "text/plain": [
              "          id  vendor_id     pickup_datetime  ... pickup_hour  drop_hour   time_zone\n",
              "0  id2875421          2 2016-03-14 17:24:55  ...          17         17     evening\n",
              "1  id2377394          1 2016-06-12 00:43:35  ...           0          0  late_night\n",
              "2  id3858529          2 2016-01-19 11:35:24  ...          11         12     morning\n",
              "3  id3504673          2 2016-04-06 19:32:31  ...          19         19     evening\n",
              "4  id2181028          2 2016-03-26 13:30:55  ...          13         13   afternoon\n",
              "\n",
              "[5 rows x 16 columns]"
            ]
          },
          "metadata": {},
          "execution_count": 183
        }
      ]
    },
    {
      "cell_type": "code",
      "metadata": {
        "colab": {
          "base_uri": "https://localhost:8080/",
          "height": 384
        },
        "id": "xSxUj6_SuA8t",
        "outputId": "5ab46285-b491-4283-8a48-f5618d18210b"
      },
      "source": [
        "# countplot variation of the time zone\n",
        "fig =plt.figure(figsize=(8,5))\n",
        "ax = fig.gca()\n",
        "sns.countplot(x='time_zone' , data=df)\n",
        "ax.set_title('time zone of the pickup ')\n",
        "plt.xticks(rotation='45')\n",
        "plt.show()"
      ],
      "execution_count": 184,
      "outputs": [
        {
          "output_type": "display_data",
          "data": {
            "image/png": "[encoded data removed]",
            "text/plain": [
              "<Figure size 576x360 with 1 Axes>"
            ]
          },
          "metadata": {
            "needs_background": "light"
          }
        }
      ]
    },
    {
      "cell_type": "code",
      "metadata": {
        "colab": {
          "base_uri": "https://localhost:8080/",
          "height": 297
        },
        "id": "InIB7QWqAovw",
        "outputId": "d876c4b7-c61d-4635-d521-293c8fbf5262"
      },
      "source": [
        "# plot of pickup hour \n",
        "\n",
        "sns.countplot(x = 'pickup_hour' , data=df)"
      ],
      "execution_count": 185,
      "outputs": [
        {
          "output_type": "execute_result",
          "data": {
            "text/plain": [
              "<matplotlib.axes._subplots.AxesSubplot at 0x7f4043501910>"
            ]
          },
          "metadata": {},
          "execution_count": 185
        },
        {
          "output_type": "display_data",
          "data": {
            "image/png": "[encoded data removed]",
            "text/plain": [
              "<Figure size 432x288 with 1 Axes>"
            ]
          },
          "metadata": {
            "needs_background": "light"
          }
        }
      ]
    },
    {
      "cell_type": "markdown",
      "metadata": {
        "id": "HX1Ie1RSA42O"
      },
      "source": [
        "18 19 hours ie evening 6-7 has maximum pickups can be related as office leave times"
      ]
    },
    {
      "cell_type": "markdown",
      "metadata": {
        "id": "22XKsu0Mt3oJ"
      },
      "source": [
        "As longitiude and latitude are given so with the help of geopy.distance library we will get the distance "
      ]
    },
    {
      "cell_type": "code",
      "metadata": {
        "id": "cN3qHDTDtQ-V"
      },
      "source": [
        "from math import sin, cos, sqrt, atan2, radians\n",
        "\n",
        "def get_distance(lon_1, lon_2, lat_1, lat_2):\n",
        "\n",
        "    # approximate radius of earth in km\n",
        "    R = 6373.0\n",
        "\n",
        "    lat1 = radians(lat_1)\n",
        "    lon1 = radians(lon_1)\n",
        "    lat2 = radians(lat_2)\n",
        "    lon2 = radians(lon_2)\n",
        "\n",
        "    dlon = lon2 - lon1\n",
        "    dlat = lat2 - lat1\n",
        "\n",
        "    a = sin(dlat / 2)**2 + cos(lat1) * cos(lat2) * sin(dlon / 2)**2\n",
        "    c = 2 * atan2(sqrt(a), sqrt(1 - a))\n",
        "\n",
        "    distance = R * c\n",
        "\n",
        "    return distance\n",
        "\n",
        "#     # distance between lati and longi\n",
        "# import math\n",
        "\n",
        "# def total_distance(origin, destination):\n",
        "#     lat1, lon1 = origin\n",
        "#     lat2, lon2 = destination\n",
        "#     radius = 6371 # km\n",
        "\n",
        "#     dlat = math.radians(lat2-lat1)\n",
        "#     dlon = math.radians(lon2-lon1)\n",
        "#     a = math.sin(dlat/2) * math.sin(dlat/2) + math.cos(math.radians(lat1)) \\\n",
        "#         * math.cos(math.radians(lat2)) * math.sin(dlon/2) * math.sin(dlon/2)\n",
        "#     c = 2 * math.atan2(math.sqrt(a), math.sqrt(1-a))\n",
        "#     d = radius * c\n",
        "\n",
        "#     return d"
      ],
      "execution_count": 260,
      "outputs": []
    },
    {
      "cell_type": "code",
      "metadata": {
        "id": "noGMlyT1tU2p"
      },
      "source": [
        "\n",
        "df[\"distance\"] = df.apply(lambda x: get_distance(x[\"pickup_longitude\"],x[\"dropoff_longitude\"],x[\"pickup_latitude\"],x[\"dropoff_latitude\"]),axis=1)"
      ],
      "execution_count": 261,
      "outputs": []
    },
    {
      "cell_type": "code",
      "metadata": {
        "colab": {
          "base_uri": "https://localhost:8080/",
          "height": 306
        },
        "id": "IpqJ6f1qsYbJ",
        "outputId": "7b4e866a-b10d-4515-afab-5837ffb82cab"
      },
      "source": [
        "df.head()"
      ],
      "execution_count": 188,
      "outputs": [
        {
          "output_type": "execute_result",
          "data": {
            "text/html": [
              "<div>\n",
              "<style scoped>\n",
              "    .dataframe tbody tr th:only-of-type {\n",
              "        vertical-align: middle;\n",
              "    }\n",
              "\n",
              "    .dataframe tbody tr th {\n",
              "        vertical-align: top;\n",
              "    }\n",
              "\n",
              "    .dataframe thead th {\n",
              "        text-align: right;\n",
              "    }\n",
              "</style>\n",
              "<table border=\"1\" class=\"dataframe\">\n",
              "  <thead>\n",
              "    <tr style=\"text-align: right;\">\n",
              "      <th></th>\n",
              "      <th>id</th>\n",
              "      <th>vendor_id</th>\n",
              "      <th>pickup_datetime</th>\n",
              "      <th>dropoff_datetime</th>\n",
              "      <th>passenger_count</th>\n",
              "      <th>pickup_longitude</th>\n",
              "      <th>pickup_latitude</th>\n",
              "      <th>dropoff_longitude</th>\n",
              "      <th>dropoff_latitude</th>\n",
              "      <th>store_and_fwd_flag</th>\n",
              "      <th>trip_duration</th>\n",
              "      <th>pick_day</th>\n",
              "      <th>drop_day</th>\n",
              "      <th>pickup_hour</th>\n",
              "      <th>drop_hour</th>\n",
              "      <th>time_zone</th>\n",
              "      <th>distance</th>\n",
              "    </tr>\n",
              "  </thead>\n",
              "  <tbody>\n",
              "    <tr>\n",
              "      <th>0</th>\n",
              "      <td>id2875421</td>\n",
              "      <td>2</td>\n",
              "      <td>2016-03-14 17:24:55</td>\n",
              "      <td>2016-03-14 17:32:30</td>\n",
              "      <td>1</td>\n",
              "      <td>-73.982155</td>\n",
              "      <td>40.767937</td>\n",
              "      <td>-73.964630</td>\n",
              "      <td>40.765602</td>\n",
              "      <td>N</td>\n",
              "      <td>455</td>\n",
              "      <td>Monday</td>\n",
              "      <td>Monday</td>\n",
              "      <td>17</td>\n",
              "      <td>17</td>\n",
              "      <td>evening</td>\n",
              "      <td>1.498991</td>\n",
              "    </tr>\n",
              "    <tr>\n",
              "      <th>1</th>\n",
              "      <td>id2377394</td>\n",
              "      <td>1</td>\n",
              "      <td>2016-06-12 00:43:35</td>\n",
              "      <td>2016-06-12 00:54:38</td>\n",
              "      <td>1</td>\n",
              "      <td>-73.980415</td>\n",
              "      <td>40.738564</td>\n",
              "      <td>-73.999481</td>\n",
              "      <td>40.731152</td>\n",
              "      <td>N</td>\n",
              "      <td>663</td>\n",
              "      <td>Sunday</td>\n",
              "      <td>Sunday</td>\n",
              "      <td>0</td>\n",
              "      <td>0</td>\n",
              "      <td>late_night</td>\n",
              "      <td>1.806074</td>\n",
              "    </tr>\n",
              "    <tr>\n",
              "      <th>2</th>\n",
              "      <td>id3858529</td>\n",
              "      <td>2</td>\n",
              "      <td>2016-01-19 11:35:24</td>\n",
              "      <td>2016-01-19 12:10:48</td>\n",
              "      <td>1</td>\n",
              "      <td>-73.979027</td>\n",
              "      <td>40.763939</td>\n",
              "      <td>-74.005333</td>\n",
              "      <td>40.710087</td>\n",
              "      <td>N</td>\n",
              "      <td>2124</td>\n",
              "      <td>Tuesday</td>\n",
              "      <td>Tuesday</td>\n",
              "      <td>11</td>\n",
              "      <td>12</td>\n",
              "      <td>morning</td>\n",
              "      <td>6.387103</td>\n",
              "    </tr>\n",
              "    <tr>\n",
              "      <th>3</th>\n",
              "      <td>id3504673</td>\n",
              "      <td>2</td>\n",
              "      <td>2016-04-06 19:32:31</td>\n",
              "      <td>2016-04-06 19:39:40</td>\n",
              "      <td>1</td>\n",
              "      <td>-74.010040</td>\n",
              "      <td>40.719971</td>\n",
              "      <td>-74.012268</td>\n",
              "      <td>40.706718</td>\n",
              "      <td>N</td>\n",
              "      <td>429</td>\n",
              "      <td>Wednesday</td>\n",
              "      <td>Wednesday</td>\n",
              "      <td>19</td>\n",
              "      <td>19</td>\n",
              "      <td>evening</td>\n",
              "      <td>1.485965</td>\n",
              "    </tr>\n",
              "    <tr>\n",
              "      <th>4</th>\n",
              "      <td>id2181028</td>\n",
              "      <td>2</td>\n",
              "      <td>2016-03-26 13:30:55</td>\n",
              "      <td>2016-03-26 13:38:10</td>\n",
              "      <td>1</td>\n",
              "      <td>-73.973053</td>\n",
              "      <td>40.793209</td>\n",
              "      <td>-73.972923</td>\n",
              "      <td>40.782520</td>\n",
              "      <td>N</td>\n",
              "      <td>435</td>\n",
              "      <td>Saturday</td>\n",
              "      <td>Saturday</td>\n",
              "      <td>13</td>\n",
              "      <td>13</td>\n",
              "      <td>afternoon</td>\n",
              "      <td>1.188962</td>\n",
              "    </tr>\n",
              "  </tbody>\n",
              "</table>\n",
              "</div>"
            ],
            "text/plain": [
              "          id  vendor_id     pickup_datetime  ... drop_hour   time_zone  distance\n",
              "0  id2875421          2 2016-03-14 17:24:55  ...        17     evening  1.498991\n",
              "1  id2377394          1 2016-06-12 00:43:35  ...         0  late_night  1.806074\n",
              "2  id3858529          2 2016-01-19 11:35:24  ...        12     morning  6.387103\n",
              "3  id3504673          2 2016-04-06 19:32:31  ...        19     evening  1.485965\n",
              "4  id2181028          2 2016-03-26 13:30:55  ...        13   afternoon  1.188962\n",
              "\n",
              "[5 rows x 17 columns]"
            ]
          },
          "metadata": {},
          "execution_count": 188
        }
      ]
    },
    {
      "cell_type": "code",
      "metadata": {
        "colab": {
          "base_uri": "https://localhost:8080/",
          "height": 1000
        },
        "id": "NUveRpdPAIAq",
        "outputId": "eb1abd44-fe93-4c0d-d3d6-3c511166babc"
      },
      "source": [
        "list_of_columns = df.describe().columns\n",
        "\n",
        "plt.figure(figsize=(18,12))\n",
        "n = 1\n",
        "for column in list_of_columns:\n",
        "  plt.subplot(3,4,n)\n",
        "  n = n+1\n",
        "  sns.boxplot(df[column], color= 'Red')\n",
        "plt.show()"
      ],
      "execution_count": 189,
      "outputs": [
        {
          "output_type": "stream",
          "name": "stderr",
          "text": [
            "/usr/local/lib/python3.7/dist-packages/seaborn/_decorators.py:43: FutureWarning: Pass the following variable as a keyword arg: x. From version 0.12, the only valid positional argument will be `data`, and passing other arguments without an explicit keyword will result in an error or misinterpretation.\n",
            "  FutureWarning\n",
            "/usr/local/lib/python3.7/dist-packages/seaborn/_decorators.py:43: FutureWarning: Pass the following variable as a keyword arg: x. From version 0.12, the only valid positional argument will be `data`, and passing other arguments without an explicit keyword will result in an error or misinterpretation.\n",
            "  FutureWarning\n",
            "/usr/local/lib/python3.7/dist-packages/seaborn/_decorators.py:43: FutureWarning: Pass the following variable as a keyword arg: x. From version 0.12, the only valid positional argument will be `data`, and passing other arguments without an explicit keyword will result in an error or misinterpretation.\n",
            "  FutureWarning\n",
            "/usr/local/lib/python3.7/dist-packages/seaborn/_decorators.py:43: FutureWarning: Pass the following variable as a keyword arg: x. From version 0.12, the only valid positional argument will be `data`, and passing other arguments without an explicit keyword will result in an error or misinterpretation.\n",
            "  FutureWarning\n",
            "/usr/local/lib/python3.7/dist-packages/seaborn/_decorators.py:43: FutureWarning: Pass the following variable as a keyword arg: x. From version 0.12, the only valid positional argument will be `data`, and passing other arguments without an explicit keyword will result in an error or misinterpretation.\n",
            "  FutureWarning\n",
            "/usr/local/lib/python3.7/dist-packages/seaborn/_decorators.py:43: FutureWarning: Pass the following variable as a keyword arg: x. From version 0.12, the only valid positional argument will be `data`, and passing other arguments without an explicit keyword will result in an error or misinterpretation.\n",
            "  FutureWarning\n",
            "/usr/local/lib/python3.7/dist-packages/seaborn/_decorators.py:43: FutureWarning: Pass the following variable as a keyword arg: x. From version 0.12, the only valid positional argument will be `data`, and passing other arguments without an explicit keyword will result in an error or misinterpretation.\n",
            "  FutureWarning\n",
            "/usr/local/lib/python3.7/dist-packages/seaborn/_decorators.py:43: FutureWarning: Pass the following variable as a keyword arg: x. From version 0.12, the only valid positional argument will be `data`, and passing other arguments without an explicit keyword will result in an error or misinterpretation.\n",
            "  FutureWarning\n",
            "/usr/local/lib/python3.7/dist-packages/seaborn/_decorators.py:43: FutureWarning: Pass the following variable as a keyword arg: x. From version 0.12, the only valid positional argument will be `data`, and passing other arguments without an explicit keyword will result in an error or misinterpretation.\n",
            "  FutureWarning\n",
            "/usr/local/lib/python3.7/dist-packages/seaborn/_decorators.py:43: FutureWarning: Pass the following variable as a keyword arg: x. From version 0.12, the only valid positional argument will be `data`, and passing other arguments without an explicit keyword will result in an error or misinterpretation.\n",
            "  FutureWarning\n"
          ]
        },
        {
          "output_type": "display_data",
          "data": {
            "image/png": "[encoded data removed]",
            "text/plain": [
              "<Figure size 1296x864 with 10 Axes>"
            ]
          },
          "metadata": {
            "needs_background": "light"
          }
        }
      ]
    },
    {
      "cell_type": "code",
      "metadata": {
        "colab": {
          "base_uri": "https://localhost:8080/"
        },
        "id": "n5n_-dMgcUXb",
        "outputId": "37e607e9-82a5-4e3f-8589-9edbfc60ebf7"
      },
      "source": [
        "# lets handle these outliers \n",
        "df['passenger_count'].value_counts()"
      ],
      "execution_count": 190,
      "outputs": [
        {
          "output_type": "execute_result",
          "data": {
            "text/plain": [
              "1    1033540\n",
              "2     210318\n",
              "5      78088\n",
              "3      59896\n",
              "6      48333\n",
              "4      28404\n",
              "7          3\n",
              "9          1\n",
              "8          1\n",
              "Name: passenger_count, dtype: int64"
            ]
          },
          "metadata": {},
          "execution_count": 190
        }
      ]
    },
    {
      "cell_type": "code",
      "metadata": {
        "colab": {
          "base_uri": "https://localhost:8080/",
          "height": 308
        },
        "id": "vSOpFjW2fYLW",
        "outputId": "09e6c50b-391f-44fd-9efc-71d196ca0fd1"
      },
      "source": [
        "sns.countplot(x='passenger_count' , data=df)"
      ],
      "execution_count": 191,
      "outputs": [
        {
          "output_type": "execute_result",
          "data": {
            "text/plain": [
              "<matplotlib.axes._subplots.AxesSubplot at 0x7f40188ed250>"
            ]
          },
          "metadata": {},
          "execution_count": 191
        },
        {
          "output_type": "display_data",
          "data": {
            "image/png": "[encoded data removed]",
            "text/plain": [
              "<Figure size 432x288 with 1 Axes>"
            ]
          },
          "metadata": {
            "needs_background": "light"
          }
        }
      ]
    },
    {
      "cell_type": "markdown",
      "metadata": {
        "id": "642EhzWyTb7g"
      },
      "source": [
        "As we can see maximum passengers lie in range of 1 to 4 so rest are outliers\n",
        "\n",
        "* So we will handle the outliers using IQR \n",
        "* IQR = Q3-Q1\n",
        "* where Q3 is quartile 3 ie 75% and quartile 1 is 25% \n",
        "* Which is also called as upper limit and lower limit "
      ]
    },
    {
      "cell_type": "code",
      "metadata": {
        "colab": {
          "base_uri": "https://localhost:8080/"
        },
        "id": "JNXct2PQ9ATj",
        "outputId": "901a0abc-46e2-4607-b72a-372d88f32082"
      },
      "source": [
        "# for passengers count\n",
        "Q1_passenger = np.percentile(df['passenger_count'] , 25)\n",
        "print(Q1_passenger)\n",
        "Q2_passenger = np.percentile(df['passenger_count'],50)\n",
        "print(Q2_passenger)\n",
        "Q3_passenger = np.percentile(df['passenger_count'],80)\n",
        "print(Q3_passenger)"
      ],
      "execution_count": 196,
      "outputs": [
        {
          "output_type": "stream",
          "name": "stdout",
          "text": [
            "1.0\n",
            "1.0\n",
            "2.0\n"
          ]
        }
      ]
    },
    {
      "cell_type": "markdown",
      "metadata": {
        "id": "O4YbJpg0CrGp"
      },
      "source": [
        "* IQR is Q3-Q1 \n",
        "* Q1 = lower limit = Q1_passenger-1.5*IQR\n",
        "* Q3 = upper limit = Q3_passenger + 1.5*IQR"
      ]
    },
    {
      "cell_type": "code",
      "metadata": {
        "id": "6E9HFAHADjHi"
      },
      "source": [
        "IQR = Q3_passenger- Q1_passenger"
      ],
      "execution_count": 197,
      "outputs": []
    },
    {
      "cell_type": "code",
      "metadata": {
        "id": "_29Kczw5CmsJ"
      },
      "source": [
        "lower_limit_passenger = Q1_passenger - 1.5*IQR\n",
        "upper_limit_passenger = Q3_passenger + 1.5*IQR"
      ],
      "execution_count": 198,
      "outputs": []
    },
    {
      "cell_type": "code",
      "metadata": {
        "colab": {
          "base_uri": "https://localhost:8080/"
        },
        "id": "utb_mQVeDzaE",
        "outputId": "f9e97d78-453c-4a90-d663-158c8913b13f"
      },
      "source": [
        "print(\"Lower limit for passenger is :\" , lower_limit_passenger )\n",
        "print(\"upper limit for passenger is :\" , upper_limit_passenger )"
      ],
      "execution_count": 199,
      "outputs": [
        {
          "output_type": "stream",
          "name": "stdout",
          "text": [
            "Lower limit for passenger is : -0.5\n",
            "upper limit for passenger is : 3.5\n"
          ]
        }
      ]
    },
    {
      "cell_type": "code",
      "metadata": {
        "id": "UQpQYP4-ECE6"
      },
      "source": [
        "df = df[df['passenger_count']> lower_limit_passenger]\n",
        "df = df[df['passenger_count']<upper_limit_passenger]"
      ],
      "execution_count": 44,
      "outputs": []
    },
    {
      "cell_type": "code",
      "metadata": {
        "colab": {
          "base_uri": "https://localhost:8080/"
        },
        "id": "APYYF1jsEo1_",
        "outputId": "f68b0c53-c4bd-43b8-d009-356486e0b88e"
      },
      "source": [
        "df.shape"
      ],
      "execution_count": 45,
      "outputs": [
        {
          "output_type": "execute_result",
          "data": {
            "text/plain": [
              "(1303754, 17)"
            ]
          },
          "metadata": {},
          "execution_count": 45
        }
      ]
    },
    {
      "cell_type": "code",
      "metadata": {
        "colab": {
          "base_uri": "https://localhost:8080/",
          "height": 306
        },
        "id": "oqAKpySoj6JP",
        "outputId": "2a14f8ca-b42c-4e52-ce30-3cff9c7b34a5"
      },
      "source": [
        "df.head()"
      ],
      "execution_count": 46,
      "outputs": [
        {
          "output_type": "execute_result",
          "data": {
            "text/html": [
              "<div>\n",
              "<style scoped>\n",
              "    .dataframe tbody tr th:only-of-type {\n",
              "        vertical-align: middle;\n",
              "    }\n",
              "\n",
              "    .dataframe tbody tr th {\n",
              "        vertical-align: top;\n",
              "    }\n",
              "\n",
              "    .dataframe thead th {\n",
              "        text-align: right;\n",
              "    }\n",
              "</style>\n",
              "<table border=\"1\" class=\"dataframe\">\n",
              "  <thead>\n",
              "    <tr style=\"text-align: right;\">\n",
              "      <th></th>\n",
              "      <th>id</th>\n",
              "      <th>vendor_id</th>\n",
              "      <th>pickup_datetime</th>\n",
              "      <th>dropoff_datetime</th>\n",
              "      <th>passenger_count</th>\n",
              "      <th>pickup_longitude</th>\n",
              "      <th>pickup_latitude</th>\n",
              "      <th>dropoff_longitude</th>\n",
              "      <th>dropoff_latitude</th>\n",
              "      <th>store_and_fwd_flag</th>\n",
              "      <th>trip_duration</th>\n",
              "      <th>pick_day</th>\n",
              "      <th>drop_day</th>\n",
              "      <th>pickup_hour</th>\n",
              "      <th>drop_hour</th>\n",
              "      <th>time_zone</th>\n",
              "      <th>distance</th>\n",
              "    </tr>\n",
              "  </thead>\n",
              "  <tbody>\n",
              "    <tr>\n",
              "      <th>0</th>\n",
              "      <td>id2875421</td>\n",
              "      <td>2</td>\n",
              "      <td>2016-03-14 17:24:55</td>\n",
              "      <td>2016-03-14 17:32:30</td>\n",
              "      <td>1</td>\n",
              "      <td>-73.982155</td>\n",
              "      <td>40.767937</td>\n",
              "      <td>-73.964630</td>\n",
              "      <td>40.765602</td>\n",
              "      <td>N</td>\n",
              "      <td>455</td>\n",
              "      <td>Monday</td>\n",
              "      <td>Monday</td>\n",
              "      <td>17</td>\n",
              "      <td>17</td>\n",
              "      <td>evening</td>\n",
              "      <td>1.498991</td>\n",
              "    </tr>\n",
              "    <tr>\n",
              "      <th>1</th>\n",
              "      <td>id2377394</td>\n",
              "      <td>1</td>\n",
              "      <td>2016-06-12 00:43:35</td>\n",
              "      <td>2016-06-12 00:54:38</td>\n",
              "      <td>1</td>\n",
              "      <td>-73.980415</td>\n",
              "      <td>40.738564</td>\n",
              "      <td>-73.999481</td>\n",
              "      <td>40.731152</td>\n",
              "      <td>N</td>\n",
              "      <td>663</td>\n",
              "      <td>Sunday</td>\n",
              "      <td>Sunday</td>\n",
              "      <td>0</td>\n",
              "      <td>0</td>\n",
              "      <td>late_night</td>\n",
              "      <td>1.806074</td>\n",
              "    </tr>\n",
              "    <tr>\n",
              "      <th>2</th>\n",
              "      <td>id3858529</td>\n",
              "      <td>2</td>\n",
              "      <td>2016-01-19 11:35:24</td>\n",
              "      <td>2016-01-19 12:10:48</td>\n",
              "      <td>1</td>\n",
              "      <td>-73.979027</td>\n",
              "      <td>40.763939</td>\n",
              "      <td>-74.005333</td>\n",
              "      <td>40.710087</td>\n",
              "      <td>N</td>\n",
              "      <td>2124</td>\n",
              "      <td>Tuesday</td>\n",
              "      <td>Tuesday</td>\n",
              "      <td>11</td>\n",
              "      <td>12</td>\n",
              "      <td>morning</td>\n",
              "      <td>6.387103</td>\n",
              "    </tr>\n",
              "    <tr>\n",
              "      <th>3</th>\n",
              "      <td>id3504673</td>\n",
              "      <td>2</td>\n",
              "      <td>2016-04-06 19:32:31</td>\n",
              "      <td>2016-04-06 19:39:40</td>\n",
              "      <td>1</td>\n",
              "      <td>-74.010040</td>\n",
              "      <td>40.719971</td>\n",
              "      <td>-74.012268</td>\n",
              "      <td>40.706718</td>\n",
              "      <td>N</td>\n",
              "      <td>429</td>\n",
              "      <td>Wednesday</td>\n",
              "      <td>Wednesday</td>\n",
              "      <td>19</td>\n",
              "      <td>19</td>\n",
              "      <td>evening</td>\n",
              "      <td>1.485965</td>\n",
              "    </tr>\n",
              "    <tr>\n",
              "      <th>4</th>\n",
              "      <td>id2181028</td>\n",
              "      <td>2</td>\n",
              "      <td>2016-03-26 13:30:55</td>\n",
              "      <td>2016-03-26 13:38:10</td>\n",
              "      <td>1</td>\n",
              "      <td>-73.973053</td>\n",
              "      <td>40.793209</td>\n",
              "      <td>-73.972923</td>\n",
              "      <td>40.782520</td>\n",
              "      <td>N</td>\n",
              "      <td>435</td>\n",
              "      <td>Saturday</td>\n",
              "      <td>Saturday</td>\n",
              "      <td>13</td>\n",
              "      <td>13</td>\n",
              "      <td>afternoon</td>\n",
              "      <td>1.188962</td>\n",
              "    </tr>\n",
              "  </tbody>\n",
              "</table>\n",
              "</div>"
            ],
            "text/plain": [
              "          id  vendor_id     pickup_datetime  ... drop_hour   time_zone  distance\n",
              "0  id2875421          2 2016-03-14 17:24:55  ...        17     evening  1.498991\n",
              "1  id2377394          1 2016-06-12 00:43:35  ...         0  late_night  1.806074\n",
              "2  id3858529          2 2016-01-19 11:35:24  ...        12     morning  6.387103\n",
              "3  id3504673          2 2016-04-06 19:32:31  ...        19     evening  1.485965\n",
              "4  id2181028          2 2016-03-26 13:30:55  ...        13   afternoon  1.188962\n",
              "\n",
              "[5 rows x 17 columns]"
            ]
          },
          "metadata": {},
          "execution_count": 46
        }
      ]
    },
    {
      "cell_type": "code",
      "metadata": {
        "colab": {
          "base_uri": "https://localhost:8080/",
          "height": 388
        },
        "id": "qBMjjPYCisJm",
        "outputId": "f0b88c0c-a2f9-4bc5-c2c1-243fddbd12cf"
      },
      "source": [
        "plt.figure(figsize = (10,5))\n",
        "df.trip_duration.groupby(pd.cut(df.trip_duration, np.arange(1,7200,600))).count().plot(kind='bar')\n",
        "plt.xlabel('Trip Duration (seconds)')\n",
        "plt.ylabel('Trip count')\n",
        "plt.show()"
      ],
      "execution_count": 200,
      "outputs": [
        {
          "output_type": "display_data",
          "data": {
            "image/png": "[encoded data removed]",
            "text/plain": [
              "<Figure size 720x360 with 1 Axes>"
            ]
          },
          "metadata": {
            "needs_background": "light"
          }
        }
      ]
    },
    {
      "cell_type": "markdown",
      "metadata": {
        "id": "tvRTlsV6ky2S"
      },
      "source": [
        "As we can see from this graph maximum trips are completed in 3000 secs"
      ]
    },
    {
      "cell_type": "code",
      "metadata": {
        "colab": {
          "base_uri": "https://localhost:8080/"
        },
        "id": "b25s9fs1GoCj",
        "outputId": "a3f9d7f4-3161-4c29-d5b9-5a7a24068251"
      },
      "source": [
        "# outliers of trip duration\n",
        "Q1_trip_duration = np.percentile(df['trip_duration'],25)\n",
        "print(Q1_trip_duration)\n",
        "Q2_trip_duration = np.percentile(df['trip_duration'],50)\n",
        "print(Q2_trip_duration)\n",
        "Q3_trip_duration = np.percentile(df['trip_duration'],99)\n",
        "print(Q3_trip_duration)"
      ],
      "execution_count": 201,
      "outputs": [
        {
          "output_type": "stream",
          "name": "stdout",
          "text": [
            "397.0\n",
            "662.0\n",
            "3440.0\n"
          ]
        }
      ]
    },
    {
      "cell_type": "code",
      "metadata": {
        "id": "te4PC7nNIGF7"
      },
      "source": [
        "IQR = Q3_trip_duration- Q1_trip_duration\n",
        "lower_limit_trip_duration = Q1_trip_duration - 1.5*IQR\n",
        "upper_limit_trip_duration = Q3_trip_duration + 1.5*IQR"
      ],
      "execution_count": 202,
      "outputs": []
    },
    {
      "cell_type": "code",
      "metadata": {
        "colab": {
          "base_uri": "https://localhost:8080/"
        },
        "id": "I-L33At3IGDK",
        "outputId": "f23b5355-7a93-4a20-f14e-7010612eb626"
      },
      "source": [
        "print(\"lower limit for trip_duration  :\",lower_limit_trip_duration)\n",
        "print(\"Upper limit for trip_duration  :\",upper_limit_trip_duration)"
      ],
      "execution_count": 203,
      "outputs": [
        {
          "output_type": "stream",
          "name": "stdout",
          "text": [
            "lower limit for trip_duration  : -4167.5\n",
            "Upper limit for trip_duration  : 8004.5\n"
          ]
        }
      ]
    },
    {
      "cell_type": "markdown",
      "metadata": {
        "id": "h-vpwGX5BmeC"
      },
      "source": [
        "* Here we can see that 99% of the values lie around 8000 secs and when we take 100% value it is in lakhs which is clearly an outlier so we will take a range of 99%"
      ]
    },
    {
      "cell_type": "code",
      "metadata": {
        "colab": {
          "base_uri": "https://localhost:8080/"
        },
        "id": "NbNSvdGvYTmt",
        "outputId": "2f312ae4-8e9d-4b7c-f808-b66b1c2b10c1"
      },
      "source": [
        "# outliers of distance \n",
        "\n",
        "Q1_distance = np.percentile(df['distance'],25)\n",
        "print(Q1_distance)\n",
        "Q2_distance = np.percentile(df['distance'],50)\n",
        "print(Q2_distance)\n",
        "Q3_distance = np.percentile(df['distance'],90)\n",
        "print(Q2_distance)"
      ],
      "execution_count": 204,
      "outputs": [
        {
          "output_type": "stream",
          "name": "stdout",
          "text": [
            "1.232295860862315\n",
            "2.0944392378528622\n",
            "2.0944392378528622\n"
          ]
        }
      ]
    },
    {
      "cell_type": "code",
      "metadata": {
        "id": "7H6GZb2Gwnw2"
      },
      "source": [
        ""
      ],
      "execution_count": 164,
      "outputs": []
    },
    {
      "cell_type": "code",
      "metadata": {
        "id": "WkOgoQsiDs1n"
      },
      "source": [
        "IQR = Q3_distance - Q1_distance\n",
        "lower_limit_distance = Q1_distance - 1.5*IQR\n",
        "upper_limit_distance = Q3_distance + 1.5*IQR"
      ],
      "execution_count": 205,
      "outputs": []
    },
    {
      "cell_type": "code",
      "metadata": {
        "colab": {
          "base_uri": "https://localhost:8080/"
        },
        "id": "nEDVCspKFigW",
        "outputId": "a8817f35-e402-4595-ce9e-71ba9b4fe81d"
      },
      "source": [
        "\n",
        "print(\"lower limit for outlier  :\",lower_limit_distance)\n",
        "print(\"Upper limit for outlier  :\",upper_limit_distance)"
      ],
      "execution_count": 206,
      "outputs": [
        {
          "output_type": "stream",
          "name": "stdout",
          "text": [
            "lower limit for outlier  : -8.3693017037724\n",
            "Upper limit for outlier  : 17.23495846858684\n"
          ]
        }
      ]
    },
    {
      "cell_type": "markdown",
      "metadata": {
        "id": "zKbOjCACFw46"
      },
      "source": [
        "*** Here we handeled the necessary outliers"
      ]
    },
    {
      "cell_type": "code",
      "metadata": {
        "colab": {
          "base_uri": "https://localhost:8080/",
          "height": 222
        },
        "id": "j0ZBY7BHFqkN",
        "outputId": "ea6a0c52-76f0-4674-be22-6b938491e505"
      },
      "source": [
        "df.head()"
      ],
      "execution_count": 131,
      "outputs": [
        {
          "output_type": "execute_result",
          "data": {
            "text/html": [
              "<div>\n",
              "<style scoped>\n",
              "    .dataframe tbody tr th:only-of-type {\n",
              "        vertical-align: middle;\n",
              "    }\n",
              "\n",
              "    .dataframe tbody tr th {\n",
              "        vertical-align: top;\n",
              "    }\n",
              "\n",
              "    .dataframe thead th {\n",
              "        text-align: right;\n",
              "    }\n",
              "</style>\n",
              "<table border=\"1\" class=\"dataframe\">\n",
              "  <thead>\n",
              "    <tr style=\"text-align: right;\">\n",
              "      <th></th>\n",
              "      <th>vendor_id</th>\n",
              "      <th>passenger_count</th>\n",
              "      <th>trip_duration</th>\n",
              "      <th>pickup_hour</th>\n",
              "      <th>distance</th>\n",
              "      <th>pick_day_Monday</th>\n",
              "      <th>pick_day_Saturday</th>\n",
              "      <th>pick_day_Sunday</th>\n",
              "      <th>pick_day_Thursday</th>\n",
              "      <th>pick_day_Tuesday</th>\n",
              "      <th>pick_day_Wednesday</th>\n",
              "    </tr>\n",
              "  </thead>\n",
              "  <tbody>\n",
              "    <tr>\n",
              "      <th>0</th>\n",
              "      <td>2</td>\n",
              "      <td>1</td>\n",
              "      <td>455</td>\n",
              "      <td>17</td>\n",
              "      <td>1.498991</td>\n",
              "      <td>1</td>\n",
              "      <td>0</td>\n",
              "      <td>0</td>\n",
              "      <td>0</td>\n",
              "      <td>0</td>\n",
              "      <td>0</td>\n",
              "    </tr>\n",
              "    <tr>\n",
              "      <th>1</th>\n",
              "      <td>1</td>\n",
              "      <td>1</td>\n",
              "      <td>663</td>\n",
              "      <td>0</td>\n",
              "      <td>1.806074</td>\n",
              "      <td>0</td>\n",
              "      <td>0</td>\n",
              "      <td>1</td>\n",
              "      <td>0</td>\n",
              "      <td>0</td>\n",
              "      <td>0</td>\n",
              "    </tr>\n",
              "    <tr>\n",
              "      <th>2</th>\n",
              "      <td>2</td>\n",
              "      <td>1</td>\n",
              "      <td>2124</td>\n",
              "      <td>11</td>\n",
              "      <td>6.387103</td>\n",
              "      <td>0</td>\n",
              "      <td>0</td>\n",
              "      <td>0</td>\n",
              "      <td>0</td>\n",
              "      <td>1</td>\n",
              "      <td>0</td>\n",
              "    </tr>\n",
              "    <tr>\n",
              "      <th>3</th>\n",
              "      <td>2</td>\n",
              "      <td>1</td>\n",
              "      <td>429</td>\n",
              "      <td>19</td>\n",
              "      <td>1.485965</td>\n",
              "      <td>0</td>\n",
              "      <td>0</td>\n",
              "      <td>0</td>\n",
              "      <td>0</td>\n",
              "      <td>0</td>\n",
              "      <td>1</td>\n",
              "    </tr>\n",
              "    <tr>\n",
              "      <th>4</th>\n",
              "      <td>2</td>\n",
              "      <td>1</td>\n",
              "      <td>435</td>\n",
              "      <td>13</td>\n",
              "      <td>1.188962</td>\n",
              "      <td>0</td>\n",
              "      <td>1</td>\n",
              "      <td>0</td>\n",
              "      <td>0</td>\n",
              "      <td>0</td>\n",
              "      <td>0</td>\n",
              "    </tr>\n",
              "  </tbody>\n",
              "</table>\n",
              "</div>"
            ],
            "text/plain": [
              "   vendor_id  passenger_count  ...  pick_day_Tuesday  pick_day_Wednesday\n",
              "0          2                1  ...                 0                   0\n",
              "1          1                1  ...                 0                   0\n",
              "2          2                1  ...                 1                   0\n",
              "3          2                1  ...                 0                   1\n",
              "4          2                1  ...                 0                   0\n",
              "\n",
              "[5 rows x 11 columns]"
            ]
          },
          "metadata": {},
          "execution_count": 131
        }
      ]
    },
    {
      "cell_type": "code",
      "metadata": {
        "id": "ght6tc1BGmyA"
      },
      "source": [
        "# we will convert trip duration from secs to hours \n",
        "df['trip_duration_hour'] = df['trip_duration']/3600"
      ],
      "execution_count": 207,
      "outputs": []
    },
    {
      "cell_type": "code",
      "metadata": {
        "colab": {
          "base_uri": "https://localhost:8080/",
          "height": 306
        },
        "id": "Cv_QA23lIGpJ",
        "outputId": "438f4d72-a4ec-4605-f798-8a135dcbd6b1"
      },
      "source": [
        "df.head()"
      ],
      "execution_count": 208,
      "outputs": [
        {
          "output_type": "execute_result",
          "data": {
            "text/html": [
              "<div>\n",
              "<style scoped>\n",
              "    .dataframe tbody tr th:only-of-type {\n",
              "        vertical-align: middle;\n",
              "    }\n",
              "\n",
              "    .dataframe tbody tr th {\n",
              "        vertical-align: top;\n",
              "    }\n",
              "\n",
              "    .dataframe thead th {\n",
              "        text-align: right;\n",
              "    }\n",
              "</style>\n",
              "<table border=\"1\" class=\"dataframe\">\n",
              "  <thead>\n",
              "    <tr style=\"text-align: right;\">\n",
              "      <th></th>\n",
              "      <th>id</th>\n",
              "      <th>vendor_id</th>\n",
              "      <th>pickup_datetime</th>\n",
              "      <th>dropoff_datetime</th>\n",
              "      <th>passenger_count</th>\n",
              "      <th>pickup_longitude</th>\n",
              "      <th>pickup_latitude</th>\n",
              "      <th>dropoff_longitude</th>\n",
              "      <th>dropoff_latitude</th>\n",
              "      <th>store_and_fwd_flag</th>\n",
              "      <th>trip_duration</th>\n",
              "      <th>pick_day</th>\n",
              "      <th>drop_day</th>\n",
              "      <th>pickup_hour</th>\n",
              "      <th>drop_hour</th>\n",
              "      <th>time_zone</th>\n",
              "      <th>distance</th>\n",
              "      <th>trip_duration_hour</th>\n",
              "    </tr>\n",
              "  </thead>\n",
              "  <tbody>\n",
              "    <tr>\n",
              "      <th>0</th>\n",
              "      <td>id2875421</td>\n",
              "      <td>2</td>\n",
              "      <td>2016-03-14 17:24:55</td>\n",
              "      <td>2016-03-14 17:32:30</td>\n",
              "      <td>1</td>\n",
              "      <td>-73.982155</td>\n",
              "      <td>40.767937</td>\n",
              "      <td>-73.964630</td>\n",
              "      <td>40.765602</td>\n",
              "      <td>N</td>\n",
              "      <td>455</td>\n",
              "      <td>Monday</td>\n",
              "      <td>Monday</td>\n",
              "      <td>17</td>\n",
              "      <td>17</td>\n",
              "      <td>evening</td>\n",
              "      <td>1.498991</td>\n",
              "      <td>0.126389</td>\n",
              "    </tr>\n",
              "    <tr>\n",
              "      <th>1</th>\n",
              "      <td>id2377394</td>\n",
              "      <td>1</td>\n",
              "      <td>2016-06-12 00:43:35</td>\n",
              "      <td>2016-06-12 00:54:38</td>\n",
              "      <td>1</td>\n",
              "      <td>-73.980415</td>\n",
              "      <td>40.738564</td>\n",
              "      <td>-73.999481</td>\n",
              "      <td>40.731152</td>\n",
              "      <td>N</td>\n",
              "      <td>663</td>\n",
              "      <td>Sunday</td>\n",
              "      <td>Sunday</td>\n",
              "      <td>0</td>\n",
              "      <td>0</td>\n",
              "      <td>late_night</td>\n",
              "      <td>1.806074</td>\n",
              "      <td>0.184167</td>\n",
              "    </tr>\n",
              "    <tr>\n",
              "      <th>2</th>\n",
              "      <td>id3858529</td>\n",
              "      <td>2</td>\n",
              "      <td>2016-01-19 11:35:24</td>\n",
              "      <td>2016-01-19 12:10:48</td>\n",
              "      <td>1</td>\n",
              "      <td>-73.979027</td>\n",
              "      <td>40.763939</td>\n",
              "      <td>-74.005333</td>\n",
              "      <td>40.710087</td>\n",
              "      <td>N</td>\n",
              "      <td>2124</td>\n",
              "      <td>Tuesday</td>\n",
              "      <td>Tuesday</td>\n",
              "      <td>11</td>\n",
              "      <td>12</td>\n",
              "      <td>morning</td>\n",
              "      <td>6.387103</td>\n",
              "      <td>0.590000</td>\n",
              "    </tr>\n",
              "    <tr>\n",
              "      <th>3</th>\n",
              "      <td>id3504673</td>\n",
              "      <td>2</td>\n",
              "      <td>2016-04-06 19:32:31</td>\n",
              "      <td>2016-04-06 19:39:40</td>\n",
              "      <td>1</td>\n",
              "      <td>-74.010040</td>\n",
              "      <td>40.719971</td>\n",
              "      <td>-74.012268</td>\n",
              "      <td>40.706718</td>\n",
              "      <td>N</td>\n",
              "      <td>429</td>\n",
              "      <td>Wednesday</td>\n",
              "      <td>Wednesday</td>\n",
              "      <td>19</td>\n",
              "      <td>19</td>\n",
              "      <td>evening</td>\n",
              "      <td>1.485965</td>\n",
              "      <td>0.119167</td>\n",
              "    </tr>\n",
              "    <tr>\n",
              "      <th>4</th>\n",
              "      <td>id2181028</td>\n",
              "      <td>2</td>\n",
              "      <td>2016-03-26 13:30:55</td>\n",
              "      <td>2016-03-26 13:38:10</td>\n",
              "      <td>1</td>\n",
              "      <td>-73.973053</td>\n",
              "      <td>40.793209</td>\n",
              "      <td>-73.972923</td>\n",
              "      <td>40.782520</td>\n",
              "      <td>N</td>\n",
              "      <td>435</td>\n",
              "      <td>Saturday</td>\n",
              "      <td>Saturday</td>\n",
              "      <td>13</td>\n",
              "      <td>13</td>\n",
              "      <td>afternoon</td>\n",
              "      <td>1.188962</td>\n",
              "      <td>0.120833</td>\n",
              "    </tr>\n",
              "  </tbody>\n",
              "</table>\n",
              "</div>"
            ],
            "text/plain": [
              "          id  vendor_id  ...  distance trip_duration_hour\n",
              "0  id2875421          2  ...  1.498991           0.126389\n",
              "1  id2377394          1  ...  1.806074           0.184167\n",
              "2  id3858529          2  ...  6.387103           0.590000\n",
              "3  id3504673          2  ...  1.485965           0.119167\n",
              "4  id2181028          2  ...  1.188962           0.120833\n",
              "\n",
              "[5 rows x 18 columns]"
            ]
          },
          "metadata": {},
          "execution_count": 208
        }
      ]
    },
    {
      "cell_type": "code",
      "metadata": {
        "colab": {
          "base_uri": "https://localhost:8080/",
          "height": 398
        },
        "id": "u2o4OsiJHvCg",
        "outputId": "318e6d41-f96a-40d9-ec17-c290bec2a37c"
      },
      "source": [
        "# 1st we will look at dependent variable \n",
        "\n",
        "plt.figure(figsize = (10,5))\n",
        "sns.distplot(df['trip_duration'])\n",
        "plt.xlabel('Trip Duration')\n",
        "\n",
        "plt.show()"
      ],
      "execution_count": 262,
      "outputs": [
        {
          "output_type": "stream",
          "name": "stderr",
          "text": [
            "/usr/local/lib/python3.7/dist-packages/seaborn/distributions.py:2557: FutureWarning: `distplot` is a deprecated function and will be removed in a future version. Please adapt your code to use either `displot` (a figure-level function with similar flexibility) or `histplot` (an axes-level function for histograms).\n",
            "  warnings.warn(msg, FutureWarning)\n"
          ]
        },
        {
          "output_type": "display_data",
          "data": {
            "image/png": "[encoded data removed]",
            "text/plain": [
              "<Figure size 720x360 with 1 Axes>"
            ]
          },
          "metadata": {
            "needs_background": "light"
          }
        }
      ]
    },
    {
      "cell_type": "markdown",
      "metadata": {
        "id": "Is7O5HhPuHdw"
      },
      "source": [
        "As we can see it id highly right skewed by applying logrethmic transformation it will be normalised"
      ]
    },
    {
      "cell_type": "code",
      "metadata": {
        "colab": {
          "base_uri": "https://localhost:8080/",
          "height": 389
        },
        "id": "m6OBZl3YHvAw",
        "outputId": "f902f4c2-0f18-492b-90bb-726d10e7f142"
      },
      "source": [
        "plt.figure(figsize=(10,5))\n",
        "sns.distplot(np.log10(df['trip_duration']))\n",
        "plt.xlabel('Trip_Duration')\n",
        "plt.show()"
      ],
      "execution_count": 263,
      "outputs": [
        {
          "output_type": "stream",
          "name": "stderr",
          "text": [
            "/usr/local/lib/python3.7/dist-packages/seaborn/distributions.py:2557: FutureWarning: `distplot` is a deprecated function and will be removed in a future version. Please adapt your code to use either `displot` (a figure-level function with similar flexibility) or `histplot` (an axes-level function for histograms).\n",
            "  warnings.warn(msg, FutureWarning)\n"
          ]
        },
        {
          "output_type": "display_data",
          "data": {
            "image/png": "[encoded data removed]",
            "text/plain": [
              "<Figure size 720x360 with 1 Axes>"
            ]
          },
          "metadata": {
            "needs_background": "light"
          }
        }
      ]
    },
    {
      "cell_type": "code",
      "metadata": {
        "colab": {
          "base_uri": "https://localhost:8080/"
        },
        "id": "HfWAImCdHu9j",
        "outputId": "1c937b59-f863-444a-cf5c-e868b8a261dd"
      },
      "source": [
        "# now we will look into some bivariate analysis taking trip duration into consideration \n",
        "df.columns"
      ],
      "execution_count": 59,
      "outputs": [
        {
          "output_type": "execute_result",
          "data": {
            "text/plain": [
              "Index(['id', 'vendor_id', 'pickup_datetime', 'dropoff_datetime',\n",
              "       'passenger_count', 'pickup_longitude', 'pickup_latitude',\n",
              "       'dropoff_longitude', 'dropoff_latitude', 'store_and_fwd_flag',\n",
              "       'trip_duration', 'pick_day', 'drop_day', 'pickup_hour', 'drop_hour',\n",
              "       'time_zone', 'distance', 'trip_duration_hour'],\n",
              "      dtype='object')"
            ]
          },
          "metadata": {},
          "execution_count": 59
        }
      ]
    },
    {
      "cell_type": "code",
      "metadata": {
        "id": "nvnZqApMHu7_",
        "colab": {
          "base_uri": "https://localhost:8080/",
          "height": 352
        },
        "outputId": "0834b919-0f89-48bd-baf5-1a9cd1b206e6"
      },
      "source": [
        "# 1. how trip duration varied according to vendor id\n",
        "\n",
        "plt.figure(figsize=(10,5))\n",
        "sns.barplot(x ='vendor_id' , y='trip_duration',data=df)"
      ],
      "execution_count": 211,
      "outputs": [
        {
          "output_type": "execute_result",
          "data": {
            "text/plain": [
              "<matplotlib.axes._subplots.AxesSubplot at 0x7f401bb445d0>"
            ]
          },
          "metadata": {},
          "execution_count": 211
        },
        {
          "output_type": "display_data",
          "data": {
            "image/png": "[encoded data removed]",
            "text/plain": [
              "<Figure size 720x360 with 1 Axes>"
            ]
          },
          "metadata": {
            "needs_background": "light"
          }
        }
      ]
    },
    {
      "cell_type": "markdown",
      "metadata": {
        "id": "pjIF5QbxyOIn"
      },
      "source": [
        "Id 2 has longer trip duration"
      ]
    },
    {
      "cell_type": "code",
      "metadata": {
        "colab": {
          "base_uri": "https://localhost:8080/",
          "height": 334
        },
        "id": "eEVvJrzjyTFa",
        "outputId": "9c8f38a0-ed3a-474f-9eb6-178d9cb14ab8"
      },
      "source": [
        "plt.figure(figsize = (10,5))\n",
        "sns.lineplot(x='pickup_hour',y='trip_duration',data=df)\n",
        "plt.xlabel('Time of Pickup (24hr format)')\n",
        "plt.ylabel('Duration (seconds)')\n",
        "plt.show()\n"
      ],
      "execution_count": 61,
      "outputs": [
        {
          "output_type": "display_data",
          "data": {
            "image/png": "[encoded data removed]",
            "text/plain": [
              "<Figure size 720x360 with 1 Axes>"
            ]
          },
          "metadata": {
            "needs_background": "light"
          }
        }
      ]
    },
    {
      "cell_type": "markdown",
      "metadata": {
        "id": "c9WWcbiv8qh5"
      },
      "source": [
        "We can see maximum duration of trips is around 3pm and lowest around morning times\n"
      ]
    },
    {
      "cell_type": "code",
      "metadata": {
        "colab": {
          "base_uri": "https://localhost:8080/",
          "height": 334
        },
        "id": "JiIYbTYH0l-r",
        "outputId": "f248f2db-8ef4-4f49-bb2f-2e0e506e48f7"
      },
      "source": [
        "plt.figure(figsize = (10,5))\n",
        "sns.barplot(x='drop_hour',y='trip_duration',data=df)\n",
        "plt.xlabel('Time of Pickup (24hr format)')\n",
        "plt.ylabel('Duration (seconds)')\n",
        "plt.show()"
      ],
      "execution_count": 62,
      "outputs": [
        {
          "output_type": "display_data",
          "data": {
            "image/png": "[encoded data removed]",
            "text/plain": [
              "<Figure size 720x360 with 1 Axes>"
            ]
          },
          "metadata": {
            "needs_background": "light"
          }
        }
      ]
    },
    {
      "cell_type": "code",
      "metadata": {
        "colab": {
          "base_uri": "https://localhost:8080/",
          "height": 335
        },
        "id": "YVFgcO8Y8Stt",
        "outputId": "cd113086-eb56-4ac6-aa9c-11e4e281d842"
      },
      "source": [
        "# time according to distance\n",
        "plt.figure(figsize = (10,5))\n",
        "sns.lineplot(y='distance',x='pickup_hour',data=df)\n",
        "plt.show()"
      ],
      "execution_count": 63,
      "outputs": [
        {
          "output_type": "display_data",
          "data": {
            "image/png": "[encoded data removed]",
            "text/plain": [
              "<Figure size 720x360 with 1 Axes>"
            ]
          },
          "metadata": {
            "needs_background": "light"
          }
        }
      ]
    },
    {
      "cell_type": "markdown",
      "metadata": {
        "id": "bj9xIUw1A8Xf"
      },
      "source": [
        "Max pickup is in morning hours, and drastically drops in the afternoon time, and gradually increses towards late night"
      ]
    },
    {
      "cell_type": "code",
      "metadata": {
        "colab": {
          "base_uri": "https://localhost:8080/"
        },
        "id": "KAFGm8rNSpPB",
        "outputId": "33f8e298-3f01-4018-e81f-c828f4ff68ca"
      },
      "source": [
        "df.columns"
      ],
      "execution_count": 264,
      "outputs": [
        {
          "output_type": "execute_result",
          "data": {
            "text/plain": [
              "Index(['id', 'vendor_id', 'pickup_datetime', 'dropoff_datetime',\n",
              "       'passenger_count', 'pickup_longitude', 'pickup_latitude',\n",
              "       'dropoff_longitude', 'dropoff_latitude', 'store_and_fwd_flag',\n",
              "       'trip_duration', 'pick_day', 'drop_day', 'pickup_hour', 'drop_hour',\n",
              "       'time_zone', 'distance'],\n",
              "      dtype='object')"
            ]
          },
          "metadata": {},
          "execution_count": 264
        }
      ]
    },
    {
      "cell_type": "code",
      "metadata": {
        "id": "59IbDNw9BXLK"
      },
      "source": [
        "# Feature engineering \n",
        "\n",
        "df = pd.get_dummies(df,columns=['pick_day'],  drop_first=True)"
      ],
      "execution_count": 265,
      "outputs": []
    },
    {
      "cell_type": "code",
      "metadata": {
        "colab": {
          "base_uri": "https://localhost:8080/",
          "height": 306
        },
        "id": "zJvQiajbS86e",
        "outputId": "09eeb3ee-065f-493b-d02b-49f62ac9cf9f"
      },
      "source": [
        "df.head()"
      ],
      "execution_count": 213,
      "outputs": [
        {
          "output_type": "execute_result",
          "data": {
            "text/html": [
              "<div>\n",
              "<style scoped>\n",
              "    .dataframe tbody tr th:only-of-type {\n",
              "        vertical-align: middle;\n",
              "    }\n",
              "\n",
              "    .dataframe tbody tr th {\n",
              "        vertical-align: top;\n",
              "    }\n",
              "\n",
              "    .dataframe thead th {\n",
              "        text-align: right;\n",
              "    }\n",
              "</style>\n",
              "<table border=\"1\" class=\"dataframe\">\n",
              "  <thead>\n",
              "    <tr style=\"text-align: right;\">\n",
              "      <th></th>\n",
              "      <th>id</th>\n",
              "      <th>vendor_id</th>\n",
              "      <th>pickup_datetime</th>\n",
              "      <th>dropoff_datetime</th>\n",
              "      <th>passenger_count</th>\n",
              "      <th>pickup_longitude</th>\n",
              "      <th>pickup_latitude</th>\n",
              "      <th>dropoff_longitude</th>\n",
              "      <th>dropoff_latitude</th>\n",
              "      <th>store_and_fwd_flag</th>\n",
              "      <th>trip_duration</th>\n",
              "      <th>drop_day</th>\n",
              "      <th>pickup_hour</th>\n",
              "      <th>drop_hour</th>\n",
              "      <th>time_zone</th>\n",
              "      <th>distance</th>\n",
              "      <th>trip_duration_hour</th>\n",
              "      <th>pick_day_Monday</th>\n",
              "      <th>pick_day_Saturday</th>\n",
              "      <th>pick_day_Sunday</th>\n",
              "      <th>pick_day_Thursday</th>\n",
              "      <th>pick_day_Tuesday</th>\n",
              "      <th>pick_day_Wednesday</th>\n",
              "    </tr>\n",
              "  </thead>\n",
              "  <tbody>\n",
              "    <tr>\n",
              "      <th>0</th>\n",
              "      <td>id2875421</td>\n",
              "      <td>2</td>\n",
              "      <td>2016-03-14 17:24:55</td>\n",
              "      <td>2016-03-14 17:32:30</td>\n",
              "      <td>1</td>\n",
              "      <td>-73.982155</td>\n",
              "      <td>40.767937</td>\n",
              "      <td>-73.964630</td>\n",
              "      <td>40.765602</td>\n",
              "      <td>N</td>\n",
              "      <td>455</td>\n",
              "      <td>Monday</td>\n",
              "      <td>17</td>\n",
              "      <td>17</td>\n",
              "      <td>evening</td>\n",
              "      <td>1.498991</td>\n",
              "      <td>0.126389</td>\n",
              "      <td>1</td>\n",
              "      <td>0</td>\n",
              "      <td>0</td>\n",
              "      <td>0</td>\n",
              "      <td>0</td>\n",
              "      <td>0</td>\n",
              "    </tr>\n",
              "    <tr>\n",
              "      <th>1</th>\n",
              "      <td>id2377394</td>\n",
              "      <td>1</td>\n",
              "      <td>2016-06-12 00:43:35</td>\n",
              "      <td>2016-06-12 00:54:38</td>\n",
              "      <td>1</td>\n",
              "      <td>-73.980415</td>\n",
              "      <td>40.738564</td>\n",
              "      <td>-73.999481</td>\n",
              "      <td>40.731152</td>\n",
              "      <td>N</td>\n",
              "      <td>663</td>\n",
              "      <td>Sunday</td>\n",
              "      <td>0</td>\n",
              "      <td>0</td>\n",
              "      <td>late_night</td>\n",
              "      <td>1.806074</td>\n",
              "      <td>0.184167</td>\n",
              "      <td>0</td>\n",
              "      <td>0</td>\n",
              "      <td>1</td>\n",
              "      <td>0</td>\n",
              "      <td>0</td>\n",
              "      <td>0</td>\n",
              "    </tr>\n",
              "    <tr>\n",
              "      <th>2</th>\n",
              "      <td>id3858529</td>\n",
              "      <td>2</td>\n",
              "      <td>2016-01-19 11:35:24</td>\n",
              "      <td>2016-01-19 12:10:48</td>\n",
              "      <td>1</td>\n",
              "      <td>-73.979027</td>\n",
              "      <td>40.763939</td>\n",
              "      <td>-74.005333</td>\n",
              "      <td>40.710087</td>\n",
              "      <td>N</td>\n",
              "      <td>2124</td>\n",
              "      <td>Tuesday</td>\n",
              "      <td>11</td>\n",
              "      <td>12</td>\n",
              "      <td>morning</td>\n",
              "      <td>6.387103</td>\n",
              "      <td>0.590000</td>\n",
              "      <td>0</td>\n",
              "      <td>0</td>\n",
              "      <td>0</td>\n",
              "      <td>0</td>\n",
              "      <td>1</td>\n",
              "      <td>0</td>\n",
              "    </tr>\n",
              "    <tr>\n",
              "      <th>3</th>\n",
              "      <td>id3504673</td>\n",
              "      <td>2</td>\n",
              "      <td>2016-04-06 19:32:31</td>\n",
              "      <td>2016-04-06 19:39:40</td>\n",
              "      <td>1</td>\n",
              "      <td>-74.010040</td>\n",
              "      <td>40.719971</td>\n",
              "      <td>-74.012268</td>\n",
              "      <td>40.706718</td>\n",
              "      <td>N</td>\n",
              "      <td>429</td>\n",
              "      <td>Wednesday</td>\n",
              "      <td>19</td>\n",
              "      <td>19</td>\n",
              "      <td>evening</td>\n",
              "      <td>1.485965</td>\n",
              "      <td>0.119167</td>\n",
              "      <td>0</td>\n",
              "      <td>0</td>\n",
              "      <td>0</td>\n",
              "      <td>0</td>\n",
              "      <td>0</td>\n",
              "      <td>1</td>\n",
              "    </tr>\n",
              "    <tr>\n",
              "      <th>4</th>\n",
              "      <td>id2181028</td>\n",
              "      <td>2</td>\n",
              "      <td>2016-03-26 13:30:55</td>\n",
              "      <td>2016-03-26 13:38:10</td>\n",
              "      <td>1</td>\n",
              "      <td>-73.973053</td>\n",
              "      <td>40.793209</td>\n",
              "      <td>-73.972923</td>\n",
              "      <td>40.782520</td>\n",
              "      <td>N</td>\n",
              "      <td>435</td>\n",
              "      <td>Saturday</td>\n",
              "      <td>13</td>\n",
              "      <td>13</td>\n",
              "      <td>afternoon</td>\n",
              "      <td>1.188962</td>\n",
              "      <td>0.120833</td>\n",
              "      <td>0</td>\n",
              "      <td>1</td>\n",
              "      <td>0</td>\n",
              "      <td>0</td>\n",
              "      <td>0</td>\n",
              "      <td>0</td>\n",
              "    </tr>\n",
              "  </tbody>\n",
              "</table>\n",
              "</div>"
            ],
            "text/plain": [
              "          id  vendor_id  ... pick_day_Tuesday pick_day_Wednesday\n",
              "0  id2875421          2  ...                0                  0\n",
              "1  id2377394          1  ...                0                  0\n",
              "2  id3858529          2  ...                1                  0\n",
              "3  id3504673          2  ...                0                  1\n",
              "4  id2181028          2  ...                0                  0\n",
              "\n",
              "[5 rows x 23 columns]"
            ]
          },
          "metadata": {},
          "execution_count": 213
        }
      ]
    },
    {
      "cell_type": "code",
      "metadata": {
        "id": "g_A_MKQKTCfS"
      },
      "source": [
        "df= df.drop(['id','store_and_fwd_flag','drop_day','time_zone',\n",
        "             'drop_hour','pickup_datetime',\n",
        "             'dropoff_datetime' , 'pickup_longitude','pickup_latitude','dropoff_longitude', 'dropoff_latitude'] , axis=1)"
      ],
      "execution_count": 267,
      "outputs": []
    },
    {
      "cell_type": "code",
      "metadata": {
        "id": "5zDHZzdeWBuh"
      },
      "source": [
        ""
      ],
      "execution_count": 217,
      "outputs": []
    },
    {
      "cell_type": "code",
      "metadata": {
        "colab": {
          "base_uri": "https://localhost:8080/",
          "height": 222
        },
        "id": "5ZNNnO-lZoBS",
        "outputId": "98fcb319-1819-4d56-ff8e-567365671b2d"
      },
      "source": [
        "df.head()"
      ],
      "execution_count": 219,
      "outputs": [
        {
          "output_type": "execute_result",
          "data": {
            "text/html": [
              "<div>\n",
              "<style scoped>\n",
              "    .dataframe tbody tr th:only-of-type {\n",
              "        vertical-align: middle;\n",
              "    }\n",
              "\n",
              "    .dataframe tbody tr th {\n",
              "        vertical-align: top;\n",
              "    }\n",
              "\n",
              "    .dataframe thead th {\n",
              "        text-align: right;\n",
              "    }\n",
              "</style>\n",
              "<table border=\"1\" class=\"dataframe\">\n",
              "  <thead>\n",
              "    <tr style=\"text-align: right;\">\n",
              "      <th></th>\n",
              "      <th>vendor_id</th>\n",
              "      <th>passenger_count</th>\n",
              "      <th>pickup_longitude</th>\n",
              "      <th>pickup_latitude</th>\n",
              "      <th>dropoff_longitude</th>\n",
              "      <th>dropoff_latitude</th>\n",
              "      <th>trip_duration</th>\n",
              "      <th>pickup_hour</th>\n",
              "      <th>distance</th>\n",
              "      <th>pick_day_Monday</th>\n",
              "      <th>pick_day_Saturday</th>\n",
              "      <th>pick_day_Sunday</th>\n",
              "      <th>pick_day_Thursday</th>\n",
              "      <th>pick_day_Tuesday</th>\n",
              "      <th>pick_day_Wednesday</th>\n",
              "    </tr>\n",
              "  </thead>\n",
              "  <tbody>\n",
              "    <tr>\n",
              "      <th>0</th>\n",
              "      <td>2</td>\n",
              "      <td>1</td>\n",
              "      <td>-73.982155</td>\n",
              "      <td>40.767937</td>\n",
              "      <td>-73.964630</td>\n",
              "      <td>40.765602</td>\n",
              "      <td>455</td>\n",
              "      <td>17</td>\n",
              "      <td>1.498991</td>\n",
              "      <td>1</td>\n",
              "      <td>0</td>\n",
              "      <td>0</td>\n",
              "      <td>0</td>\n",
              "      <td>0</td>\n",
              "      <td>0</td>\n",
              "    </tr>\n",
              "    <tr>\n",
              "      <th>1</th>\n",
              "      <td>1</td>\n",
              "      <td>1</td>\n",
              "      <td>-73.980415</td>\n",
              "      <td>40.738564</td>\n",
              "      <td>-73.999481</td>\n",
              "      <td>40.731152</td>\n",
              "      <td>663</td>\n",
              "      <td>0</td>\n",
              "      <td>1.806074</td>\n",
              "      <td>0</td>\n",
              "      <td>0</td>\n",
              "      <td>1</td>\n",
              "      <td>0</td>\n",
              "      <td>0</td>\n",
              "      <td>0</td>\n",
              "    </tr>\n",
              "    <tr>\n",
              "      <th>2</th>\n",
              "      <td>2</td>\n",
              "      <td>1</td>\n",
              "      <td>-73.979027</td>\n",
              "      <td>40.763939</td>\n",
              "      <td>-74.005333</td>\n",
              "      <td>40.710087</td>\n",
              "      <td>2124</td>\n",
              "      <td>11</td>\n",
              "      <td>6.387103</td>\n",
              "      <td>0</td>\n",
              "      <td>0</td>\n",
              "      <td>0</td>\n",
              "      <td>0</td>\n",
              "      <td>1</td>\n",
              "      <td>0</td>\n",
              "    </tr>\n",
              "    <tr>\n",
              "      <th>3</th>\n",
              "      <td>2</td>\n",
              "      <td>1</td>\n",
              "      <td>-74.010040</td>\n",
              "      <td>40.719971</td>\n",
              "      <td>-74.012268</td>\n",
              "      <td>40.706718</td>\n",
              "      <td>429</td>\n",
              "      <td>19</td>\n",
              "      <td>1.485965</td>\n",
              "      <td>0</td>\n",
              "      <td>0</td>\n",
              "      <td>0</td>\n",
              "      <td>0</td>\n",
              "      <td>0</td>\n",
              "      <td>1</td>\n",
              "    </tr>\n",
              "    <tr>\n",
              "      <th>4</th>\n",
              "      <td>2</td>\n",
              "      <td>1</td>\n",
              "      <td>-73.973053</td>\n",
              "      <td>40.793209</td>\n",
              "      <td>-73.972923</td>\n",
              "      <td>40.782520</td>\n",
              "      <td>435</td>\n",
              "      <td>13</td>\n",
              "      <td>1.188962</td>\n",
              "      <td>0</td>\n",
              "      <td>1</td>\n",
              "      <td>0</td>\n",
              "      <td>0</td>\n",
              "      <td>0</td>\n",
              "      <td>0</td>\n",
              "    </tr>\n",
              "  </tbody>\n",
              "</table>\n",
              "</div>"
            ],
            "text/plain": [
              "   vendor_id  passenger_count  ...  pick_day_Tuesday  pick_day_Wednesday\n",
              "0          2                1  ...                 0                   0\n",
              "1          1                1  ...                 0                   0\n",
              "2          2                1  ...                 1                   0\n",
              "3          2                1  ...                 0                   1\n",
              "4          2                1  ...                 0                   0\n",
              "\n",
              "[5 rows x 15 columns]"
            ]
          },
          "metadata": {},
          "execution_count": 219
        }
      ]
    },
    {
      "cell_type": "code",
      "metadata": {
        "id": "6CcNA6EYZn1q",
        "colab": {
          "base_uri": "https://localhost:8080/",
          "height": 709
        },
        "outputId": "01031ab3-814e-488e-dd54-77a8745deea0"
      },
      "source": [
        "# correlation map\n",
        "plt.figure (figsize= (20,10))\n",
        "corelation= df.corr()\n",
        "sns.heatmap(abs(corelation), annot = True, vmin=-1, vmax=1, center= 0)\n"
      ],
      "execution_count": 268,
      "outputs": [
        {
          "output_type": "execute_result",
          "data": {
            "text/plain": [
              "<matplotlib.axes._subplots.AxesSubplot at 0x7f3ff4cef810>"
            ]
          },
          "metadata": {},
          "execution_count": 268
        },
        {
          "output_type": "display_data",
          "data": {
            "image/png": "[encoded data removed]",
            "text/plain": [
              "<Figure size 1440x720 with 2 Axes>"
            ]
          },
          "metadata": {
            "needs_background": "light"
          }
        }
      ]
    },
    {
      "cell_type": "code",
      "metadata": {
        "colab": {
          "base_uri": "https://localhost:8080/",
          "height": 530
        },
        "id": "eZx__f8ZcYLv",
        "outputId": "30f22141-1420-4746-f8e8-41f4f78a24a0"
      },
      "source": [
        "df.corr()"
      ],
      "execution_count": 221,
      "outputs": [
        {
          "output_type": "execute_result",
          "data": {
            "text/html": [
              "<div>\n",
              "<style scoped>\n",
              "    .dataframe tbody tr th:only-of-type {\n",
              "        vertical-align: middle;\n",
              "    }\n",
              "\n",
              "    .dataframe tbody tr th {\n",
              "        vertical-align: top;\n",
              "    }\n",
              "\n",
              "    .dataframe thead th {\n",
              "        text-align: right;\n",
              "    }\n",
              "</style>\n",
              "<table border=\"1\" class=\"dataframe\">\n",
              "  <thead>\n",
              "    <tr style=\"text-align: right;\">\n",
              "      <th></th>\n",
              "      <th>vendor_id</th>\n",
              "      <th>passenger_count</th>\n",
              "      <th>pickup_longitude</th>\n",
              "      <th>pickup_latitude</th>\n",
              "      <th>dropoff_longitude</th>\n",
              "      <th>dropoff_latitude</th>\n",
              "      <th>trip_duration</th>\n",
              "      <th>pickup_hour</th>\n",
              "      <th>distance</th>\n",
              "      <th>pick_day_Monday</th>\n",
              "      <th>pick_day_Saturday</th>\n",
              "      <th>pick_day_Sunday</th>\n",
              "      <th>pick_day_Thursday</th>\n",
              "      <th>pick_day_Tuesday</th>\n",
              "      <th>pick_day_Wednesday</th>\n",
              "    </tr>\n",
              "  </thead>\n",
              "  <tbody>\n",
              "    <tr>\n",
              "      <th>vendor_id</th>\n",
              "      <td>1.000000</td>\n",
              "      <td>0.287425</td>\n",
              "      <td>0.007823</td>\n",
              "      <td>0.001732</td>\n",
              "      <td>0.001526</td>\n",
              "      <td>0.004484</td>\n",
              "      <td>0.020296</td>\n",
              "      <td>0.009305</td>\n",
              "      <td>0.008114</td>\n",
              "      <td>-0.000498</td>\n",
              "      <td>0.000374</td>\n",
              "      <td>0.002932</td>\n",
              "      <td>-0.001477</td>\n",
              "      <td>0.001707</td>\n",
              "      <td>-0.001435</td>\n",
              "    </tr>\n",
              "    <tr>\n",
              "      <th>passenger_count</th>\n",
              "      <td>0.287425</td>\n",
              "      <td>1.000000</td>\n",
              "      <td>0.002181</td>\n",
              "      <td>-0.005148</td>\n",
              "      <td>-0.000336</td>\n",
              "      <td>-0.002786</td>\n",
              "      <td>0.008480</td>\n",
              "      <td>0.009085</td>\n",
              "      <td>0.010280</td>\n",
              "      <td>-0.009001</td>\n",
              "      <td>0.020808</td>\n",
              "      <td>0.015689</td>\n",
              "      <td>-0.008443</td>\n",
              "      <td>-0.008797</td>\n",
              "      <td>-0.009847</td>\n",
              "    </tr>\n",
              "    <tr>\n",
              "      <th>pickup_longitude</th>\n",
              "      <td>0.007823</td>\n",
              "      <td>0.002181</td>\n",
              "      <td>1.000000</td>\n",
              "      <td>0.022592</td>\n",
              "      <td>0.783580</td>\n",
              "      <td>0.100213</td>\n",
              "      <td>0.026515</td>\n",
              "      <td>0.010151</td>\n",
              "      <td>0.259792</td>\n",
              "      <td>0.016864</td>\n",
              "      <td>-0.017652</td>\n",
              "      <td>0.001632</td>\n",
              "      <td>-0.000820</td>\n",
              "      <td>0.005042</td>\n",
              "      <td>-0.001090</td>\n",
              "    </tr>\n",
              "    <tr>\n",
              "      <th>pickup_latitude</th>\n",
              "      <td>0.001732</td>\n",
              "      <td>-0.005148</td>\n",
              "      <td>0.022592</td>\n",
              "      <td>1.000000</td>\n",
              "      <td>0.114913</td>\n",
              "      <td>0.493994</td>\n",
              "      <td>-0.029175</td>\n",
              "      <td>0.010598</td>\n",
              "      <td>-0.210381</td>\n",
              "      <td>0.005005</td>\n",
              "      <td>-0.021456</td>\n",
              "      <td>-0.022958</td>\n",
              "      <td>0.009018</td>\n",
              "      <td>0.013784</td>\n",
              "      <td>0.012902</td>\n",
              "    </tr>\n",
              "    <tr>\n",
              "      <th>dropoff_longitude</th>\n",
              "      <td>0.001526</td>\n",
              "      <td>-0.000336</td>\n",
              "      <td>0.783580</td>\n",
              "      <td>0.114913</td>\n",
              "      <td>1.000000</td>\n",
              "      <td>0.124895</td>\n",
              "      <td>0.014650</td>\n",
              "      <td>-0.022459</td>\n",
              "      <td>0.134052</td>\n",
              "      <td>0.004915</td>\n",
              "      <td>-0.008744</td>\n",
              "      <td>0.006558</td>\n",
              "      <td>0.000730</td>\n",
              "      <td>-0.001494</td>\n",
              "      <td>-0.002483</td>\n",
              "    </tr>\n",
              "    <tr>\n",
              "      <th>dropoff_latitude</th>\n",
              "      <td>0.004484</td>\n",
              "      <td>-0.002786</td>\n",
              "      <td>0.100213</td>\n",
              "      <td>0.493994</td>\n",
              "      <td>0.124895</td>\n",
              "      <td>1.000000</td>\n",
              "      <td>-0.020649</td>\n",
              "      <td>0.013605</td>\n",
              "      <td>-0.142144</td>\n",
              "      <td>0.006674</td>\n",
              "      <td>-0.017654</td>\n",
              "      <td>-0.012244</td>\n",
              "      <td>0.003387</td>\n",
              "      <td>0.010959</td>\n",
              "      <td>0.009004</td>\n",
              "    </tr>\n",
              "    <tr>\n",
              "      <th>trip_duration</th>\n",
              "      <td>0.020296</td>\n",
              "      <td>0.008480</td>\n",
              "      <td>0.026515</td>\n",
              "      <td>-0.029175</td>\n",
              "      <td>0.014650</td>\n",
              "      <td>-0.020649</td>\n",
              "      <td>1.000000</td>\n",
              "      <td>0.003684</td>\n",
              "      <td>0.094790</td>\n",
              "      <td>-0.004542</td>\n",
              "      <td>-0.000917</td>\n",
              "      <td>-0.004337</td>\n",
              "      <td>0.003776</td>\n",
              "      <td>0.001843</td>\n",
              "      <td>0.001253</td>\n",
              "    </tr>\n",
              "    <tr>\n",
              "      <th>pickup_hour</th>\n",
              "      <td>0.009305</td>\n",
              "      <td>0.009085</td>\n",
              "      <td>0.010151</td>\n",
              "      <td>0.010598</td>\n",
              "      <td>-0.022459</td>\n",
              "      <td>0.013605</td>\n",
              "      <td>0.003684</td>\n",
              "      <td>1.000000</td>\n",
              "      <td>-0.015821</td>\n",
              "      <td>0.022441</td>\n",
              "      <td>-0.031142</td>\n",
              "      <td>-0.086862</td>\n",
              "      <td>0.031151</td>\n",
              "      <td>0.031389</td>\n",
              "      <td>0.029271</td>\n",
              "    </tr>\n",
              "    <tr>\n",
              "      <th>distance</th>\n",
              "      <td>0.008114</td>\n",
              "      <td>0.010280</td>\n",
              "      <td>0.259792</td>\n",
              "      <td>-0.210381</td>\n",
              "      <td>0.134052</td>\n",
              "      <td>-0.142144</td>\n",
              "      <td>0.094790</td>\n",
              "      <td>-0.015821</td>\n",
              "      <td>1.000000</td>\n",
              "      <td>0.011253</td>\n",
              "      <td>-0.010488</td>\n",
              "      <td>0.025418</td>\n",
              "      <td>-0.001966</td>\n",
              "      <td>-0.008908</td>\n",
              "      <td>-0.009155</td>\n",
              "    </tr>\n",
              "    <tr>\n",
              "      <th>pick_day_Monday</th>\n",
              "      <td>-0.000498</td>\n",
              "      <td>-0.009001</td>\n",
              "      <td>0.016864</td>\n",
              "      <td>0.005005</td>\n",
              "      <td>0.004915</td>\n",
              "      <td>0.006674</td>\n",
              "      <td>-0.004542</td>\n",
              "      <td>0.022441</td>\n",
              "      <td>0.011253</td>\n",
              "      <td>1.000000</td>\n",
              "      <td>-0.162193</td>\n",
              "      <td>-0.150994</td>\n",
              "      <td>-0.161201</td>\n",
              "      <td>-0.154277</td>\n",
              "      <td>-0.157526</td>\n",
              "    </tr>\n",
              "    <tr>\n",
              "      <th>pick_day_Saturday</th>\n",
              "      <td>0.000374</td>\n",
              "      <td>0.020808</td>\n",
              "      <td>-0.017652</td>\n",
              "      <td>-0.021456</td>\n",
              "      <td>-0.008744</td>\n",
              "      <td>-0.017654</td>\n",
              "      <td>-0.000917</td>\n",
              "      <td>-0.031142</td>\n",
              "      <td>-0.010488</td>\n",
              "      <td>-0.162193</td>\n",
              "      <td>1.000000</td>\n",
              "      <td>-0.166116</td>\n",
              "      <td>-0.177345</td>\n",
              "      <td>-0.169727</td>\n",
              "      <td>-0.173301</td>\n",
              "    </tr>\n",
              "    <tr>\n",
              "      <th>pick_day_Sunday</th>\n",
              "      <td>0.002932</td>\n",
              "      <td>0.015689</td>\n",
              "      <td>0.001632</td>\n",
              "      <td>-0.022958</td>\n",
              "      <td>0.006558</td>\n",
              "      <td>-0.012244</td>\n",
              "      <td>-0.004337</td>\n",
              "      <td>-0.086862</td>\n",
              "      <td>0.025418</td>\n",
              "      <td>-0.150994</td>\n",
              "      <td>-0.166116</td>\n",
              "      <td>1.000000</td>\n",
              "      <td>-0.165100</td>\n",
              "      <td>-0.158008</td>\n",
              "      <td>-0.161335</td>\n",
              "    </tr>\n",
              "    <tr>\n",
              "      <th>pick_day_Thursday</th>\n",
              "      <td>-0.001477</td>\n",
              "      <td>-0.008443</td>\n",
              "      <td>-0.000820</td>\n",
              "      <td>0.009018</td>\n",
              "      <td>0.000730</td>\n",
              "      <td>0.003387</td>\n",
              "      <td>0.003776</td>\n",
              "      <td>0.031151</td>\n",
              "      <td>-0.001966</td>\n",
              "      <td>-0.161201</td>\n",
              "      <td>-0.177345</td>\n",
              "      <td>-0.165100</td>\n",
              "      <td>1.000000</td>\n",
              "      <td>-0.168689</td>\n",
              "      <td>-0.172241</td>\n",
              "    </tr>\n",
              "    <tr>\n",
              "      <th>pick_day_Tuesday</th>\n",
              "      <td>0.001707</td>\n",
              "      <td>-0.008797</td>\n",
              "      <td>0.005042</td>\n",
              "      <td>0.013784</td>\n",
              "      <td>-0.001494</td>\n",
              "      <td>0.010959</td>\n",
              "      <td>0.001843</td>\n",
              "      <td>0.031389</td>\n",
              "      <td>-0.008908</td>\n",
              "      <td>-0.154277</td>\n",
              "      <td>-0.169727</td>\n",
              "      <td>-0.158008</td>\n",
              "      <td>-0.168689</td>\n",
              "      <td>1.000000</td>\n",
              "      <td>-0.164843</td>\n",
              "    </tr>\n",
              "    <tr>\n",
              "      <th>pick_day_Wednesday</th>\n",
              "      <td>-0.001435</td>\n",
              "      <td>-0.009847</td>\n",
              "      <td>-0.001090</td>\n",
              "      <td>0.012902</td>\n",
              "      <td>-0.002483</td>\n",
              "      <td>0.009004</td>\n",
              "      <td>0.001253</td>\n",
              "      <td>0.029271</td>\n",
              "      <td>-0.009155</td>\n",
              "      <td>-0.157526</td>\n",
              "      <td>-0.173301</td>\n",
              "      <td>-0.161335</td>\n",
              "      <td>-0.172241</td>\n",
              "      <td>-0.164843</td>\n",
              "      <td>1.000000</td>\n",
              "    </tr>\n",
              "  </tbody>\n",
              "</table>\n",
              "</div>"
            ],
            "text/plain": [
              "                    vendor_id  ...  pick_day_Wednesday\n",
              "vendor_id            1.000000  ...           -0.001435\n",
              "passenger_count      0.287425  ...           -0.009847\n",
              "pickup_longitude     0.007823  ...           -0.001090\n",
              "pickup_latitude      0.001732  ...            0.012902\n",
              "dropoff_longitude    0.001526  ...           -0.002483\n",
              "dropoff_latitude     0.004484  ...            0.009004\n",
              "trip_duration        0.020296  ...            0.001253\n",
              "pickup_hour          0.009305  ...            0.029271\n",
              "distance             0.008114  ...           -0.009155\n",
              "pick_day_Monday     -0.000498  ...           -0.157526\n",
              "pick_day_Saturday    0.000374  ...           -0.173301\n",
              "pick_day_Sunday      0.002932  ...           -0.161335\n",
              "pick_day_Thursday   -0.001477  ...           -0.172241\n",
              "pick_day_Tuesday     0.001707  ...           -0.164843\n",
              "pick_day_Wednesday  -0.001435  ...            1.000000\n",
              "\n",
              "[15 rows x 15 columns]"
            ]
          },
          "metadata": {},
          "execution_count": 221
        }
      ]
    },
    {
      "cell_type": "code",
      "metadata": {
        "id": "AErdifdBke5C"
      },
      "source": [
        "# dependent and independent features\n",
        "X = df.drop(['trip_duration'], axis=1)\n",
        "y = np.log10(df['trip_duration'])"
      ],
      "execution_count": 280,
      "outputs": []
    },
    {
      "cell_type": "code",
      "metadata": {
        "id": "dcZYMZo5A27l"
      },
      "source": [
        "# splitting the data into train test split\n",
        "from sklearn.model_selection import train_test_split\n",
        "X_train,X_test,y_train,y_test = train_test_split(X,y,test_size=0.2,random_state=12 )"
      ],
      "execution_count": 281,
      "outputs": []
    },
    {
      "cell_type": "code",
      "metadata": {
        "colab": {
          "base_uri": "https://localhost:8080/"
        },
        "id": "8K-lpBknJOZc",
        "outputId": "7ecf6397-4031-4f97-8cf1-74d71e7992f6"
      },
      "source": [
        "print(X_train.shape,y_train.shape)\n",
        "print(X_test.shape,y_test.shape)\n"
      ],
      "execution_count": 282,
      "outputs": [
        {
          "output_type": "stream",
          "name": "stdout",
          "text": [
            "(1166867, 10) (1166867,)\n",
            "(291717, 10) (291717,)\n"
          ]
        }
      ]
    },
    {
      "cell_type": "code",
      "metadata": {
        "id": "y_dPTHgsX-Ra"
      },
      "source": [
        "from sklearn.preprocessing import MinMaxScaler\n",
        "scaler = MinMaxScaler()\n",
        "X_train = scaler.fit_transform(X_train)\n",
        "X_test = scaler.transform(X_test)"
      ],
      "execution_count": 283,
      "outputs": []
    },
    {
      "cell_type": "code",
      "metadata": {
        "id": "Z3DC063ziA05"
      },
      "source": [
        "from sklearn.linear_model import LinearRegression\n",
        "from sklearn.metrics import r2_score\n",
        "from sklearn.metrics import mean_squared_error"
      ],
      "execution_count": 284,
      "outputs": []
    },
    {
      "cell_type": "code",
      "metadata": {
        "colab": {
          "base_uri": "https://localhost:8080/"
        },
        "id": "G15fQdgniAYa",
        "outputId": "4340a6d8-41d8-4ac9-fc86-bf87ecde81b1"
      },
      "source": [
        "regressor = LinearRegression()\n",
        "regressor.fit(X_train,y_train)"
      ],
      "execution_count": 285,
      "outputs": [
        {
          "output_type": "execute_result",
          "data": {
            "text/plain": [
              "LinearRegression(copy_X=True, fit_intercept=True, n_jobs=None, normalize=False)"
            ]
          },
          "metadata": {},
          "execution_count": 285
        }
      ]
    },
    {
      "cell_type": "code",
      "metadata": {
        "id": "Tm7w39wgEAMN"
      },
      "source": [
        "y_train_pred = regressor.predict(X_train)"
      ],
      "execution_count": 286,
      "outputs": []
    },
    {
      "cell_type": "code",
      "metadata": {
        "id": "tTb3qmhqEuMf"
      },
      "source": [
        "# predicting the test results \n",
        "y_pred = regressor.predict(X_test)"
      ],
      "execution_count": 287,
      "outputs": []
    },
    {
      "cell_type": "code",
      "metadata": {
        "colab": {
          "base_uri": "https://localhost:8080/"
        },
        "id": "c1EftQAzIhLq",
        "outputId": "03d9582d-1a9f-4996-8f62-6bba6ef8c844"
      },
      "source": [
        "y_train_pred"
      ],
      "execution_count": 288,
      "outputs": [
        {
          "output_type": "execute_result",
          "data": {
            "text/plain": [
              "array([3.14215052, 2.77286753, 3.16193979, ..., 2.62037521, 2.80319512,\n",
              "       2.70775757])"
            ]
          },
          "metadata": {},
          "execution_count": 288
        }
      ]
    },
    {
      "cell_type": "code",
      "metadata": {
        "colab": {
          "base_uri": "https://localhost:8080/"
        },
        "id": "c_OFDQI7Iqtd",
        "outputId": "1c5a6964-d8d3-4510-849a-d4a285d9cef5"
      },
      "source": [
        "y_train"
      ],
      "execution_count": 289,
      "outputs": [
        {
          "output_type": "execute_result",
          "data": {
            "text/plain": [
              "295759     3.350248\n",
              "1241227    2.818226\n",
              "856809     3.467164\n",
              "243501     3.377124\n",
              "392602     2.619093\n",
              "             ...   \n",
              "1245508    2.597695\n",
              "206086     2.963316\n",
              "36482      2.695482\n",
              "564482     2.823474\n",
              "1303995    2.474216\n",
              "Name: trip_duration, Length: 1166867, dtype: float64"
            ]
          },
          "metadata": {},
          "execution_count": 289
        }
      ]
    },
    {
      "cell_type": "code",
      "metadata": {
        "colab": {
          "base_uri": "https://localhost:8080/"
        },
        "id": "mbQ_8xQYa1f_",
        "outputId": "3ccb5a5b-757d-40ce-bd6d-658417d1bd4e"
      },
      "source": [
        "r2_score(y_train,y_train_pred)"
      ],
      "execution_count": 290,
      "outputs": [
        {
          "output_type": "execute_result",
          "data": {
            "text/plain": [
              "0.3348274564118846"
            ]
          },
          "metadata": {},
          "execution_count": 290
        }
      ]
    },
    {
      "cell_type": "code",
      "metadata": {
        "colab": {
          "base_uri": "https://localhost:8080/"
        },
        "id": "pJZEPEveHJ1A",
        "outputId": "029e1008-4322-451d-953a-43b5e8a40172"
      },
      "source": [
        "r2_score(y_test,y_pred)"
      ],
      "execution_count": 291,
      "outputs": [
        {
          "output_type": "execute_result",
          "data": {
            "text/plain": [
              "0.33956085396279967"
            ]
          },
          "metadata": {},
          "execution_count": 291
        }
      ]
    },
    {
      "cell_type": "code",
      "metadata": {
        "colab": {
          "base_uri": "https://localhost:8080/"
        },
        "id": "aMqDaoxQHKvz",
        "outputId": "1bdaa43e-b525-4928-c69a-9f9691b00c24"
      },
      "source": [
        "mean_squared_error(y_test,y_pred)"
      ],
      "execution_count": 292,
      "outputs": [
        {
          "output_type": "execute_result",
          "data": {
            "text/plain": [
              "0.07962908685297763"
            ]
          },
          "metadata": {},
          "execution_count": 292
        }
      ]
    },
    {
      "cell_type": "code",
      "metadata": {
        "colab": {
          "base_uri": "https://localhost:8080/"
        },
        "id": "iTsLaulDaCCK",
        "outputId": "7e9c69ce-0aa9-4bba-e8bc-f18de9aa129e"
      },
      "source": [
        "regressor.intercept_"
      ],
      "execution_count": 293,
      "outputs": [
        {
          "output_type": "execute_result",
          "data": {
            "text/plain": [
              "2.62730154491445"
            ]
          },
          "metadata": {},
          "execution_count": 293
        }
      ]
    },
    {
      "cell_type": "markdown",
      "metadata": {
        "id": "ucegwLRReAmg"
      },
      "source": [
        "**Lasso regression**"
      ]
    },
    {
      "cell_type": "code",
      "metadata": {
        "colab": {
          "base_uri": "https://localhost:8080/"
        },
        "id": "Bw8E3_-gc119",
        "outputId": "46a317ca-7df7-4480-fc2e-38ecb550255b"
      },
      "source": [
        "from sklearn.linear_model import Lasso\n",
        "from sklearn.model_selection import GridSearchCV\n",
        "\n",
        "lasso = Lasso()\n",
        "parameters = {'alpha': [1e-15,1e-13,1e-10,1e-8,1e-5,1e-4,1e-3,1e-2,1e-1,1,5,10,20,30,40,45,50,55,60,100]}\n",
        "\n",
        "lasso_regressor = GridSearchCV(estimator=lasso,param_grid = parameters , scoring='r2',cv=5)\n",
        "lasso_regressor.fit(X_train,y_train)"
      ],
      "execution_count": 294,
      "outputs": [
        {
          "output_type": "execute_result",
          "data": {
            "text/plain": [
              "GridSearchCV(cv=5, error_score=nan,\n",
              "             estimator=Lasso(alpha=1.0, copy_X=True, fit_intercept=True,\n",
              "                             max_iter=1000, normalize=False, positive=False,\n",
              "                             precompute=False, random_state=None,\n",
              "                             selection='cyclic', tol=0.0001, warm_start=False),\n",
              "             iid='deprecated', n_jobs=None,\n",
              "             param_grid={'alpha': [1e-15, 1e-13, 1e-10, 1e-08, 1e-05, 0.0001,\n",
              "                                   0.001, 0.01, 0.1, 1, 5, 10, 20, 30, 40, 45,\n",
              "                                   50, 55, 60, 100]},\n",
              "             pre_dispatch='2*n_jobs', refit=True, return_train_score=False,\n",
              "             scoring='r2', verbose=0)"
            ]
          },
          "metadata": {},
          "execution_count": 294
        }
      ]
    },
    {
      "cell_type": "code",
      "metadata": {
        "colab": {
          "base_uri": "https://localhost:8080/"
        },
        "id": "cm-TiRYPgziI",
        "outputId": "d70aac33-547f-4bca-a69c-cb721d44c637"
      },
      "source": [
        "lasso_regressor.best_params_"
      ],
      "execution_count": 295,
      "outputs": [
        {
          "output_type": "execute_result",
          "data": {
            "text/plain": [
              "{'alpha': 1e-05}"
            ]
          },
          "metadata": {},
          "execution_count": 295
        }
      ]
    },
    {
      "cell_type": "code",
      "metadata": {
        "colab": {
          "base_uri": "https://localhost:8080/"
        },
        "id": "7h6e8R0DiYTd",
        "outputId": "7bc46808-7001-4d57-a45d-928900c41702"
      },
      "source": [
        "lasso_regressor.best_score_"
      ],
      "execution_count": 296,
      "outputs": [
        {
          "output_type": "execute_result",
          "data": {
            "text/plain": [
              "0.3244601166796085"
            ]
          },
          "metadata": {},
          "execution_count": 296
        }
      ]
    },
    {
      "cell_type": "code",
      "metadata": {
        "colab": {
          "base_uri": "https://localhost:8080/"
        },
        "id": "8f04i3HNibFC",
        "outputId": "8d29577b-7b04-49e1-c505-86e39f762d8a"
      },
      "source": [
        "lasso_regressor.score(X_train,y_train)"
      ],
      "execution_count": 297,
      "outputs": [
        {
          "output_type": "execute_result",
          "data": {
            "text/plain": [
              "0.33475811989420823"
            ]
          },
          "metadata": {},
          "execution_count": 297
        }
      ]
    },
    {
      "cell_type": "code",
      "metadata": {
        "id": "kZVGUIfEip9K"
      },
      "source": [
        "y_pred_lasso_train = lasso_regressor.predict(X_train)"
      ],
      "execution_count": 298,
      "outputs": []
    },
    {
      "cell_type": "code",
      "metadata": {
        "id": "4Aklb_hai1f6"
      },
      "source": [
        "y_pred_lasso_test = lasso_regressor.predict(X_test)"
      ],
      "execution_count": 299,
      "outputs": []
    },
    {
      "cell_type": "code",
      "metadata": {
        "colab": {
          "base_uri": "https://localhost:8080/"
        },
        "id": "N5SuYwn2i6x1",
        "outputId": "cfcd4084-f311-46ef-d2cc-50ffa2720285"
      },
      "source": [
        "lasso_train_mse  = mean_squared_error(y_train, y_pred_lasso_train)\n",
        "print(\"Train MSE for lasso regression  :\" , lasso_train_mse)\n",
        "\n",
        "lasso_train_rmse = np.sqrt(lasso_train_mse)\n",
        "print(\"Train RMSE for lasso regression :\" ,lasso_train_rmse)\n",
        "\n",
        "lasso_train_r2 = r2_score(y_train, y_pred_lasso_train)\n",
        "print(\"Train R2 score for lasso regression :\" ,lasso_train_r2)\n",
        "\n",
        "lasso_train_r2_= 1-(1-r2_score(y_train, y_pred_lasso_train))*((X_train.shape[0]-1)/(X_train.shape[0]-X_train.shape[1]-1))\n",
        "print(\"Train Adjusted R2 score for lasso regression : \", lasso_train_r2)"
      ],
      "execution_count": 300,
      "outputs": [
        {
          "output_type": "stream",
          "name": "stdout",
          "text": [
            "Train MSE for lasso regression  : 0.0801423802713011\n",
            "Train RMSE for lasso regression : 0.283094295723706\n",
            "Train R2 score for lasso regression : 0.33475811989420823\n",
            "Train Adjusted R2 score for lasso regression :  0.33475811989420823\n"
          ]
        }
      ]
    },
    {
      "cell_type": "code",
      "metadata": {
        "colab": {
          "base_uri": "https://localhost:8080/"
        },
        "id": "Jb6Gu4IBpeFG",
        "outputId": "7731e0ef-4166-49fc-9af2-e914ab4d6f1b"
      },
      "source": [
        "# evaulating model on test dataset\n",
        "\n",
        "lasso_test_mse  = mean_squared_error(y_test, y_pred_lasso_test)\n",
        "print(\"Test MSE for lasso regression :\" , lasso_test_mse)\n",
        "\n",
        "lasso_test_rmse = np.sqrt(lasso_test_mse)\n",
        "print(\"Test RMSE for lasso regression :\" ,lasso_test_rmse)\n",
        "\n",
        "lasso_test_r2 = r2_score(y_test, y_pred_lasso_test)\n",
        "print(\"Test R2 for lasso regression :\" ,lasso_test_r2)\n",
        "\n",
        "lasso_test_r2_= 1-(1-r2_score(y_test, y_pred_lasso_test))*((X_test.shape[0]-1)/(X_test.shape[0]-X_test.shape[1]-1))\n",
        "print(\"Test Adjusted R2 for lasso regression: \", lasso_test_r2_)"
      ],
      "execution_count": 301,
      "outputs": [
        {
          "output_type": "stream",
          "name": "stdout",
          "text": [
            "Test MSE for lasso regression : 0.07965090661165551\n",
            "Test RMSE for lasso regression : 0.282224922024359\n",
            "Test R2 for lasso regression : 0.33937988211749204\n",
            "Test Adjusted R2 for lasso regression:  0.3393572353389588\n"
          ]
        }
      ]
    },
    {
      "cell_type": "code",
      "metadata": {
        "id": "yAeNF0vcvllc"
      },
      "source": [
        ""
      ],
      "execution_count": null,
      "outputs": []
    }
  ]
}